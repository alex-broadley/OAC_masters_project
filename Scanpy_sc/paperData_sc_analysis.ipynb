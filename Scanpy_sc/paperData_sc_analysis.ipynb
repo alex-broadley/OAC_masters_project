{
 "cells": [
  {
   "cell_type": "code",
   "execution_count": 1,
   "metadata": {},
   "outputs": [],
   "source": [
    "import scanpy as sc\n",
    "from scipy import sparse\n",
    "import numpy as np\n",
    "import anndata\n",
    "import pandas as pd\n",
    "import matplotlib.pyplot as plt\n",
    "import random\n",
    "\n",
    "random.seed(1432)"
   ]
  },
  {
   "cell_type": "code",
   "execution_count": 2,
   "metadata": {},
   "outputs": [],
   "source": [
    "adata = sc.read_h5ad(\"/Users/alex/Documents/BIOL0041-Project/OAC_masters_project/data/adata_with_rounded.h5ad\")"
   ]
  },
  {
   "cell_type": "code",
   "execution_count": 4,
   "metadata": {},
   "outputs": [
    {
     "data": {
      "text/plain": [
       "T               24998\n",
       "B                6856\n",
       "Fibroblast       4772\n",
       "Myeloid          3055\n",
       "NK               3013\n",
       "Endothelial      2781\n",
       "Plasmablast      2334\n",
       "Mast             1631\n",
       "Undetermined     1550\n",
       "Epithelial        961\n",
       "Cycling           436\n",
       "Name: ident, dtype: int64"
      ]
     },
     "execution_count": 4,
     "metadata": {},
     "output_type": "execute_result"
    }
   ],
   "source": [
    "adata.obs.ident.value_counts()"
   ]
  },
  {
   "cell_type": "markdown",
   "metadata": {},
   "source": [
    "\n",
    "#### subsample from other categories for normal cell reference"
   ]
  },
  {
   "cell_type": "markdown",
   "metadata": {},
   "source": [
    "# Depricated - converting count matrices to sparse -- didn't reduce file size"
   ]
  },
  {
   "cell_type": "code",
   "execution_count": null,
   "metadata": {},
   "outputs": [],
   "source": [
    "adata.X = adata.X.todense()"
   ]
  },
  {
   "cell_type": "code",
   "execution_count": null,
   "metadata": {},
   "outputs": [],
   "source": [
    "adata.layers[\"rounded_raw_counts\"] = adata.X.round()"
   ]
  },
  {
   "cell_type": "code",
   "execution_count": null,
   "metadata": {},
   "outputs": [],
   "source": [
    "adata.layers[\"rounded_raw_counts\"] = sparse.csr_matrix(adata.layers[\"rounded_raw_counts\"])"
   ]
  },
  {
   "cell_type": "code",
   "execution_count": null,
   "metadata": {},
   "outputs": [],
   "source": [
    "sparse_X = sparse.csr_matrix(adata.X)\n",
    "adata.X = sparse_X"
   ]
  },
  {
   "cell_type": "code",
   "execution_count": null,
   "metadata": {},
   "outputs": [],
   "source": [
    "adata.write(\"/Users/alex/Documents/BIOL0041-Project/OAC_masters_project/data/adata_with_rounded.h5ad\")"
   ]
  },
  {
   "cell_type": "code",
   "execution_count": null,
   "metadata": {},
   "outputs": [],
   "source": [
    "adata"
   ]
  },
  {
   "cell_type": "markdown",
   "metadata": {},
   "source": [
    "# Data exploration"
   ]
  },
  {
   "cell_type": "code",
   "execution_count": null,
   "metadata": {},
   "outputs": [],
   "source": [
    "adata.obs['highLevelType'].value_counts()"
   ]
  },
  {
   "cell_type": "code",
   "execution_count": null,
   "metadata": {},
   "outputs": [],
   "source": [
    "adata.obs['ident'].value_counts()"
   ]
  },
  {
   "cell_type": "code",
   "execution_count": null,
   "metadata": {},
   "outputs": [],
   "source": [
    "adata.obs['tissueType'].value_counts()"
   ]
  },
  {
   "cell_type": "code",
   "execution_count": null,
   "metadata": {},
   "outputs": [],
   "source": [
    "adata.obs['orig.ident'].value_counts()"
   ]
  },
  {
   "cell_type": "markdown",
   "metadata": {},
   "source": [
    "# Exporting/subsetting data"
   ]
  },
  {
   "cell_type": "code",
   "execution_count": 5,
   "metadata": {},
   "outputs": [],
   "source": [
    "adata.obs['cell_ids'] = adata.obs.index"
   ]
  },
  {
   "cell_type": "code",
   "execution_count": 6,
   "metadata": {},
   "outputs": [
    {
     "data": {
      "text/plain": [
       "AAACCCAAGGAGACCT-1_1      AAACCCAAGGAGACCT-1_1\n",
       "AAACCCAGTAGACAGC-1_1      AAACCCAGTAGACAGC-1_1\n",
       "AAACCCAGTAGATCGG-1_1      AAACCCAGTAGATCGG-1_1\n",
       "AAACCCAGTATCACCA-1_1      AAACCCAGTATCACCA-1_1\n",
       "AAACCCAGTTGGAGGT-1_1      AAACCCAGTTGGAGGT-1_1\n",
       "                                 ...          \n",
       "TTTGGTTCATTGAAGA-1_10    TTTGGTTCATTGAAGA-1_10\n",
       "TTTGGTTGTTGTCCCT-1_10    TTTGGTTGTTGTCCCT-1_10\n",
       "TTTGGTTGTTTGACAC-1_10    TTTGGTTGTTTGACAC-1_10\n",
       "TTTGTTGAGGGTCAAC-1_10    TTTGTTGAGGGTCAAC-1_10\n",
       "TTTGTTGCATGGAGAC-1_10    TTTGTTGCATGGAGAC-1_10\n",
       "Name: cell_ids, Length: 52387, dtype: object"
      ]
     },
     "execution_count": 6,
     "metadata": {},
     "output_type": "execute_result"
    }
   ],
   "source": [
    "adata.obs['cell_ids']"
   ]
  },
  {
   "cell_type": "markdown",
   "metadata": {},
   "source": [
    "## Raw epithelial counts for use w/ SCEVAN"
   ]
  },
  {
   "cell_type": "code",
   "execution_count": 7,
   "metadata": {},
   "outputs": [
    {
     "data": {
      "text/plain": [
       "T               24998\n",
       "B                6856\n",
       "Fibroblast       4772\n",
       "Myeloid          3055\n",
       "NK               3013\n",
       "Endothelial      2781\n",
       "Plasmablast      2334\n",
       "Mast             1631\n",
       "Undetermined     1550\n",
       "Epithelial        961\n",
       "Cycling           436\n",
       "Name: highLevelType, dtype: int64"
      ]
     },
     "execution_count": 7,
     "metadata": {},
     "output_type": "execute_result"
    }
   ],
   "source": [
    "adata.obs['highLevelType'].value_counts()"
   ]
  },
  {
   "cell_type": "code",
   "execution_count": 3,
   "metadata": {},
   "outputs": [],
   "source": [
    "epithelial_adata = adata[adata.obs[\"highLevelType\"] == \"Epithelial\"]"
   ]
  },
  {
   "cell_type": "code",
   "execution_count": 20,
   "metadata": {},
   "outputs": [],
   "source": [
    "epithelial_adata = epithelial_adata[epithelial_adata.obs['tissueType'] != 'N']"
   ]
  },
  {
   "cell_type": "code",
   "execution_count": 21,
   "metadata": {},
   "outputs": [
    {
     "name": "stderr",
     "output_type": "stream",
     "text": [
      "/var/folders/gv/57z5thfs7kqfq2njhk1gg9jc0000gn/T/ipykernel_21444/511049948.py:1: ImplicitModificationWarning: Setting element `.layers['raw_counts']` of view, initializing view as actual.\n",
      "  epithelial_adata.layers['raw_counts'] = epithelial_adata.X\n"
     ]
    }
   ],
   "source": [
    "epithelial_adata.layers['raw_counts'] = epithelial_adata.X"
   ]
  },
  {
   "cell_type": "code",
   "execution_count": 22,
   "metadata": {},
   "outputs": [],
   "source": [
    "epithelial_adata.X = epithelial_adata.layers['rounded_raw_counts']"
   ]
  },
  {
   "cell_type": "code",
   "execution_count": 23,
   "metadata": {},
   "outputs": [
    {
     "data": {
      "text/plain": [
       "23007.0"
      ]
     },
     "execution_count": 23,
     "metadata": {},
     "output_type": "execute_result"
    }
   ],
   "source": [
    "epithelial_adata.X.max()"
   ]
  },
  {
   "cell_type": "code",
   "execution_count": 24,
   "metadata": {},
   "outputs": [
    {
     "data": {
      "text/plain": [
       "Index(['AL627309.1', 'AL669831.5', 'LINC00115', 'FAM41C', 'AL645608.1',\n",
       "       'SAMD11', 'NOC2L', 'KLHL17', 'PLEKHN1', 'PERM1',\n",
       "       ...\n",
       "       'AC004471.1', 'IGLV11-55', 'RNF185-AS1', 'IGLCOR22-2', 'APOL5',\n",
       "       'AP000322.2', 'LINC00322', 'LINC00319', 'LINC00315', 'LINC00316'],\n",
       "      dtype='object', length=25815)"
      ]
     },
     "execution_count": 24,
     "metadata": {},
     "output_type": "execute_result"
    }
   ],
   "source": [
    "epithelial_adata.var.index"
   ]
  },
  {
   "cell_type": "code",
   "execution_count": 25,
   "metadata": {},
   "outputs": [],
   "source": [
    "#Extract raw counts from adata.X or adata.layers[\"raw\"]\n",
    "raw_counts = pd.DataFrame(epithelial_adata.X.toarray().T, index=epithelial_adata.var.index, columns=epithelial_adata.obs.cell_ids)\n",
    "raw_counts.to_csv(\"epi_raw_counts_matrix.csv\", sep=\",\", index=True, header=True)"
   ]
  },
  {
   "cell_type": "code",
   "execution_count": null,
   "metadata": {},
   "outputs": [],
   "source": [
    "epi_df = pd.DataFrame(epithelial_adata.obs)"
   ]
  },
  {
   "cell_type": "code",
   "execution_count": 123,
   "metadata": {},
   "outputs": [],
   "source": [
    "epi_df['donor_chemo'] = epi_df['donor'].astype(str)+ epi_df['tumor'].astype(str)"
   ]
  },
  {
   "cell_type": "code",
   "execution_count": 124,
   "metadata": {},
   "outputs": [
    {
     "data": {
      "text/plain": [
       "Pt2normal      212\n",
       "Pt7tumor       209\n",
       "Pt3normal      114\n",
       "Pt7filtered    108\n",
       "Pt8normal       42\n",
       "Pt1tumor        41\n",
       "Pt6tumor        33\n",
       "Pt6normal       29\n",
       "Pt4tumor        26\n",
       "Pt4filtered     21\n",
       "Pt5tumor        21\n",
       "Pt8tumor        14\n",
       "Pt1normal       13\n",
       "Pt6filtered     10\n",
       "Pt2tumor        10\n",
       "Pt4normal        8\n",
       "Pt7normal        8\n",
       "Pt2filtered      8\n",
       "Pt1filtered      8\n",
       "Pt5filtered      7\n",
       "Pt5normal        7\n",
       "Pt3tumor         7\n",
       "Pt8filtered      5\n",
       "Name: donor_chemo, dtype: int64"
      ]
     },
     "execution_count": 124,
     "metadata": {},
     "output_type": "execute_result"
    }
   ],
   "source": [
    "epi_df['donor_chemo'].value_counts()"
   ]
  },
  {
   "cell_type": "markdown",
   "metadata": {},
   "source": [
    "## Subsampling for healthy reference"
   ]
  },
  {
   "cell_type": "code",
   "execution_count": 4,
   "metadata": {},
   "outputs": [],
   "source": [
    "temp_adata = adata[adata.obs['tissueType'] == 'N']"
   ]
  },
  {
   "cell_type": "code",
   "execution_count": 5,
   "metadata": {},
   "outputs": [
    {
     "data": {
      "text/plain": [
       "B               2141\n",
       "Endothelial     1702\n",
       "T               1580\n",
       "Fibroblast       965\n",
       "Myeloid          365\n",
       "Plasmablast      355\n",
       "Undetermined     299\n",
       "NK               230\n",
       "Mast             170\n",
       "Epithelial        71\n",
       "Cycling           10\n",
       "Name: ident, dtype: int64"
      ]
     },
     "execution_count": 5,
     "metadata": {},
     "output_type": "execute_result"
    }
   ],
   "source": [
    "temp_adata.obs.ident.value_counts()"
   ]
  },
  {
   "cell_type": "code",
   "execution_count": 6,
   "metadata": {},
   "outputs": [],
   "source": [
    "temp_adata = temp_adata[temp_adata.obs['ident'] != 'Cycling']"
   ]
  },
  {
   "cell_type": "code",
   "execution_count": 7,
   "metadata": {},
   "outputs": [],
   "source": [
    "temp_adata = temp_adata[temp_adata.obs[\"highLevelType\"] != \"Undetermined\"]"
   ]
  },
  {
   "cell_type": "code",
   "execution_count": 8,
   "metadata": {},
   "outputs": [],
   "source": [
    "adata_df = pd.DataFrame(temp_adata.obs).reset_index()"
   ]
  },
  {
   "cell_type": "code",
   "execution_count": 9,
   "metadata": {},
   "outputs": [],
   "source": [
    "normal_ref = adata_df.groupby('highLevelType').sample(50)['index']"
   ]
  },
  {
   "cell_type": "code",
   "execution_count": 10,
   "metadata": {},
   "outputs": [
    {
     "data": {
      "text/plain": [
       "450"
      ]
     },
     "execution_count": 10,
     "metadata": {},
     "output_type": "execute_result"
    }
   ],
   "source": [
    "len(list(normal_ref))"
   ]
  },
  {
   "cell_type": "code",
   "execution_count": 11,
   "metadata": {},
   "outputs": [],
   "source": [
    "normal_ref.to_csv(\"normal_cell_ids.csv\", sep=\",\")"
   ]
  },
  {
   "cell_type": "code",
   "execution_count": 12,
   "metadata": {},
   "outputs": [
    {
     "data": {
      "text/plain": [
       "961"
      ]
     },
     "execution_count": 12,
     "metadata": {},
     "output_type": "execute_result"
    }
   ],
   "source": [
    "epi_cell_ids = list(epithelial_adata.obs.index)\n",
    "len(epi_cell_ids)"
   ]
  },
  {
   "cell_type": "code",
   "execution_count": 13,
   "metadata": {},
   "outputs": [],
   "source": [
    "normal_epi_ids = list(normal_ref) + epi_cell_ids"
   ]
  },
  {
   "cell_type": "code",
   "execution_count": 14,
   "metadata": {},
   "outputs": [
    {
     "data": {
      "text/plain": [
       "1411"
      ]
     },
     "execution_count": 14,
     "metadata": {},
     "output_type": "execute_result"
    }
   ],
   "source": [
    "len(normal_epi_ids)"
   ]
  },
  {
   "cell_type": "markdown",
   "metadata": {},
   "source": [
    "## Raw counts w/ healthy cells"
   ]
  },
  {
   "cell_type": "code",
   "execution_count": 15,
   "metadata": {},
   "outputs": [],
   "source": [
    "mask = adata.obs.index.isin(normal_epi_ids)"
   ]
  },
  {
   "cell_type": "code",
   "execution_count": 21,
   "metadata": {},
   "outputs": [],
   "source": [
    "raw_counts_to_export = adata[mask].copy()"
   ]
  },
  {
   "cell_type": "code",
   "execution_count": 17,
   "metadata": {},
   "outputs": [],
   "source": [
    "raw_counts_to_export.X = raw_counts_to_export.layers['rounded_raw_counts']"
   ]
  },
  {
   "cell_type": "code",
   "execution_count": 19,
   "metadata": {},
   "outputs": [],
   "source": [
    "raw_counts_to_export = pd.DataFrame(raw_counts_to_export.X.toarray().T, index=raw_counts_to_export.var.index, columns=raw_counts_to_export.obs.index)\n",
    "raw_counts_to_export.to_csv(\"epi_normal_raw_counts.csv\", sep=\",\", index=True, header=True)"
   ]
  },
  {
   "cell_type": "markdown",
   "metadata": {},
   "source": [
    "# Integrating SCEVAN output"
   ]
  },
  {
   "cell_type": "code",
   "execution_count": 9,
   "metadata": {},
   "outputs": [],
   "source": [
    "epithelial_adata = adata[adata.obs[\"ident\"] == \"Epithelial\"]"
   ]
  },
  {
   "cell_type": "code",
   "execution_count": 11,
   "metadata": {},
   "outputs": [],
   "source": [
    "SCEVAN_results = pd.read_csv('/Users/alex/Documents/BIOL0041-Project/OAC_masters_project/data/SCEVAN_results.csv', header=None)"
   ]
  },
  {
   "cell_type": "code",
   "execution_count": 13,
   "metadata": {},
   "outputs": [],
   "source": [
    "SCEVAN_results = SCEVAN_results.drop(0)"
   ]
  },
  {
   "cell_type": "code",
   "execution_count": 14,
   "metadata": {},
   "outputs": [],
   "source": [
    "SCEVAN_results = SCEVAN_results[[0,1,3]]"
   ]
  },
  {
   "cell_type": "code",
   "execution_count": 19,
   "metadata": {},
   "outputs": [
    {
     "name": "stdout",
     "output_type": "stream",
     "text": [
      "{'AAACGCTTCATCTACT-1_1': 'tumor', 'AAAGTGATCAACGCTA-1_1': 'tumor', 'AACCATGTCGAATGCT-1_1': 'tumor', 'AACGGGATCTTCCTAA-1_1': 'tumor', 'AAGGAATAGAAATCCA-1_1': 'normal', 'AAGTTCGAGCCGGATA-1_1': 'tumor', 'AATGGAACATCACGGC-1_1': 'tumor', 'ACCGTTCTCCTATGGA-1_1': 'filtered', 'ACTCTCGTCGTTGTAG-1_1': 'tumor', 'AGCATCACACGGAAGT-1_1': 'tumor', 'ATACCGATCCTTCTTC-1_1': 'normal', 'ATACCTTGTCTGATCA-1_1': 'normal', 'ATCGGATGTCCCTAAA-1_1': 'filtered', 'ATGCCTCAGTGCTCGC-1_1': 'tumor', 'ATTCCATGTAGAATGT-1_1': 'tumor', 'ATTCTTGCATGACCCG-1_1': 'normal', 'ATTTCACGTCCTACGG-1_1': 'normal', 'CACGGGTGTGTAGTGG-1_1': 'filtered', 'CATAAGCGTACGCTAT-1_1': 'tumor', 'CATGAGTTCTCAGTCC-1_1': 'tumor', 'CATGCGGCACATGACT-1_1': 'tumor', 'CCACACTGTGGCTTAT-1_1': 'normal', 'CCTTGTGCAACTGGTT-1_1': 'tumor', 'CCTTTGGGTTGAAGTA-1_1': 'tumor', 'CTAGACACACAGCTTA-1_1': 'tumor', 'CTATAGGCAGTCGTTA-1_1': 'normal', 'CTCATCGCACATTACG-1_1': 'filtered', 'CTCCCTCTCCCAAGTA-1_1': 'tumor', 'CTGCCATAGGGTTAAT-1_1': 'tumor', 'CTTTCGGCACTCCACT-1_1': 'normal', 'GAATCGTGTTCTATCT-1_1': 'tumor', 'GACCAATTCGCAACAT-1_1': 'tumor', 'GACTCAACAAGAGAGA-1_1': 'tumor', 'GAGTCTAAGCAATTCC-1_1': 'tumor', 'GCACTAATCACCGGTG-1_1': 'tumor', 'GCAGCCAGTGAGAACC-1_1': 'tumor', 'GCATTAGGTTGCTCAA-1_1': 'tumor', 'GTCACGGAGCTAAATG-1_1': 'normal', 'GTCGAATAGAAACCAT-1_1': 'filtered', 'GTCGTAAAGATCCCGC-1_1': 'tumor', 'GTCTAGAGTTGCGTAT-1_1': 'tumor', 'GTTAGACGTCGATGCC-1_1': 'tumor', 'GTTCTATCAGTTGTTG-1_1': 'tumor', 'GTTGAACTCGACCAAT-1_1': 'normal', 'GTTTACTTCGACATTG-1_1': 'normal', 'TACACCCTCTTAGCTT-1_1': 'filtered', 'TCACAAGAGCAGCACA-1_1': 'tumor', 'TCACTATCACCAAATC-1_1': 'tumor', 'TCAGCAAGTGAGGAAA-1_1': 'tumor', 'TCATTACCACCCTAGG-1_1': 'tumor', 'TCTACCGTCATCCTGC-1_1': 'tumor', 'TGAGTCAGTTTGTTGG-1_1': 'tumor', 'TGCGGCACAATTCTTC-1_1': 'normal', 'TGGATGTTCACACCGG-1_1': 'tumor', 'TGGTACACAACCGACC-1_1': 'tumor', 'TGTCCTGTCGGAGCAA-1_1': 'tumor', 'TTCGCTGAGGTAAGTT-1_1': 'filtered', 'TTGTTCACACGTACAT-1_1': 'filtered', 'TTTACCAAGACTTCCA-1_1': 'normal', 'TTTAGTCCAACTTCTT-1_1': 'tumor', 'TTTAGTCTCAAGCCCG-1_1': 'tumor', 'TTTCACAGTCATGGCC-1_1': 'tumor', 'AAACCCAGTCGTGGTC-1_2': 'normal', 'AAAGAACCACTAACCA-1_2': 'normal', 'AAAGAACTCAGCTCTC-1_2': 'filtered', 'AAAGGATTCACTTATC-1_2': 'normal', 'AAAGTCCTCGGATACT-1_2': 'normal', 'AACGGGAAGTAGAGTT-1_2': 'normal', 'AAGCCATGTAAGATTG-1_2': 'normal', 'AAGCCATGTCCACAGC-1_2': 'normal', 'AAGGAATAGAATCGCG-1_2': 'normal', 'AAGGAATGTTGTACGT-1_2': 'normal', 'AAGTACCAGCGTTACT-1_2': 'normal', 'AAGTTCGGTTAGAGTA-1_2': 'normal', 'AATGAAGGTTGCTAGT-1_2': 'normal', 'ACAACCATCATCGGGC-1_2': 'normal', 'ACACGCGAGCTGTGCC-1_2': 'normal', 'ACATTTCCAGACCGCT-1_2': 'normal', 'ACCATTTCAACCGCTG-1_2': 'normal', 'ACGATGTCACAGCATT-1_2': 'filtered', 'ACGGAAGGTGACTAAA-1_2': 'normal', 'ACGGGTCAGTGTAGTA-1_2': 'normal', 'ACGGTCGTCGATTCCC-1_2': 'normal', 'ACTACGAGTTTACCTT-1_2': 'normal', 'ACTGATGAGGGTCAAC-1_2': 'normal', 'ACTGTCCAGATGAAGG-1_2': 'normal', 'ACTGTCCTCTGGACCG-1_2': 'normal', 'ACTTATCTCCTCAGAA-1_2': 'normal', 'ACTTCCGAGTCGCTAT-1_2': 'normal', 'ACTTTGTTCCATCTCG-1_2': 'normal', 'AGAAATGAGCTCACTA-1_2': 'normal', 'AGAGCAGTCTAGGCCG-1_2': 'normal', 'AGCATCAGTACGTGAG-1_2': 'normal', 'AGCCACGCATACTTTC-1_2': 'normal', 'AGCGCCAGTGAGAGGG-1_2': 'normal', 'AGCGCCATCCCTTTGG-1_2': 'normal', 'AGCGCTGCAACCGTGC-1_2': 'filtered', 'AGCGTATAGCTCCATA-1_2': 'normal', 'AGCTTCCGTGAGGAAA-1_2': 'normal', 'AGGGTTTCAATTGCGT-1_2': 'normal', 'AGGTTACAGTGCAACG-1_2': 'normal', 'AGTACCAGTAGATCCT-1_2': 'normal', 'AGTCATGTCCTAACAG-1_2': 'normal', 'AGTGTTGGTGGCAACA-1_2': 'normal', 'ATACTTCCAGGCACTC-1_2': 'normal', 'ATAGACCTCAGCTTGA-1_2': 'normal', 'ATCATTCGTCAACGCC-1_2': 'normal', 'ATCCGTCCATTATGCG-1_2': 'normal', 'ATGAGGGCAGCTGGTC-1_2': 'normal', 'ATTCCTAAGCTTTCTT-1_2': 'normal', 'ATTCCTATCGTGCACG-1_2': 'normal', 'ATTGTTCAGTACAACA-1_2': 'normal', 'ATTTACCCATGGGTTT-1_2': 'normal', 'CAACCAACAGTACTAC-1_2': 'normal', 'CAACCAATCGATACGT-1_2': 'normal', 'CAACGATTCCTACACC-1_2': 'normal', 'CAAGACTGTTATCTTC-1_2': 'normal', 'CAATTTCCATGTGGTT-1_2': 'normal', 'CACTGTCAGACATACA-1_2': 'normal', 'CAGATACTCTCGTCAC-1_2': 'normal', 'CAGCAATAGTAAGCAT-1_2': 'normal', 'CAGTTCCTCACTCTTA-1_2': 'tumor', 'CATACCCTCGCCTTTG-1_2': 'normal', 'CATGCAATCAATCGGT-1_2': 'normal', 'CATGCGGCAAATGCTC-1_2': 'normal', 'CATGCTCAGTGTACAA-1_2': 'filtered', 'CATTGTTTCACCCATC-1_2': 'normal', 'CCACACTAGGACACTG-1_2': 'normal', 'CCACCATAGAGCACTG-1_2': 'normal', 'CCACTTGAGACCATGG-1_2': 'normal', 'CCCATTGTCGCTCATC-1_2': 'normal', 'CCCTCTCAGACTCTTG-1_2': 'normal', 'CCGTAGGCAATGAAAC-1_2': 'tumor', 'CCTCAGTCACGCGCTA-1_2': 'normal', 'CCTCCTCTCGCCTTTG-1_2': 'normal', 'CCTCTAGTCGACGAGA-1_2': 'normal', 'CCTGTTGAGGGAGAAT-1_2': 'normal', 'CCTGTTGCATAACAGA-1_2': 'normal', 'CCTTCAGAGGGTTGCA-1_2': 'normal', 'CGAAGGAAGCCTCTCT-1_2': 'normal', 'CGAAGTTCACGACGTC-1_2': 'normal', 'CGAGTGCAGGTACTGG-1_2': 'normal', 'CGATCGGAGACCAAAT-1_2': 'normal', 'CGCAGGTGTCTTCGAA-1_2': 'normal', 'CGCCATTAGTCTGGAG-1_2': 'normal', 'CGGGACTGTATTCTCT-1_2': 'normal', 'CGTCCATGTATCATGC-1_2': 'normal', 'CGTGAATGTTGAATCC-1_2': 'normal', 'CGTGCTTTCGCCTATC-1_2': 'normal', 'CGTTAGAAGGGCAACT-1_2': 'normal', 'CGTTAGATCTATACGG-1_2': 'normal', 'CTACAGACACGACGCT-1_2': 'normal', 'CTACATTGTACTGTTG-1_2': 'normal', 'CTCAAGAGTCTTGCGG-1_2': 'normal', 'CTCAGAAAGCGTCAAG-1_2': 'normal', 'CTCCACACAGAGCGTA-1_2': 'normal', 'CTCCATGAGGAGGGTG-1_2': 'normal', 'CTGAATGGTTGGGACA-1_2': 'normal', 'CTGATCCTCGCGAAGA-1_2': 'normal', 'CTGCAGGAGTAGAGTT-1_2': 'normal', 'CTGCAGGGTGGGCTCT-1_2': 'normal', 'CTGGACGCACATATGC-1_2': 'normal', 'CTGGACGGTCGTAATC-1_2': 'normal', 'CTGTATTCAGAGTCTT-1_2': 'normal', 'CTTAGGACACCGTGGT-1_2': 'normal', 'CTTCAATAGACGTCGA-1_2': 'normal', 'CTTGAGAAGCCTCCAG-1_2': 'normal', 'CTTGAGAGTGGGTATG-1_2': 'normal', 'CTTTCGGTCGTCGCTT-1_2': 'normal', 'GAAATGAGTCAGGTAG-1_2': 'normal', 'GAACGTTAGGGTGAGG-1_2': 'normal', 'GAACGTTGTGACTAAA-1_2': 'normal', 'GACCGTGCACGCCACA-1_2': 'normal', 'GACCGTGCAGAGCGTA-1_2': 'normal', 'GACCTTCTCTGTACAG-1_2': 'normal', 'GACTATGCACAAACGG-1_2': 'normal', 'GACTATGCAGCTGAAG-1_2': 'normal', 'GACTGATCACAGCATT-1_2': 'normal', 'GACTGATCAGTTTCGA-1_2': 'normal', 'GAGACTTGTTAGGAGC-1_2': 'normal', 'GAGCCTGGTACGATTC-1_2': 'normal', 'GAGGGATCAAGCCCAC-1_2': 'normal', 'GAGGGTAAGGATACAT-1_2': 'normal', 'GAGTCATTCCGTAGGC-1_2': 'normal', 'GAGTGAGCATACATCG-1_2': 'normal', 'GAGTGAGTCGTTCTGC-1_2': 'normal', 'GAGTTGTCACAGTGTT-1_2': 'normal', 'GATAGCTAGTTCCATG-1_2': 'normal', 'GATCGTAAGGCCTTCG-1_2': 'normal', 'GATCGTATCCATACTT-1_2': 'normal', 'GATTCTTAGACGGAAA-1_2': 'normal', 'GATTGGTTCCTAGCCT-1_2': 'normal', 'GCACGGTCACAATTCG-1_2': 'normal', 'GCAGCCAGTGGATTTC-1_2': 'normal', 'GCAGCTGTCGTTGTGA-1_2': 'normal', 'GCCGTGACAGAGAATT-1_2': 'tumor', 'GCGAGAAAGGTAAAGG-1_2': 'normal', 'GCGATCGTCAAAGGAT-1_2': 'normal', 'GCGGAAAGTAGGCAAC-1_2': 'tumor', 'GCTACCTTCTGACAGT-1_2': 'normal', 'GCTCAAATCAAGCTGT-1_2': 'normal', 'GCTGAATAGCCGGAAT-1_2': 'normal', 'GCTGAATCAGCAGACA-1_2': 'normal', 'GCTTTCGCAGCGATTT-1_2': 'filtered', 'GGAGCAAGTCCGGACT-1_2': 'tumor', 'GGAGGATAGAATTGCA-1_2': 'normal', 'GGGACTCTCCCATGGG-1_2': 'normal', 'GGGCTACAGGGTGAGG-1_2': 'normal', 'GGGTCACTCTCTAAGG-1_2': 'normal', 'GGGTGAACAGGTCAAG-1_2': 'normal', 'GGGTTATAGGCTTTCA-1_2': 'normal', 'GTAAGTCCAACTAGAA-1_2': 'normal', 'GTAAGTCCAGCGTTTA-1_2': 'normal', 'GTAATCGCACTGTCCT-1_2': 'normal', 'GTAATGCGTCTGTTAG-1_2': 'normal', 'GTACAGTGTGGATGAC-1_2': 'normal', 'GTCCACTTCCGTCAAA-1_2': 'normal', 'GTCTACCAGAAGGCTC-1_2': 'normal', 'GTCTAGAGTCCAATCA-1_2': 'normal', 'GTCTGTCGTAGACGGT-1_2': 'normal', 'GTCTGTCTCCATCCGT-1_2': 'filtered', 'GTCTGTCTCCCGTTGT-1_2': 'normal', 'GTGCGTGCACCAGTTA-1_2': 'normal', 'GTGGTTATCCGAACGC-1_2': 'normal', 'GTGTCCTGTGGAGGTT-1_2': 'normal', 'GTTAGACCAAATGGAT-1_2': 'normal', 'GTTATGGGTACCTAAC-1_2': 'normal', 'GTTATGGGTGATATAG-1_2': 'tumor', 'GTTCTATAGTCGCCAC-1_2': 'normal', 'GTTGCGGCACATGAAA-1_2': 'normal', 'GTTGTAGGTTGCTAGT-1_2': 'normal', 'GTTTGGAGTGAGATAT-1_2': 'normal', 'TAACGACGTCCTGGTG-1_2': 'normal', 'TAACTTCAGATTGACA-1_2': 'normal', 'TAACTTCGTCGAGCTC-1_2': 'normal', 'TAATTCCCACGAGGTA-1_2': 'normal', 'TACAACGCATTGGCAT-1_2': 'normal', 'TACAGGTTCGTTACCC-1_2': 'normal', 'TACATTCGTACGATTC-1_2': 'normal', 'TACCCGTGTCCACACG-1_2': 'tumor', 'TAGATCGTCTTAGCCC-1_2': 'normal', 'TAGGGTTTCCTGTAGA-1_2': 'normal', 'TATACCTGTTTAAGGA-1_2': 'normal', 'TATATCCTCTGCGGGT-1_2': 'normal', 'TATCGCCCATTGAAAG-1_2': 'normal', 'TATCGCCGTGTAAATG-1_2': 'normal', 'TATTGGGCACGCGTGT-1_2': 'tumor', 'TATTTCGGTAGCGCCT-1_2': 'normal', 'TCAAGCAGTGGTAACG-1_2': 'normal', 'TCACATTAGACTTAAG-1_2': 'normal', 'TCACGGGAGGTAGGCT-1_2': 'normal', 'TCACTCGAGGGAGGCA-1_2': 'normal', 'TCAGCAAGTCAGTCCG-1_2': 'tumor', 'TCCAGAATCATCTACT-1_2': 'normal', 'TCCTCCCAGGCACAAC-1_2': 'filtered', 'TCCTCCCGTGTTCCAA-1_2': 'normal', 'TCCTCGAGTTGGATCT-1_2': 'normal', 'TCGATTTAGAAGTCCG-1_2': 'normal', 'TCGCACTTCTAGTGTG-1_2': 'normal', 'TCGGGTGTCGGAGTGA-1_2': 'normal', 'TCTACCGCATTGTGCA-1_2': 'normal', 'TCTACCGGTACGACTT-1_2': 'normal', 'TCTATACTCGATTCCC-1_2': 'tumor', 'TCTGCCAGTAATTGGA-1_2': 'normal', 'TCTGTCGGTCCACATA-1_2': 'normal', 'TCTTAGTTCGCATGAT-1_2': 'normal', 'TGACAGTAGCTAGAAT-1_2': 'filtered', 'TGACAGTCAAGACGAC-1_2': 'normal', 'TGAGCGCGTGGACTAG-1_2': 'normal', 'TGCAGGCAGCGACTTT-1_2': 'normal', 'TGCTGAAAGAGAGGTA-1_2': 'normal', 'TGGGCGTTCCCTGTTG-1_2': 'normal', 'TGGTTAGAGAGTTGAT-1_2': 'normal', 'TGTAGACTCCTTGAAG-1_2': 'normal', 'TGTCCCACATGGAACG-1_2': 'normal', 'TGTGCGGGTAGCACAG-1_2': 'normal', 'TTAATCCCATCTATCT-1_2': 'normal', 'TTCATTGTCCGATGTA-1_2': 'normal', 'TTCGGTCTCGCTGTCT-1_2': 'normal', 'TTGAACGAGTATTCCG-1_2': 'normal', 'TTGATGGTCGGTATGT-1_2': 'normal', 'TTGCTGCAGCACTCGC-1_2': 'normal', 'TTGGGTATCGTTGTTT-1_2': 'normal', 'TTGGTTTTCACTTGTT-1_2': 'normal', 'TTGTTCATCTTGCGCT-1_2': 'normal', 'TTGTTGTAGTGGTTCT-1_2': 'normal', 'TTTATGCCATGACGGA-1_2': 'normal', 'TTTCAGTCAAATTGCC-1_2': 'normal', 'TTTCAGTGTGCACAAG-1_2': 'normal', 'TTTCCTCCATCCGGTG-1_2': 'normal', 'TTTGTTGCAGAACTTC-1_2': 'normal', 'TTTGTTGCATTGCCGG-1_2': 'normal', 'AAACCCATCACTAGCA-1_3': 'normal', 'AAGGTAACATTATGCG-1_3': 'normal', 'AAGTGAACACGCCACA-1_3': 'normal', 'AATTCCTCATCCAACA-1_3': 'normal', 'ACACGCGGTAGGGTAC-1_3': 'normal', 'ACACTGACAGGGTTGA-1_3': 'normal', 'ACCAACAAGGCCACCT-1_3': 'normal', 'ACCGTTCCACCATTCC-1_3': 'normal', 'ACCTGAAAGTAACGTA-1_3': 'normal', 'ACTGTCCTCTTAGCCC-1_3': 'tumor', 'ACTTTCAAGCTCCATA-1_3': 'normal', 'ACTTTGTAGACTTCGT-1_3': 'normal', 'AGAAGTAAGAAGCCAC-1_3': 'normal', 'AGATCCACAAATGCGG-1_3': 'normal', 'AGGAATACACCAGTTA-1_3': 'normal', 'AGTCACAAGCGACATG-1_3': 'normal', 'AGTCTCCGTCCCTGTT-1_3': 'normal', 'ATCACAGTCGGTTCAA-1_3': 'normal', 'ATCCATTAGCATCAGG-1_3': 'normal', 'ATCCATTTCCGAAATC-1_3': 'normal', 'ATCCGTCCAAGGGCAT-1_3': 'normal', 'ATCCGTCCATCATTTC-1_3': 'normal', 'ATCGTAGCATTGCAAC-1_3': 'normal', 'ATGGAGGGTGATACCT-1_3': 'normal', 'ATTATCCGTGACCGTC-1_3': 'normal', 'CAACAGTAGAAAGTCT-1_3': 'normal', 'CAATGACAGATCCCAT-1_3': 'normal', 'CACATGATCGAAACAA-1_3': 'normal', 'CACCGTTCACGTTGGC-1_3': 'normal', 'CACTAAGAGCCGGATA-1_3': 'normal', 'CAGCAATCAACAGCTT-1_3': 'normal', 'CAGCACGTCTCAGTCC-1_3': 'normal', 'CATGAGTAGTTACGTC-1_3': 'tumor', 'CCATCACTCTTGAACG-1_3': 'normal', 'CCGTAGGCACTCTGCT-1_3': 'normal', 'CCTATCGGTACAATAG-1_3': 'normal', 'CCTCAACTCTAGCCTC-1_3': 'normal', 'CCTCAGTGTAGAGACC-1_3': 'normal', 'CGAGGCTTCATGCATG-1_3': 'normal', 'CGAGTTAAGTAAAGCT-1_3': 'normal', 'CGTCAAAGTCCAGAAG-1_3': 'normal', 'CGTGTCTAGAACGTGC-1_3': 'normal', 'CTAACTTAGTTACGGG-1_3': 'normal', 'CTACAGATCTGTCAGA-1_3': 'tumor', 'CTACATTGTTGGAGAC-1_3': 'normal', 'CTACCCAAGTTGCCTA-1_3': 'normal', 'CTACGGGAGTGCTCGC-1_3': 'normal', 'CTCAACCAGTCTTGGT-1_3': 'normal', 'CTCCCAAAGCGCCATC-1_3': 'normal', 'CTGAGGCCAACCACGC-1_3': 'normal', 'CTGCATCAGGATACCG-1_3': 'normal', 'CTGGCAGCACCATTCC-1_3': 'normal', 'CTTCTCTGTGACGCCT-1_3': 'normal', 'CTTGATTAGTGATTCC-1_3': 'normal', 'GAACTGTGTGATACAA-1_3': 'normal', 'GAAGAATAGAGTCGAC-1_3': 'normal', 'GAAGCGATCCGGCAGT-1_3': 'normal', 'GACGTTATCTTAATCC-1_3': 'normal', 'GACTATGAGCGGGTAT-1_3': 'normal', 'GATAGCTAGCACGGAT-1_3': 'normal', 'GATCAGTTCTGCCTCA-1_3': 'tumor', 'GCAACATAGCAACAGC-1_3': 'normal', 'GCATTAGGTTCCGCAG-1_3': 'normal', 'GCATTAGTCAGACCCG-1_3': 'normal', 'GCCAGCACAGGTTCCG-1_3': 'normal', 'GCGATCGCAGCTGTAT-1_3': 'normal', 'GCGTGCAAGCTAGAGC-1_3': 'normal', 'GCGTTTCCAGTTACCA-1_3': 'normal', 'GCTGGGTCACCAGGTC-1_3': 'normal', 'GGAATGGCAGGAGGAG-1_3': 'normal', 'GGGAAGTCAAACTCGT-1_3': 'normal', 'GGGCCATTCATACGGT-1_3': 'normal', 'GGGCTACGTGTCCTAA-1_3': 'normal', 'GGGTCTGTCGGTTCAA-1_3': 'normal', 'GGGTGAATCGACGCGT-1_3': 'normal', 'GGTGATTAGATTGACA-1_3': 'normal', 'GGTTAACCAAGCTCTA-1_3': 'normal', 'GGTTCTCAGACTACGG-1_3': 'normal', 'GTAGTACAGCTCCACG-1_3': 'normal', 'GTCAAACAGGCAATGC-1_3': 'normal', 'GTCATGATCTGGCCTT-1_3': 'normal', 'GTGGAAGCAGCTATAC-1_3': 'normal', 'GTGGAAGCATAAGCGG-1_3': 'normal', 'GTGTAACGTCCGTTTC-1_3': 'tumor', 'GTGTGGCCAGAGATTA-1_3': 'normal', 'GTTACAGGTGCTCCGA-1_3': 'normal', 'GTTTACTTCGCTGTTC-1_3': 'normal', 'TAATTCCAGAGGTCGT-1_3': 'normal', 'TACAGGTAGAGTGACC-1_3': 'normal', 'TACAGGTGTGGTACAG-1_3': 'normal', 'TACGGGCCACTACACA-1_3': 'normal', 'TAGGTACGTATGAGAT-1_3': 'normal', 'TAGGTACGTGTCCACG-1_3': 'normal', 'TATCAGGTCTGGGAGA-1_3': 'normal', 'TATCTGTGTACTGCGC-1_3': 'normal', 'TCACACCAGCGTGAAC-1_3': 'normal', 'TCACGGGCAGAACGCA-1_3': 'normal', 'TCAGTCCTCTCCGAAA-1_3': 'tumor', 'TCATGGATCTTCCGTG-1_3': 'normal', 'TCATGTTGTCCGTACG-1_3': 'normal', 'TCCAGAACATCCTGTC-1_3': 'normal', 'TCCTCGATCGCCGTGA-1_3': 'normal', 'TCCTCGATCTTGCAAG-1_3': 'normal', 'TCGAACAAGCATTTCG-1_3': 'tumor', 'TCGTAGACACAGTATC-1_3': 'normal', 'TCGTCCAGTTATCTTC-1_3': 'normal', 'TCTTGCGTCACTTGGA-1_3': 'normal', 'TGACCCTCACTCAGAT-1_3': 'normal', 'TGAGGAGCAATGCTCA-1_3': 'normal', 'TGTGTGAAGTGCGCTC-1_3': 'normal', 'TGTTTGTGTCCTCAGG-1_3': 'normal', 'TTCATTGTCAAGTGGG-1_3': 'normal', 'TTCCAATCAAGCGGAT-1_3': 'normal', 'TTCTAGTTCTGAATCG-1_3': 'normal', 'TTGCCTGGTGACCGAA-1_3': 'normal', 'TTGCGTCGTCGCAACC-1_3': 'normal', 'TTGTTCAGTAGAATAC-1_3': 'normal', 'TTTACTGAGTAACGTA-1_3': 'normal', 'TTTATGCCAATTCACG-1_3': 'normal', 'TTTATGCCAGGTGGAT-1_3': 'normal', 'TTTCACAGTCTAACTG-1_3': 'normal', 'AAGTGAATCAAAGCCT-1_4': 'normal', 'ACACAGTCAATGTCAC-1_4': 'tumor', 'ACAGAAATCCAACACA-1_4': 'filtered', 'ACCAAACCAACCTAAC-1_4': 'filtered', 'ACTCCCAAGCGTTACT-1_4': 'normal', 'ACTTTGTAGAGCAGCT-1_4': 'filtered', 'ACTTTGTAGGCGCTTC-1_4': 'tumor', 'AGCGCCACACATTCGA-1_4': 'filtered', 'AGGGTCCCAAAGGGCT-1_4': 'filtered', 'AGTGTTGGTGAGCTCC-1_4': 'tumor', 'AGTTAGCCAGTAGAAT-1_4': 'filtered', 'ATATCCTTCGGTCTAA-1_4': 'tumor', 'ATCGGATTCCATTGTT-1_4': 'filtered', 'ATGACCACATTGAGCT-1_4': 'tumor', 'ATTACCTCATCGATCA-1_4': 'normal', 'ATTCCATTCCCTCGAT-1_4': 'filtered', 'ATTCTACAGGTCACAG-1_4': 'tumor', 'CACCGTTCACAATTCG-1_4': 'filtered', 'CACGGGTCACTGGCCA-1_4': 'tumor', 'CATCCGTTCGGTCTAA-1_4': 'tumor', 'CCATCACCAGAACCGA-1_4': 'filtered', 'CCCTCAAAGTTCATCG-1_4': 'tumor', 'CCGGTGACAATCGAAA-1_4': 'filtered', 'CCTTCAGAGCACCGAA-1_4': 'tumor', 'CCTTTGGAGGACTGGT-1_4': 'filtered', 'CGATGCGCAACTTGCA-1_4': 'tumor', 'CGATGGCTCACCTACC-1_4': 'tumor', 'CGCGTGAAGTAGTGCG-1_4': 'filtered', 'CTAACTTGTTCTCTAT-1_4': 'normal', 'CTCTGGTAGTCTAACC-1_4': 'filtered', 'CTGTGAAAGGTCTGGA-1_4': 'tumor', 'CTTCCGACAAACTCGT-1_4': 'normal', 'CTTGAGAAGTCTTGGT-1_4': 'tumor', 'GACCCTTAGCCGCACT-1_4': 'tumor', 'GATGAGGAGGTGCTTT-1_4': 'normal', 'GATGGAGCAAATTGCC-1_4': 'filtered', 'GGAATCTAGAAGCGGG-1_4': 'tumor', 'GGGAGATGTTTCGTTT-1_4': 'tumor', 'GTCACGGCATCAGTCA-1_4': 'tumor', 'GTGGAGACATTGCTTT-1_4': 'tumor', 'GTTGAACCAACGGCCT-1_4': 'filtered', 'GTTGCTCTCGGACGTC-1_4': 'filtered', 'TAACGACCAAGTGGGT-1_4': 'filtered', 'TACAGGTTCATCTATC-1_4': 'tumor', 'TAGACCATCCTTCGAC-1_4': 'filtered', 'TCCGGGACAGACACCC-1_4': 'filtered', 'TCCGGGATCCAAACCA-1_4': 'tumor', 'TCGACGGCAGGTTCCG-1_4': 'normal', 'TCGATTTGTGTAGGAC-1_4': 'tumor', 'TGCTGAAAGTGCCTCG-1_4': 'tumor', 'TGTAGACGTATCGAGG-1_4': 'filtered', 'TTGCTGCGTGGGAGAG-1_4': 'tumor', 'TTGTTGTTCCGGTAAT-1_4': 'tumor', 'TTGTTTGTCAATCCGA-1_4': 'tumor', 'TTTCATGCATCATGAC-1_4': 'normal', 'AAAGGGCCAAACGAGC-1_5': 'tumor', 'AACGGGACAAAGTATG-1_5': 'tumor', 'AGGGTGACACATTCTT-1_5': 'tumor', 'ATTCTTGAGGAATTAC-1_5': 'tumor', 'ATTTCACGTCATAACC-1_5': 'tumor', 'CAGATTGAGTCATTGC-1_5': 'tumor', 'CATAGACGTTCTTCAT-1_5': 'filtered', 'CATCGCTGTAACCCTA-1_5': 'filtered', 'CATGCCTAGGGCATGT-1_5': 'filtered', 'CGCAGGTTCTCCGAGG-1_5': 'tumor', 'CGGAACCCACTCCTTG-1_5': 'tumor', 'CTACAGACAATGGGTG-1_5': 'tumor', 'CTGCCTATCTCACCCA-1_5': 'tumor', 'GACTATGTCCAACTGA-1_5': 'tumor', 'GAGAAATTCTGGCTGG-1_5': 'normal', 'GCAGTTAAGGCACTAG-1_5': 'tumor', 'GCCGTGAGTCACTCTC-1_5': 'normal', 'GGTGATTGTAGACAAT-1_5': 'filtered', 'GGTTCTCTCCTCACGT-1_5': 'filtered', 'GTAAGTCGTCGAACAG-1_5': 'filtered', 'GTTACAGGTGACTAAA-1_5': 'filtered', 'TATATCCAGTCCCGGT-1_5': 'tumor', 'TATCGCCGTTGTTGTG-1_5': 'tumor', 'TCATGCCAGTAGGTTA-1_5': 'normal', 'TCGAAGTGTCAGTCTA-1_5': 'normal', 'TCGCAGGCATAAGCGG-1_5': 'tumor', 'TCGGGACAGGGCAGGA-1_5': 'normal', 'TCGGTCTCAGCTGTAT-1_5': 'normal', 'TCTACATGTTAATCGC-1_5': 'tumor', 'TGAATCGAGGACTAAT-1_5': 'tumor', 'TGAGGGATCAGAGCAG-1_5': 'tumor', 'TGGAGAGCACGCTGAC-1_5': 'tumor', 'TGGAGAGCAGACGGAT-1_5': 'tumor', 'TGGAGAGGTTATAGCC-1_5': 'normal', 'TTCTAACAGGTTATAG-1_5': 'tumor', 'AAAGGTACACCAGCGT-1_6': 'tumor', 'AAATGGATCATTGGTG-1_6': 'normal', 'AAGCGTTGTGCCCACA-1_6': 'normal', 'AATCACGAGGTATCTC-1_6': 'normal', 'AATGCCACATTAGGAA-1_6': 'tumor', 'ACTATTCCACGTTGGC-1_6': 'tumor', 'AGCTTCCGTTGCCGCA-1_6': 'tumor', 'AGGACGATCCGAACGC-1_6': 'normal', 'AGGACTTGTGTCTAAC-1_6': 'normal', 'ATAGAGAGTCCACGCA-1_6': 'tumor', 'ATGATCGCATAGTCAC-1_6': 'normal', 'ATGTCTTTCTCCTGTG-1_6': 'tumor', 'ATTCAGGAGACCAACG-1_6': 'normal', 'ATTCCCGCATAAGCGG-1_6': 'tumor', 'ATTCCTAAGTGTCATC-1_6': 'tumor', 'ATTCTACGTTACACAC-1_6': 'normal', 'ATTGTTCAGAACGTGC-1_6': 'normal', 'CAATACGTCGGTGTAT-1_6': 'normal', 'CACGTTCCAGGTGACA-1_6': 'tumor', 'CAGAGCCGTAGGCAGT-1_6': 'tumor', 'CAGCACGGTCCGACGT-1_6': 'tumor', 'CAGCACGTCTGCGAGC-1_6': 'tumor', 'CAGTTAGAGCGTTAGG-1_6': 'filtered', 'CATCCCATCGGTTCAA-1_6': 'normal', 'CATCGCTCAATGAGCG-1_6': 'tumor', 'CCCTCAACATCGAGCC-1_6': 'normal', 'CCGGTGACAAATGAAC-1_6': 'filtered', 'CCGTAGGCAATAGTCC-1_6': 'tumor', 'CCGTGAGCAGCTAACT-1_6': 'filtered', 'CCTCACACAAGTGGAC-1_6': 'tumor', 'CGATGGCTCGGCCAAC-1_6': 'tumor', 'CGTCCATCATACACCA-1_6': 'normal', 'CTACAGACATGAATCC-1_6': 'tumor', 'CTACGGGCAGAATTCC-1_6': 'tumor', 'CTCAACCAGTCGAAAT-1_6': 'filtered', 'CTCCATGCAAGCTCTA-1_6': 'tumor', 'CTGCAGGGTACTTGTG-1_6': 'tumor', 'CTTCTCTGTCTGTCAA-1_6': 'tumor', 'GAAGGGTTCTTCCTAA-1_6': 'filtered', 'GACGTTAGTGAGCCAA-1_6': 'tumor', 'GACTCAACAGGCTACC-1_6': 'tumor', 'GAGGGATGTCTTACTT-1_6': 'tumor', 'GAGTTGTCATGTGTCA-1_6': 'normal', 'GATTTCTAGTTACGAA-1_6': 'normal', 'GCCCGAACAATTCTTC-1_6': 'normal', 'GCTGCAGGTACAAGTA-1_6': 'normal', 'GGACGTCAGGAACGTC-1_6': 'tumor', 'GGGTCACTCGTCTACC-1_6': 'tumor', 'GTCCCATCACATCATG-1_6': 'normal', 'GTCTAGACAAACTCGT-1_6': 'filtered', 'GTCTCACGTTGCTGAT-1_6': 'tumor', 'GTTACCCTCACGTAGT-1_6': 'filtered', 'GTTGCTCTCAGGAGAC-1_6': 'normal', 'GTTTGGAAGAGCATAT-1_6': 'normal', 'GTTTGGACATCCCACT-1_6': 'tumor', 'TAAGCACGTTCGGCTG-1_6': 'filtered', 'TAATCTCGTAGTGCGA-1_6': 'normal', 'TACACCCGTCGCATCG-1_6': 'filtered', 'TATCGCCGTCACATTG-1_6': 'normal', 'TCTGTCGCACTCCGAG-1_6': 'tumor', 'TGACAGTGTCTAGGCC-1_6': 'normal', 'TGACCCTTCTGCTGAA-1_6': 'normal', 'TGCAGTAGTTGACTGT-1_6': 'normal', 'TGGTGATAGGAGATAG-1_6': 'normal', 'TTACGTTAGGTGCCAA-1_6': 'tumor', 'TTCTTGAAGTAAACTG-1_6': 'normal', 'TTCTTGATCTAAGCCA-1_6': 'tumor', 'TTGATGGCACTCAAGT-1_6': 'tumor', 'TTGCCTGCAGTGCGCT-1_6': 'normal', 'TTGCGTCGTTAGTCGT-1_6': 'filtered', 'TTTAGTCCAAATCGTC-1_6': 'tumor', 'TTTCACATCTCATTTG-1_6': 'normal', 'AACCAACCATTCAGGT-1_7': 'tumor', 'AACCCAACACGGTAGA-1_7': 'normal', 'ACCCAAATCCTCAGGG-1_7': 'tumor', 'ACCTACCCAGCCGTCA-1_7': 'normal', 'AGCGCTGAGCAATTCC-1_7': 'normal', 'ATAGAGATCCGAAATC-1_7': 'tumor', 'CCTCACACATAGCACT-1_7': 'filtered', 'CCTCTCCAGCGTGTCC-1_7': 'normal', 'CTAACTTCACTGCATA-1_7': 'filtered', 'CTCCACAGTTCAAGGG-1_7': 'tumor', 'CTGCCATTCCCGTAAA-1_7': 'filtered', 'CTGTAGAAGCCAGTAG-1_7': 'normal', 'GCTTCACAGAGCATTA-1_7': 'tumor', 'GGCAGTCTCCATCGTC-1_7': 'filtered', 'GGGCCATTCTATACTC-1_7': 'tumor', 'GGTCTGGTCCAACCAA-1_7': 'tumor', 'GGTGGCTAGGCAGGTT-1_7': 'normal', 'GTGTGGCGTAGAGTTA-1_7': 'filtered', 'TACATTCCAAAGGCTG-1_7': 'normal', 'TAGGGTTTCTACACTT-1_7': 'tumor', 'TATCTTGGTCAGCTTA-1_7': 'filtered', 'TATTGGGTCGACTCCT-1_7': 'tumor', 'TCATTACCACAACGCC-1_7': 'tumor', 'TCGCTTGTCAGTGTTG-1_7': 'normal', 'AAACCCATCTCGGGAC-1_8': 'tumor', 'AAACGAAAGGTAATCA-1_8': 'filtered', 'AAACGCTAGTCTGGAG-1_8': 'filtered', 'AAAGTGACATGAAAGT-1_8': 'filtered', 'AAATGGACAGCTTTGA-1_8': 'tumor', 'AACAACCCAACAGCCC-1_8': 'tumor', 'AACAACCTCTCCCATG-1_8': 'filtered', 'AACAGGGAGGTGCATG-1_8': 'filtered', 'AACCAACCACACCTGG-1_8': 'tumor', 'AACCAACCATGGCGCT-1_8': 'tumor', 'AACTTCTAGGCTTTCA-1_8': 'tumor', 'AAGATAGTCACCTTGC-1_8': 'tumor', 'AAGCGAGTCGAACACT-1_8': 'tumor', 'AAGCGTTAGTGGAAGA-1_8': 'tumor', 'AAGCGTTCACCTCAGG-1_8': 'tumor', 'AAGGTAAAGTGTTGAA-1_8': 'filtered', 'AAGTACCGTTGGGACA-1_8': 'filtered', 'AAGTGAAAGGTGCAGT-1_8': 'tumor', 'AATCACGTCGGTAACT-1_8': 'tumor', 'AATCGACCACAGTGTT-1_8': 'tumor', 'AATGAAGAGCCTTGAT-1_8': 'filtered', 'AATGAAGAGCGACAGT-1_8': 'tumor', 'AATGAAGTCATTTGGG-1_8': 'tumor', 'AATGGCTTCCCAACTC-1_8': 'tumor', 'ACAAGCTGTGCAACGA-1_8': 'filtered', 'ACAAGCTTCCGACAGC-1_8': 'filtered', 'ACACAGTTCAAGTGGG-1_8': 'tumor', 'ACACCAACACAGTCGC-1_8': 'tumor', 'ACACCAACATGGGTCC-1_8': 'tumor', 'ACATCCCTCGTTCTCG-1_8': 'tumor', 'ACATTTCAGAAATTCG-1_8': 'filtered', 'ACCACAAGTTGGAGAC-1_8': 'tumor', 'ACCCAAACATCGGAGA-1_8': 'filtered', 'ACCTACCCATACTGTG-1_8': 'filtered', 'ACGCACGAGATCGACG-1_8': 'tumor', 'ACGGAAGTCTGCACCT-1_8': 'tumor', 'ACGGTCGGTCACTCAA-1_8': 'tumor', 'ACGGTTATCAGTGTGT-1_8': 'tumor', 'ACTACGAGTCATCCCT-1_8': 'tumor', 'ACTATCTGTAGCTTGT-1_8': 'tumor', 'ACTATCTGTCTTTCAT-1_8': 'tumor', 'ACTCCCAAGAGGTTAT-1_8': 'tumor', 'ACTGCAACAACGACAG-1_8': 'filtered', 'ACTGTGATCACTGAAC-1_8': 'tumor', 'ACTTAGGCATCTGTTT-1_8': 'filtered', 'ACTTCCGGTTGCGTAT-1_8': 'filtered', 'ACTTCCGTCGGCATCG-1_8': 'tumor', 'ACTTTGTTCCAACCGG-1_8': 'tumor', 'AGAACCTAGGAAAGGT-1_8': 'filtered', 'AGAACCTGTTCGTTCC-1_8': 'tumor', 'AGACCATAGGGTACGT-1_8': 'tumor', 'AGCATCAAGTTTCGAC-1_8': 'tumor', 'AGCCAATGTGGGCTTC-1_8': 'tumor', 'AGCGATTAGACTTCAC-1_8': 'tumor', 'AGCGCTGAGCTGCCAC-1_8': 'filtered', 'AGCTACAAGCGCCTTG-1_8': 'tumor', 'AGCTACACACAAGTTC-1_8': 'filtered', 'AGGACTTTCGTTGTAG-1_8': 'tumor', 'AGGCCACCACTCGATA-1_8': 'filtered', 'AGGGCCTAGATTGAGT-1_8': 'filtered', 'AGGGTTTGTAGTACGG-1_8': 'tumor', 'AGGTAGGTCAGAATAG-1_8': 'tumor', 'AGGTCTACATCTCGTC-1_8': 'tumor', 'AGGTTACTCTGTGCTC-1_8': 'filtered', 'AGTCAACCACCTGTCT-1_8': 'filtered', 'AGTCACATCTCCGAAA-1_8': 'filtered', 'AGTGATCCAGGAGGAG-1_8': 'filtered', 'ATAGACCTCGCTACGG-1_8': 'filtered', 'ATAGAGATCATGCCCT-1_8': 'filtered', 'ATAGGCTCAGCTGAAG-1_8': 'tumor', 'ATCCATTAGGACCCAA-1_8': 'tumor', 'ATCCCTGAGGGCCAAT-1_8': 'tumor', 'ATCCGTCAGAGGCCAT-1_8': 'tumor', 'ATCGTGATCTACACTT-1_8': 'filtered', 'ATCTCTAGTATGTCCA-1_8': 'tumor', 'ATGATCGAGCAAGTCG-1_8': 'filtered', 'ATGGATCGTAAGCGGT-1_8': 'filtered', 'ATGTCTTGTAATTAGG-1_8': 'filtered', 'ATTCACTCACAAGCCC-1_8': 'filtered', 'ATTCAGGGTTGACTGT-1_8': 'tumor', 'ATTCCATCAGGTTACT-1_8': 'tumor', 'ATTCCCGAGTGGAATT-1_8': 'tumor', 'ATTCTACTCAAGGACG-1_8': 'filtered', 'ATTGGGTTCCGTATAG-1_8': 'tumor', 'ATTTACCGTCACTACA-1_8': 'tumor', 'ATTTCACCAGTTAGAA-1_8': 'tumor', 'ATTTCTGAGACCAAGC-1_8': 'tumor', 'CAACAGTTCCCGATCT-1_8': 'tumor', 'CAATCGAAGGTAAAGG-1_8': 'filtered', 'CACAGATTCACCGACG-1_8': 'tumor', 'CACAGATTCTTTGATC-1_8': 'tumor', 'CACAGGCAGAGTCTGG-1_8': 'tumor', 'CACATGACAAACGAGC-1_8': 'tumor', 'CACCAAATCCAAGCCG-1_8': 'tumor', 'CACTGGGTCCCTCTAG-1_8': 'tumor', 'CAGAGCCCAGTCTGGC-1_8': 'tumor', 'CAGAGCCCATAATGCC-1_8': 'tumor', 'CAGCAGCCAGATCACT-1_8': 'tumor', 'CAGCCAGTCCAGTGTA-1_8': 'tumor', 'CAGTTCCCATGTCAGT-1_8': 'tumor', 'CATAAGCGTTAGAAGT-1_8': 'tumor', 'CATACCCTCATGCCGG-1_8': 'tumor', 'CATACTTGTATCCTTT-1_8': 'filtered', 'CATCAAGAGATTGATG-1_8': 'filtered', 'CATCAAGCACTCCTGT-1_8': 'tumor', 'CATCCCACAGTCTCTC-1_8': 'tumor', 'CATCGGGCAGAGCCCT-1_8': 'tumor', 'CATGCCTCATCATCTT-1_8': 'tumor', 'CATGCCTGTCCGAAAG-1_8': 'tumor', 'CATGGTAGTGACACAG-1_8': 'filtered', 'CATTGTTGTGCTCTCT-1_8': 'filtered', 'CATTTCACAAATGGTA-1_8': 'tumor', 'CCAAGCGCAAGTGACG-1_8': 'tumor', 'CCAAGCGTCATCTACT-1_8': 'filtered', 'CCACAAACACCTGCTT-1_8': 'tumor', 'CCACGAGGTAAGCTCT-1_8': 'tumor', 'CCACTTGTCTGAATCG-1_8': 'tumor', 'CCCTAACGTGCTCTCT-1_8': 'tumor', 'CCGATGGGTTAGCTAC-1_8': 'tumor', 'CCGTAGGGTAGCCAGA-1_8': 'tumor', 'CCGTGAGCATTATGCG-1_8': 'filtered', 'CCTAACCCATCAGCGC-1_8': 'filtered', 'CCTGTTGAGTGGCCTC-1_8': 'tumor', 'CCTTGTGGTCACAGAG-1_8': 'filtered', 'CGAATTGTCTATCGGA-1_8': 'tumor', 'CGAGAAGTCTCTTAAC-1_8': 'filtered', 'CGGGTCAGTAAGCTCT-1_8': 'tumor', 'CGTAAGTCATTGTGCA-1_8': 'tumor', 'CGTAAGTTCTCCGCAT-1_8': 'tumor', 'CGTAGTAAGGTGAGAA-1_8': 'tumor', 'CGTAGTACAGGCATGA-1_8': 'tumor', 'CTAACCCGTCTAACGT-1_8': 'tumor', 'CTACTATTCCAAAGGG-1_8': 'filtered', 'CTATAGGGTAATTGGA-1_8': 'filtered', 'CTATCCGCACAATGAA-1_8': 'tumor', 'CTCAATTTCTTCTCAA-1_8': 'tumor', 'CTCAGGGGTTGATGTC-1_8': 'filtered', 'CTCATCGAGGCTTAGG-1_8': 'filtered', 'CTCATGCAGAGAGTGA-1_8': 'tumor', 'CTCTCAGAGAGGTTAT-1_8': 'tumor', 'CTGAGCGAGACACACG-1_8': 'filtered', 'CTGCAGGAGGTGGGTT-1_8': 'tumor', 'CTGTATTAGACTCGAG-1_8': 'tumor', 'CTGTATTCAGCTGTCG-1_8': 'tumor', 'CTGTGGGTCAGTGCGC-1_8': 'tumor', 'CTTCCTTCAAAGCTAA-1_8': 'tumor', 'CTTCTCTTCTACGCGG-1_8': 'tumor', 'CTTGATTCATCGCTGG-1_8': 'tumor', 'CTTTCAATCTCAACGA-1_8': 'tumor', 'GAAGCCCGTACCCGAC-1_8': 'filtered', 'GACCTTCTCATTTGTC-1_8': 'tumor', 'GACTATGAGCAAACAT-1_8': 'filtered', 'GACTCAAAGAATCGCG-1_8': 'filtered', 'GAGCTGCCAATACCTG-1_8': 'filtered', 'GAGCTGCCATTGTCGA-1_8': 'tumor', 'GAGGCCTTCGAGCCAC-1_8': 'tumor', 'GAGTTACAGTTGCTGT-1_8': 'tumor', 'GATCCCTCAGCTTTCC-1_8': 'tumor', 'GATGACTGTCGAACAG-1_8': 'filtered', 'GATGACTTCTTGGTCC-1_8': 'tumor', 'GATGCTAGTTCCCAAA-1_8': 'tumor', 'GATGGAGCAGCGGTTC-1_8': 'tumor', 'GATTGGTCACTTCTCG-1_8': 'tumor', 'GATTTCTCACATACGT-1_8': 'tumor', 'GCACATATCTCAGGCG-1_8': 'tumor', 'GCAGGCTGTTCGTGCG-1_8': 'filtered', 'GCAGTTAGTCGAACGA-1_8': 'tumor', 'GCATCTCGTCACCCTT-1_8': 'filtered', 'GCATGATAGGACAAGA-1_8': 'tumor', 'GCCCGAAAGCTGCGAA-1_8': 'tumor', 'GCCGATGGTTGTCATG-1_8': 'tumor', 'GCGGATCAGGGCTTCC-1_8': 'filtered', 'GCGTTTCAGTTCCTGA-1_8': 'tumor', 'GCTACCTAGAAGGCTC-1_8': 'tumor', 'GCTGGGTAGTAAGACT-1_8': 'filtered', 'GGAACCCTCGTTGTTT-1_8': 'tumor', 'GGAATGGAGGCTCAAG-1_8': 'tumor', 'GGCGTCAGTAACAGGC-1_8': 'filtered', 'GGCTTGGCACTGTGTA-1_8': 'filtered', 'GGGAAGTGTAACGTTC-1_8': 'filtered', 'GGGAGATTCTAGCCTC-1_8': 'tumor', 'GGGATGAAGGATGAGA-1_8': 'filtered', 'GGGATGAGTCTGCCTT-1_8': 'filtered', 'GGGCCATCAACGGCCT-1_8': 'tumor', 'GGGCGTTCAACCGGAA-1_8': 'tumor', 'GGGTAGATCCTGTTAT-1_8': 'tumor', 'GGGTGTCGTCGCGTCA-1_8': 'tumor', 'GGTAGAGGTATCTCGA-1_8': 'filtered', 'GGTCTGGCAGTAGGAC-1_8': 'filtered', 'GGTGAAGCATTCAGCA-1_8': 'filtered', 'GGTGTTACATACACCA-1_8': 'filtered', 'GGTGTTAGTGGAAATT-1_8': 'tumor', 'GTAAGTCGTTTGGAAA-1_8': 'tumor', 'GTACAACCACTGCTTC-1_8': 'tumor', 'GTACAACGTTGCAACT-1_8': 'tumor', 'GTAGGAGAGACCAGCA-1_8': 'tumor', 'GTAGGAGGTCTTGAGT-1_8': 'tumor', 'GTAGGTTAGGCATCTT-1_8': 'tumor', 'GTCAAACCAACTGTGT-1_8': 'tumor', 'GTCATTTTCCGCTGTT-1_8': 'tumor', 'GTCATTTTCGTGAGAG-1_8': 'tumor', 'GTCCTCATCATGACAC-1_8': 'filtered', 'GTCGAATAGGGCTGAT-1_8': 'filtered', 'GTCGCGACAGTCACGC-1_8': 'filtered', 'GTCTAGAGTGTTGATC-1_8': 'tumor', 'GTGACGCTCCTGTTGC-1_8': 'filtered', 'GTGAGCCAGGAACGAA-1_8': 'tumor', 'GTGAGCCGTTCGCGTG-1_8': 'tumor', 'GTGATGTGTATAGGAT-1_8': 'filtered', 'GTGCTGGCACGTACTA-1_8': 'tumor', 'GTGCTGGTCGCCCAGA-1_8': 'filtered', 'GTGGCGTCAGCTGAAG-1_8': 'filtered', 'GTGGCGTGTCTTCGAA-1_8': 'tumor', 'GTGGGAAAGCACTTTG-1_8': 'filtered', 'GTTCATTTCGTGGGAA-1_8': 'tumor', 'GTTCCGTTCAGTCACA-1_8': 'tumor', 'GTTGTAGGTTACGGAG-1_8': 'filtered', 'TAACACGCAACGTATC-1_8': 'tumor', 'TAACGACGTTCAAGGG-1_8': 'tumor', 'TAACTTCGTATGAGGC-1_8': 'filtered', 'TAAGCACTCGTTGCCT-1_8': 'tumor', 'TAAGCCAGTGGTCCGT-1_8': 'tumor', 'TAAGTCGCAGTTAAAG-1_8': 'filtered', 'TAATTCCAGAATCCCT-1_8': 'filtered', 'TAATTCCTCGACCAAT-1_8': 'tumor', 'TACAGGTGTTCCGTTC-1_8': 'tumor', 'TACCCACAGCGTGAAC-1_8': 'filtered', 'TACCGAACATGCGTGC-1_8': 'tumor', 'TACCGGGGTATGACAA-1_8': 'filtered', 'TACCGGGGTGTTAGCT-1_8': 'tumor', 'TACGCTCAGCCGGATA-1_8': 'tumor', 'TAGCACATCCCTCATG-1_8': 'tumor', 'TAGGTACAGACTCATC-1_8': 'tumor', 'TAGTGCATCCGATCTC-1_8': 'tumor', 'TATCAGGGTACAGTCT-1_8': 'tumor', 'TCACACCGTGAATTGA-1_8': 'tumor', 'TCACGCTCATCCTGTC-1_8': 'filtered', 'TCACGCTGTGGTACAG-1_8': 'tumor', 'TCACGGGCAAGAAATC-1_8': 'tumor', 'TCACGGGTCACCCTTG-1_8': 'filtered', 'TCAGGGCTCGCTTTAT-1_8': 'filtered', 'TCAGGTAGTCACCCTT-1_8': 'tumor', 'TCATATCCAAGGGTCA-1_8': 'filtered', 'TCATGAGAGCCTAACT-1_8': 'tumor', 'TCATGCCAGGAGTATT-1_8': 'filtered', 'TCATTACTCTACTTCA-1_8': 'filtered', 'TCATTGTAGGGTTAGC-1_8': 'tumor', 'TCATTGTGTTCGCGTG-1_8': 'tumor', 'TCCACCACAACCGATT-1_8': 'tumor', 'TCCAGAACAAGTTCCA-1_8': 'tumor', 'TCCAGAAGTACAAGTA-1_8': 'tumor', 'TCCATCGAGAGCAGAA-1_8': 'tumor', 'TCCATCGCACCATAAC-1_8': 'filtered', 'TCCCATGCATCTGCGG-1_8': 'tumor', 'TCCGAAATCGCCTATC-1_8': 'tumor', 'TCCGGGAGTGGTTCTA-1_8': 'tumor', 'TCCTCCCAGCTATCCA-1_8': 'tumor', 'TCCTCTTAGCTTGTTG-1_8': 'tumor', 'TCGAACAAGGTGCTAG-1_8': 'tumor', 'TCGAACACAAACACCT-1_8': 'tumor', 'TCGACGGCAGGACGAT-1_8': 'tumor', 'TCGCTTGGTGGGTATG-1_8': 'tumor', 'TCGGATAGTTGGATCT-1_8': 'tumor', 'TCGGGCACAGCGTTGC-1_8': 'tumor', 'TCTATCACAAGTGTCT-1_8': 'tumor', 'TCTCCGAGTCACAGTT-1_8': 'tumor', 'TGAATGCCAATAACGA-1_8': 'filtered', 'TGACAGTAGGCTAGCA-1_8': 'tumor', 'TGACCCTAGATGCAGC-1_8': 'filtered', 'TGACGCGCAGTTAGGG-1_8': 'tumor', 'TGACGCGTCCATAAGC-1_8': 'tumor', 'TGATCAGAGCACCTGC-1_8': 'tumor', 'TGCAGGCCAGTCAGCC-1_8': 'filtered', 'TGCATCCGTGAACGGT-1_8': 'tumor', 'TGCATGAAGAAGTATC-1_8': 'tumor', 'TGCGACGAGTGCCGAA-1_8': 'tumor', 'TGCGACGCATTGCAAC-1_8': 'tumor', 'TGCGGGTGTAATGATG-1_8': 'tumor', 'TGCGGGTTCTATACGG-1_8': 'filtered', 'TGCTTCGGTATAGGAT-1_8': 'filtered', 'TGGAGGAAGCCGATCC-1_8': 'filtered', 'TGGATGTGTGCGACAA-1_8': 'tumor', 'TGGTAGTAGTCATCGT-1_8': 'tumor', 'TGGTTAGCAGGACTAG-1_8': 'filtered', 'TGTGGCGGTTCCAAAC-1_8': 'tumor', 'TGTTGAGTCTGTACAG-1_8': 'filtered', 'TTACAGGTCTCGGTAA-1_8': 'tumor', 'TTACGCCTCAATCCGA-1_8': 'filtered', 'TTAGGGTAGCATCCCG-1_8': 'tumor', 'TTATTGCCAACCGGAA-1_8': 'tumor', 'TTATTGCCATACTTTC-1_8': 'tumor', 'TTCTGTATCGTAACAC-1_8': 'filtered', 'TTGAGTGAGAGTTGTA-1_8': 'tumor', 'TTGCATTGTGGTAACG-1_8': 'tumor', 'TTGTGTTTCTGAGGCC-1_8': 'filtered', 'TTGTTCACAACCTATG-1_8': 'filtered', 'TTGTTCATCGACATAC-1_8': 'tumor', 'TTTCACAAGAAACTCA-1_8': 'filtered', 'TTTCATGGTACCGTGC-1_8': 'tumor', 'TTTCGATGTGCGAACA-1_8': 'filtered', 'TTTCGATTCGGAGCAA-1_8': 'filtered', 'AACCATGTCCGCAGTG-1_9': 'normal', 'AACGAAATCAGAGCGA-1_9': 'normal', 'AACGTCAAGTAGACCG-1_9': 'filtered', 'AAGCATCAGGAAGAAC-1_9': 'normal', 'ACAAAGATCACCTCTG-1_9': 'normal', 'AGAGAATGTTTCGATG-1_9': 'normal', 'AGCATCACAAATCGGG-1_9': 'normal', 'AGTCACATCTAACACG-1_9': 'normal', 'AGTTCGATCCTTTAGT-1_9': 'normal', 'ATAGGCTAGATAACAC-1_9': 'tumor', 'ATCACGAGTACCTAAC-1_9': 'filtered', 'ATGGATCGTTGAGTCT-1_9': 'tumor', 'ATTCCCGGTAGATTGA-1_9': 'normal', 'CAAGGGAAGAATACAC-1_9': 'normal', 'CACAACAAGGAGGCAG-1_9': 'normal', 'CAGCACGTCGTGTGGC-1_9': 'tumor', 'CCCATTGTCTGTCCCA-1_9': 'normal', 'CCTCATGTCTTGGTCC-1_9': 'normal', 'CGAAGTTGTTGTTGTG-1_9': 'filtered', 'CGTAATGGTCGGATTT-1_9': 'normal', 'CTACTATCAAAGGAGA-1_9': 'filtered', 'CTTGAGAAGACGGAAA-1_9': 'normal', 'GAGCTGCAGAGCTTTC-1_9': 'tumor', 'GAGCTGCTCGGAGATG-1_9': 'tumor', 'GATCATGGTCTTGTCC-1_9': 'tumor', 'GATTCTTGTGAGTTGG-1_9': 'normal', 'GGAGGATCATGGACAG-1_9': 'normal', 'GGAGGTAAGTGGTTAA-1_9': 'normal', 'GGCGTCATCACACGAT-1_9': 'normal', 'GGGAGATTCCTCTAAT-1_9': 'tumor', 'GGGTAGATCTCATGCC-1_9': 'normal', 'GTGGAAGTCGCCAGAC-1_9': 'normal', 'TACCGAACACATATCG-1_9': 'normal', 'TATATCCTCGAGAGCA-1_9': 'normal', 'TCAAGACTCATTCACT-1_9': 'tumor', 'TCATCCGCAACGACAG-1_9': 'normal', 'TCATGGACAAATAAGC-1_9': 'normal', 'TCATGGATCTGGAGAG-1_9': 'normal', 'TCCCATGTCATGGCCG-1_9': 'filtered', 'TCGACCTCATACTGAC-1_9': 'tumor', 'TCTTGCGTCATTACGG-1_9': 'normal', 'TTACAGGGTAGTCTGT-1_9': 'tumor', 'TTCCTTCTCGATTGAC-1_9': 'tumor', 'TTCTCTCCAACCGTAT-1_9': 'tumor', 'TTGCCTGTCGGAAACG-1_9': 'normal', 'TTGCTGCGTGAGTGAC-1_9': 'normal', 'TTGGTTTAGAGTTGAT-1_9': 'normal', 'AAAGAACGTTGCGTAT-1_10': 'tumor', 'ACAGCCGGTCTGTCAA-1_10': 'normal', 'AGCCAATAGACATAGT-1_10': 'normal', 'ATTACCTTCGATCCCT-1_10': 'normal', 'CCATAAGAGCGGTATG-1_10': 'normal', 'CCCTTAGAGCTTCATG-1_10': 'normal', 'CCTGTTGCACCCATAA-1_10': 'normal', 'CGATCGGAGACCGCCT-1_10': 'tumor', 'GAAGGACCATGAATAG-1_10': 'normal', 'GAAGGACGTGATTCAC-1_10': 'normal', 'GAATCACGTTCAAACC-1_10': 'normal', 'GACCAATGTATGGGAC-1_10': 'normal', 'TCAGTCCCACTGGCGT-1_10': 'normal', 'TCATGGATCCACGAAT-1_10': 'normal'}\n",
      "{'AAACGCTTCATCTACT-1_1': '1', 'AAAGTGATCAACGCTA-1_1': '2', 'AACCATGTCGAATGCT-1_1': '1', 'AACGGGATCTTCCTAA-1_1': '2', 'AAGGAATAGAAATCCA-1_1': 0, 'AAGTTCGAGCCGGATA-1_1': '2', 'AATGGAACATCACGGC-1_1': '2', 'ACCGTTCTCCTATGGA-1_1': 0, 'ACTCTCGTCGTTGTAG-1_1': '1', 'AGCATCACACGGAAGT-1_1': '1', 'ATACCGATCCTTCTTC-1_1': 0, 'ATACCTTGTCTGATCA-1_1': 0, 'ATCGGATGTCCCTAAA-1_1': 0, 'ATGCCTCAGTGCTCGC-1_1': '2', 'ATTCCATGTAGAATGT-1_1': '2', 'ATTCTTGCATGACCCG-1_1': 0, 'ATTTCACGTCCTACGG-1_1': 0, 'CACGGGTGTGTAGTGG-1_1': 0, 'CATAAGCGTACGCTAT-1_1': '1', 'CATGAGTTCTCAGTCC-1_1': '1', 'CATGCGGCACATGACT-1_1': '2', 'CCACACTGTGGCTTAT-1_1': 0, 'CCTTGTGCAACTGGTT-1_1': '2', 'CCTTTGGGTTGAAGTA-1_1': '2', 'CTAGACACACAGCTTA-1_1': '1', 'CTATAGGCAGTCGTTA-1_1': 0, 'CTCATCGCACATTACG-1_1': 0, 'CTCCCTCTCCCAAGTA-1_1': '2', 'CTGCCATAGGGTTAAT-1_1': '1', 'CTTTCGGCACTCCACT-1_1': 0, 'GAATCGTGTTCTATCT-1_1': '1', 'GACCAATTCGCAACAT-1_1': '1', 'GACTCAACAAGAGAGA-1_1': '2', 'GAGTCTAAGCAATTCC-1_1': '2', 'GCACTAATCACCGGTG-1_1': '2', 'GCAGCCAGTGAGAACC-1_1': '2', 'GCATTAGGTTGCTCAA-1_1': '1', 'GTCACGGAGCTAAATG-1_1': 0, 'GTCGAATAGAAACCAT-1_1': 0, 'GTCGTAAAGATCCCGC-1_1': '2', 'GTCTAGAGTTGCGTAT-1_1': '1', 'GTTAGACGTCGATGCC-1_1': '2', 'GTTCTATCAGTTGTTG-1_1': '2', 'GTTGAACTCGACCAAT-1_1': 0, 'GTTTACTTCGACATTG-1_1': 0, 'TACACCCTCTTAGCTT-1_1': 0, 'TCACAAGAGCAGCACA-1_1': '2', 'TCACTATCACCAAATC-1_1': '2', 'TCAGCAAGTGAGGAAA-1_1': '2', 'TCATTACCACCCTAGG-1_1': '1', 'TCTACCGTCATCCTGC-1_1': '2', 'TGAGTCAGTTTGTTGG-1_1': '2', 'TGCGGCACAATTCTTC-1_1': 0, 'TGGATGTTCACACCGG-1_1': '2', 'TGGTACACAACCGACC-1_1': '2', 'TGTCCTGTCGGAGCAA-1_1': '2', 'TTCGCTGAGGTAAGTT-1_1': 0, 'TTGTTCACACGTACAT-1_1': 0, 'TTTACCAAGACTTCCA-1_1': 0, 'TTTAGTCCAACTTCTT-1_1': '1', 'TTTAGTCTCAAGCCCG-1_1': '1', 'TTTCACAGTCATGGCC-1_1': '1', 'AAACCCAGTCGTGGTC-1_2': 0, 'AAAGAACCACTAACCA-1_2': 0, 'AAAGAACTCAGCTCTC-1_2': 0, 'AAAGGATTCACTTATC-1_2': 0, 'AAAGTCCTCGGATACT-1_2': 0, 'AACGGGAAGTAGAGTT-1_2': 0, 'AAGCCATGTAAGATTG-1_2': 0, 'AAGCCATGTCCACAGC-1_2': 0, 'AAGGAATAGAATCGCG-1_2': 0, 'AAGGAATGTTGTACGT-1_2': 0, 'AAGTACCAGCGTTACT-1_2': 0, 'AAGTTCGGTTAGAGTA-1_2': 0, 'AATGAAGGTTGCTAGT-1_2': 0, 'ACAACCATCATCGGGC-1_2': 0, 'ACACGCGAGCTGTGCC-1_2': 0, 'ACATTTCCAGACCGCT-1_2': 0, 'ACCATTTCAACCGCTG-1_2': 0, 'ACGATGTCACAGCATT-1_2': 0, 'ACGGAAGGTGACTAAA-1_2': 0, 'ACGGGTCAGTGTAGTA-1_2': 0, 'ACGGTCGTCGATTCCC-1_2': 0, 'ACTACGAGTTTACCTT-1_2': 0, 'ACTGATGAGGGTCAAC-1_2': 0, 'ACTGTCCAGATGAAGG-1_2': 0, 'ACTGTCCTCTGGACCG-1_2': 0, 'ACTTATCTCCTCAGAA-1_2': 0, 'ACTTCCGAGTCGCTAT-1_2': 0, 'ACTTTGTTCCATCTCG-1_2': 0, 'AGAAATGAGCTCACTA-1_2': 0, 'AGAGCAGTCTAGGCCG-1_2': 0, 'AGCATCAGTACGTGAG-1_2': 0, 'AGCCACGCATACTTTC-1_2': 0, 'AGCGCCAGTGAGAGGG-1_2': 0, 'AGCGCCATCCCTTTGG-1_2': 0, 'AGCGCTGCAACCGTGC-1_2': 0, 'AGCGTATAGCTCCATA-1_2': 0, 'AGCTTCCGTGAGGAAA-1_2': 0, 'AGGGTTTCAATTGCGT-1_2': 0, 'AGGTTACAGTGCAACG-1_2': 0, 'AGTACCAGTAGATCCT-1_2': 0, 'AGTCATGTCCTAACAG-1_2': 0, 'AGTGTTGGTGGCAACA-1_2': 0, 'ATACTTCCAGGCACTC-1_2': 0, 'ATAGACCTCAGCTTGA-1_2': 0, 'ATCATTCGTCAACGCC-1_2': 0, 'ATCCGTCCATTATGCG-1_2': 0, 'ATGAGGGCAGCTGGTC-1_2': 0, 'ATTCCTAAGCTTTCTT-1_2': 0, 'ATTCCTATCGTGCACG-1_2': 0, 'ATTGTTCAGTACAACA-1_2': 0, 'ATTTACCCATGGGTTT-1_2': 0, 'CAACCAACAGTACTAC-1_2': 0, 'CAACCAATCGATACGT-1_2': 0, 'CAACGATTCCTACACC-1_2': 0, 'CAAGACTGTTATCTTC-1_2': 0, 'CAATTTCCATGTGGTT-1_2': 0, 'CACTGTCAGACATACA-1_2': 0, 'CAGATACTCTCGTCAC-1_2': 0, 'CAGCAATAGTAAGCAT-1_2': 0, 'CAGTTCCTCACTCTTA-1_2': '1', 'CATACCCTCGCCTTTG-1_2': 0, 'CATGCAATCAATCGGT-1_2': 0, 'CATGCGGCAAATGCTC-1_2': 0, 'CATGCTCAGTGTACAA-1_2': 0, 'CATTGTTTCACCCATC-1_2': 0, 'CCACACTAGGACACTG-1_2': 0, 'CCACCATAGAGCACTG-1_2': 0, 'CCACTTGAGACCATGG-1_2': 0, 'CCCATTGTCGCTCATC-1_2': 0, 'CCCTCTCAGACTCTTG-1_2': 0, 'CCGTAGGCAATGAAAC-1_2': '1', 'CCTCAGTCACGCGCTA-1_2': 0, 'CCTCCTCTCGCCTTTG-1_2': 0, 'CCTCTAGTCGACGAGA-1_2': 0, 'CCTGTTGAGGGAGAAT-1_2': 0, 'CCTGTTGCATAACAGA-1_2': 0, 'CCTTCAGAGGGTTGCA-1_2': 0, 'CGAAGGAAGCCTCTCT-1_2': 0, 'CGAAGTTCACGACGTC-1_2': 0, 'CGAGTGCAGGTACTGG-1_2': 0, 'CGATCGGAGACCAAAT-1_2': 0, 'CGCAGGTGTCTTCGAA-1_2': 0, 'CGCCATTAGTCTGGAG-1_2': 0, 'CGGGACTGTATTCTCT-1_2': 0, 'CGTCCATGTATCATGC-1_2': 0, 'CGTGAATGTTGAATCC-1_2': 0, 'CGTGCTTTCGCCTATC-1_2': 0, 'CGTTAGAAGGGCAACT-1_2': 0, 'CGTTAGATCTATACGG-1_2': 0, 'CTACAGACACGACGCT-1_2': 0, 'CTACATTGTACTGTTG-1_2': 0, 'CTCAAGAGTCTTGCGG-1_2': 0, 'CTCAGAAAGCGTCAAG-1_2': 0, 'CTCCACACAGAGCGTA-1_2': 0, 'CTCCATGAGGAGGGTG-1_2': 0, 'CTGAATGGTTGGGACA-1_2': 0, 'CTGATCCTCGCGAAGA-1_2': 0, 'CTGCAGGAGTAGAGTT-1_2': 0, 'CTGCAGGGTGGGCTCT-1_2': 0, 'CTGGACGCACATATGC-1_2': 0, 'CTGGACGGTCGTAATC-1_2': 0, 'CTGTATTCAGAGTCTT-1_2': 0, 'CTTAGGACACCGTGGT-1_2': 0, 'CTTCAATAGACGTCGA-1_2': 0, 'CTTGAGAAGCCTCCAG-1_2': 0, 'CTTGAGAGTGGGTATG-1_2': 0, 'CTTTCGGTCGTCGCTT-1_2': 0, 'GAAATGAGTCAGGTAG-1_2': 0, 'GAACGTTAGGGTGAGG-1_2': 0, 'GAACGTTGTGACTAAA-1_2': 0, 'GACCGTGCACGCCACA-1_2': 0, 'GACCGTGCAGAGCGTA-1_2': 0, 'GACCTTCTCTGTACAG-1_2': 0, 'GACTATGCACAAACGG-1_2': 0, 'GACTATGCAGCTGAAG-1_2': 0, 'GACTGATCACAGCATT-1_2': 0, 'GACTGATCAGTTTCGA-1_2': 0, 'GAGACTTGTTAGGAGC-1_2': 0, 'GAGCCTGGTACGATTC-1_2': 0, 'GAGGGATCAAGCCCAC-1_2': 0, 'GAGGGTAAGGATACAT-1_2': 0, 'GAGTCATTCCGTAGGC-1_2': 0, 'GAGTGAGCATACATCG-1_2': 0, 'GAGTGAGTCGTTCTGC-1_2': 0, 'GAGTTGTCACAGTGTT-1_2': 0, 'GATAGCTAGTTCCATG-1_2': 0, 'GATCGTAAGGCCTTCG-1_2': 0, 'GATCGTATCCATACTT-1_2': 0, 'GATTCTTAGACGGAAA-1_2': 0, 'GATTGGTTCCTAGCCT-1_2': 0, 'GCACGGTCACAATTCG-1_2': 0, 'GCAGCCAGTGGATTTC-1_2': 0, 'GCAGCTGTCGTTGTGA-1_2': 0, 'GCCGTGACAGAGAATT-1_2': '1', 'GCGAGAAAGGTAAAGG-1_2': 0, 'GCGATCGTCAAAGGAT-1_2': 0, 'GCGGAAAGTAGGCAAC-1_2': '1', 'GCTACCTTCTGACAGT-1_2': 0, 'GCTCAAATCAAGCTGT-1_2': 0, 'GCTGAATAGCCGGAAT-1_2': 0, 'GCTGAATCAGCAGACA-1_2': 0, 'GCTTTCGCAGCGATTT-1_2': 0, 'GGAGCAAGTCCGGACT-1_2': '1', 'GGAGGATAGAATTGCA-1_2': 0, 'GGGACTCTCCCATGGG-1_2': 0, 'GGGCTACAGGGTGAGG-1_2': 0, 'GGGTCACTCTCTAAGG-1_2': 0, 'GGGTGAACAGGTCAAG-1_2': 0, 'GGGTTATAGGCTTTCA-1_2': 0, 'GTAAGTCCAACTAGAA-1_2': 0, 'GTAAGTCCAGCGTTTA-1_2': 0, 'GTAATCGCACTGTCCT-1_2': 0, 'GTAATGCGTCTGTTAG-1_2': 0, 'GTACAGTGTGGATGAC-1_2': 0, 'GTCCACTTCCGTCAAA-1_2': 0, 'GTCTACCAGAAGGCTC-1_2': 0, 'GTCTAGAGTCCAATCA-1_2': 0, 'GTCTGTCGTAGACGGT-1_2': 0, 'GTCTGTCTCCATCCGT-1_2': 0, 'GTCTGTCTCCCGTTGT-1_2': 0, 'GTGCGTGCACCAGTTA-1_2': 0, 'GTGGTTATCCGAACGC-1_2': 0, 'GTGTCCTGTGGAGGTT-1_2': 0, 'GTTAGACCAAATGGAT-1_2': 0, 'GTTATGGGTACCTAAC-1_2': 0, 'GTTATGGGTGATATAG-1_2': '1', 'GTTCTATAGTCGCCAC-1_2': 0, 'GTTGCGGCACATGAAA-1_2': 0, 'GTTGTAGGTTGCTAGT-1_2': 0, 'GTTTGGAGTGAGATAT-1_2': 0, 'TAACGACGTCCTGGTG-1_2': 0, 'TAACTTCAGATTGACA-1_2': 0, 'TAACTTCGTCGAGCTC-1_2': 0, 'TAATTCCCACGAGGTA-1_2': 0, 'TACAACGCATTGGCAT-1_2': 0, 'TACAGGTTCGTTACCC-1_2': 0, 'TACATTCGTACGATTC-1_2': 0, 'TACCCGTGTCCACACG-1_2': '1', 'TAGATCGTCTTAGCCC-1_2': 0, 'TAGGGTTTCCTGTAGA-1_2': 0, 'TATACCTGTTTAAGGA-1_2': 0, 'TATATCCTCTGCGGGT-1_2': 0, 'TATCGCCCATTGAAAG-1_2': 0, 'TATCGCCGTGTAAATG-1_2': 0, 'TATTGGGCACGCGTGT-1_2': '1', 'TATTTCGGTAGCGCCT-1_2': 0, 'TCAAGCAGTGGTAACG-1_2': 0, 'TCACATTAGACTTAAG-1_2': 0, 'TCACGGGAGGTAGGCT-1_2': 0, 'TCACTCGAGGGAGGCA-1_2': 0, 'TCAGCAAGTCAGTCCG-1_2': '1', 'TCCAGAATCATCTACT-1_2': 0, 'TCCTCCCAGGCACAAC-1_2': 0, 'TCCTCCCGTGTTCCAA-1_2': 0, 'TCCTCGAGTTGGATCT-1_2': 0, 'TCGATTTAGAAGTCCG-1_2': 0, 'TCGCACTTCTAGTGTG-1_2': 0, 'TCGGGTGTCGGAGTGA-1_2': 0, 'TCTACCGCATTGTGCA-1_2': 0, 'TCTACCGGTACGACTT-1_2': 0, 'TCTATACTCGATTCCC-1_2': '3', 'TCTGCCAGTAATTGGA-1_2': 0, 'TCTGTCGGTCCACATA-1_2': 0, 'TCTTAGTTCGCATGAT-1_2': 0, 'TGACAGTAGCTAGAAT-1_2': 0, 'TGACAGTCAAGACGAC-1_2': 0, 'TGAGCGCGTGGACTAG-1_2': 0, 'TGCAGGCAGCGACTTT-1_2': 0, 'TGCTGAAAGAGAGGTA-1_2': 0, 'TGGGCGTTCCCTGTTG-1_2': 0, 'TGGTTAGAGAGTTGAT-1_2': 0, 'TGTAGACTCCTTGAAG-1_2': 0, 'TGTCCCACATGGAACG-1_2': 0, 'TGTGCGGGTAGCACAG-1_2': 0, 'TTAATCCCATCTATCT-1_2': 0, 'TTCATTGTCCGATGTA-1_2': 0, 'TTCGGTCTCGCTGTCT-1_2': 0, 'TTGAACGAGTATTCCG-1_2': 0, 'TTGATGGTCGGTATGT-1_2': 0, 'TTGCTGCAGCACTCGC-1_2': 0, 'TTGGGTATCGTTGTTT-1_2': 0, 'TTGGTTTTCACTTGTT-1_2': 0, 'TTGTTCATCTTGCGCT-1_2': 0, 'TTGTTGTAGTGGTTCT-1_2': 0, 'TTTATGCCATGACGGA-1_2': 0, 'TTTCAGTCAAATTGCC-1_2': 0, 'TTTCAGTGTGCACAAG-1_2': 0, 'TTTCCTCCATCCGGTG-1_2': 0, 'TTTGTTGCAGAACTTC-1_2': 0, 'TTTGTTGCATTGCCGG-1_2': 0, 'AAACCCATCACTAGCA-1_3': 0, 'AAGGTAACATTATGCG-1_3': 0, 'AAGTGAACACGCCACA-1_3': 0, 'AATTCCTCATCCAACA-1_3': 0, 'ACACGCGGTAGGGTAC-1_3': 0, 'ACACTGACAGGGTTGA-1_3': 0, 'ACCAACAAGGCCACCT-1_3': 0, 'ACCGTTCCACCATTCC-1_3': 0, 'ACCTGAAAGTAACGTA-1_3': 0, 'ACTGTCCTCTTAGCCC-1_3': '1', 'ACTTTCAAGCTCCATA-1_3': 0, 'ACTTTGTAGACTTCGT-1_3': 0, 'AGAAGTAAGAAGCCAC-1_3': 0, 'AGATCCACAAATGCGG-1_3': 0, 'AGGAATACACCAGTTA-1_3': 0, 'AGTCACAAGCGACATG-1_3': 0, 'AGTCTCCGTCCCTGTT-1_3': 0, 'ATCACAGTCGGTTCAA-1_3': 0, 'ATCCATTAGCATCAGG-1_3': 0, 'ATCCATTTCCGAAATC-1_3': 0, 'ATCCGTCCAAGGGCAT-1_3': 0, 'ATCCGTCCATCATTTC-1_3': 0, 'ATCGTAGCATTGCAAC-1_3': 0, 'ATGGAGGGTGATACCT-1_3': 0, 'ATTATCCGTGACCGTC-1_3': 0, 'CAACAGTAGAAAGTCT-1_3': 0, 'CAATGACAGATCCCAT-1_3': 0, 'CACATGATCGAAACAA-1_3': 0, 'CACCGTTCACGTTGGC-1_3': 0, 'CACTAAGAGCCGGATA-1_3': 0, 'CAGCAATCAACAGCTT-1_3': 0, 'CAGCACGTCTCAGTCC-1_3': 0, 'CATGAGTAGTTACGTC-1_3': '1', 'CCATCACTCTTGAACG-1_3': 0, 'CCGTAGGCACTCTGCT-1_3': 0, 'CCTATCGGTACAATAG-1_3': 0, 'CCTCAACTCTAGCCTC-1_3': 0, 'CCTCAGTGTAGAGACC-1_3': 0, 'CGAGGCTTCATGCATG-1_3': 0, 'CGAGTTAAGTAAAGCT-1_3': 0, 'CGTCAAAGTCCAGAAG-1_3': 0, 'CGTGTCTAGAACGTGC-1_3': 0, 'CTAACTTAGTTACGGG-1_3': 0, 'CTACAGATCTGTCAGA-1_3': '1', 'CTACATTGTTGGAGAC-1_3': 0, 'CTACCCAAGTTGCCTA-1_3': 0, 'CTACGGGAGTGCTCGC-1_3': 0, 'CTCAACCAGTCTTGGT-1_3': 0, 'CTCCCAAAGCGCCATC-1_3': 0, 'CTGAGGCCAACCACGC-1_3': 0, 'CTGCATCAGGATACCG-1_3': 0, 'CTGGCAGCACCATTCC-1_3': 0, 'CTTCTCTGTGACGCCT-1_3': 0, 'CTTGATTAGTGATTCC-1_3': 0, 'GAACTGTGTGATACAA-1_3': 0, 'GAAGAATAGAGTCGAC-1_3': 0, 'GAAGCGATCCGGCAGT-1_3': 0, 'GACGTTATCTTAATCC-1_3': 0, 'GACTATGAGCGGGTAT-1_3': 0, 'GATAGCTAGCACGGAT-1_3': 0, 'GATCAGTTCTGCCTCA-1_3': '3', 'GCAACATAGCAACAGC-1_3': 0, 'GCATTAGGTTCCGCAG-1_3': 0, 'GCATTAGTCAGACCCG-1_3': 0, 'GCCAGCACAGGTTCCG-1_3': 0, 'GCGATCGCAGCTGTAT-1_3': 0, 'GCGTGCAAGCTAGAGC-1_3': 0, 'GCGTTTCCAGTTACCA-1_3': 0, 'GCTGGGTCACCAGGTC-1_3': 0, 'GGAATGGCAGGAGGAG-1_3': 0, 'GGGAAGTCAAACTCGT-1_3': 0, 'GGGCCATTCATACGGT-1_3': 0, 'GGGCTACGTGTCCTAA-1_3': 0, 'GGGTCTGTCGGTTCAA-1_3': 0, 'GGGTGAATCGACGCGT-1_3': 0, 'GGTGATTAGATTGACA-1_3': 0, 'GGTTAACCAAGCTCTA-1_3': 0, 'GGTTCTCAGACTACGG-1_3': 0, 'GTAGTACAGCTCCACG-1_3': 0, 'GTCAAACAGGCAATGC-1_3': 0, 'GTCATGATCTGGCCTT-1_3': 0, 'GTGGAAGCAGCTATAC-1_3': 0, 'GTGGAAGCATAAGCGG-1_3': 0, 'GTGTAACGTCCGTTTC-1_3': '1', 'GTGTGGCCAGAGATTA-1_3': 0, 'GTTACAGGTGCTCCGA-1_3': 0, 'GTTTACTTCGCTGTTC-1_3': 0, 'TAATTCCAGAGGTCGT-1_3': 0, 'TACAGGTAGAGTGACC-1_3': 0, 'TACAGGTGTGGTACAG-1_3': 0, 'TACGGGCCACTACACA-1_3': 0, 'TAGGTACGTATGAGAT-1_3': 0, 'TAGGTACGTGTCCACG-1_3': 0, 'TATCAGGTCTGGGAGA-1_3': 0, 'TATCTGTGTACTGCGC-1_3': 0, 'TCACACCAGCGTGAAC-1_3': 0, 'TCACGGGCAGAACGCA-1_3': 0, 'TCAGTCCTCTCCGAAA-1_3': '1', 'TCATGGATCTTCCGTG-1_3': 0, 'TCATGTTGTCCGTACG-1_3': 0, 'TCCAGAACATCCTGTC-1_3': 0, 'TCCTCGATCGCCGTGA-1_3': 0, 'TCCTCGATCTTGCAAG-1_3': 0, 'TCGAACAAGCATTTCG-1_3': '1', 'TCGTAGACACAGTATC-1_3': 0, 'TCGTCCAGTTATCTTC-1_3': 0, 'TCTTGCGTCACTTGGA-1_3': 0, 'TGACCCTCACTCAGAT-1_3': 0, 'TGAGGAGCAATGCTCA-1_3': 0, 'TGTGTGAAGTGCGCTC-1_3': 0, 'TGTTTGTGTCCTCAGG-1_3': 0, 'TTCATTGTCAAGTGGG-1_3': 0, 'TTCCAATCAAGCGGAT-1_3': 0, 'TTCTAGTTCTGAATCG-1_3': 0, 'TTGCCTGGTGACCGAA-1_3': 0, 'TTGCGTCGTCGCAACC-1_3': 0, 'TTGTTCAGTAGAATAC-1_3': 0, 'TTTACTGAGTAACGTA-1_3': 0, 'TTTATGCCAATTCACG-1_3': 0, 'TTTATGCCAGGTGGAT-1_3': 0, 'TTTCACAGTCTAACTG-1_3': 0, 'AAGTGAATCAAAGCCT-1_4': 0, 'ACACAGTCAATGTCAC-1_4': '1', 'ACAGAAATCCAACACA-1_4': 0, 'ACCAAACCAACCTAAC-1_4': 0, 'ACTCCCAAGCGTTACT-1_4': 0, 'ACTTTGTAGAGCAGCT-1_4': 0, 'ACTTTGTAGGCGCTTC-1_4': '1', 'AGCGCCACACATTCGA-1_4': 0, 'AGGGTCCCAAAGGGCT-1_4': 0, 'AGTGTTGGTGAGCTCC-1_4': '1', 'AGTTAGCCAGTAGAAT-1_4': 0, 'ATATCCTTCGGTCTAA-1_4': '3', 'ATCGGATTCCATTGTT-1_4': 0, 'ATGACCACATTGAGCT-1_4': '1', 'ATTACCTCATCGATCA-1_4': 0, 'ATTCCATTCCCTCGAT-1_4': 0, 'ATTCTACAGGTCACAG-1_4': '3', 'CACCGTTCACAATTCG-1_4': 0, 'CACGGGTCACTGGCCA-1_4': '3', 'CATCCGTTCGGTCTAA-1_4': '3', 'CCATCACCAGAACCGA-1_4': 0, 'CCCTCAAAGTTCATCG-1_4': '1', 'CCGGTGACAATCGAAA-1_4': 0, 'CCTTCAGAGCACCGAA-1_4': '3', 'CCTTTGGAGGACTGGT-1_4': 0, 'CGATGCGCAACTTGCA-1_4': '1', 'CGATGGCTCACCTACC-1_4': '1', 'CGCGTGAAGTAGTGCG-1_4': 0, 'CTAACTTGTTCTCTAT-1_4': 0, 'CTCTGGTAGTCTAACC-1_4': 0, 'CTGTGAAAGGTCTGGA-1_4': '1', 'CTTCCGACAAACTCGT-1_4': 0, 'CTTGAGAAGTCTTGGT-1_4': '1', 'GACCCTTAGCCGCACT-1_4': '1', 'GATGAGGAGGTGCTTT-1_4': 0, 'GATGGAGCAAATTGCC-1_4': 0, 'GGAATCTAGAAGCGGG-1_4': '1', 'GGGAGATGTTTCGTTT-1_4': '1', 'GTCACGGCATCAGTCA-1_4': '1', 'GTGGAGACATTGCTTT-1_4': '3', 'GTTGAACCAACGGCCT-1_4': 0, 'GTTGCTCTCGGACGTC-1_4': 0, 'TAACGACCAAGTGGGT-1_4': 0, 'TACAGGTTCATCTATC-1_4': '1', 'TAGACCATCCTTCGAC-1_4': 0, 'TCCGGGACAGACACCC-1_4': 0, 'TCCGGGATCCAAACCA-1_4': '1', 'TCGACGGCAGGTTCCG-1_4': 0, 'TCGATTTGTGTAGGAC-1_4': '1', 'TGCTGAAAGTGCCTCG-1_4': '1', 'TGTAGACGTATCGAGG-1_4': 0, 'TTGCTGCGTGGGAGAG-1_4': '1', 'TTGTTGTTCCGGTAAT-1_4': '3', 'TTGTTTGTCAATCCGA-1_4': '1', 'TTTCATGCATCATGAC-1_4': 0, 'AAAGGGCCAAACGAGC-1_5': '1', 'AACGGGACAAAGTATG-1_5': '1', 'AGGGTGACACATTCTT-1_5': '1', 'ATTCTTGAGGAATTAC-1_5': '1', 'ATTTCACGTCATAACC-1_5': '1', 'CAGATTGAGTCATTGC-1_5': '4', 'CATAGACGTTCTTCAT-1_5': 0, 'CATCGCTGTAACCCTA-1_5': 0, 'CATGCCTAGGGCATGT-1_5': 0, 'CGCAGGTTCTCCGAGG-1_5': '1', 'CGGAACCCACTCCTTG-1_5': '1', 'CTACAGACAATGGGTG-1_5': '1', 'CTGCCTATCTCACCCA-1_5': '1', 'GACTATGTCCAACTGA-1_5': '1', 'GAGAAATTCTGGCTGG-1_5': 0, 'GCAGTTAAGGCACTAG-1_5': '2', 'GCCGTGAGTCACTCTC-1_5': 0, 'GGTGATTGTAGACAAT-1_5': 0, 'GGTTCTCTCCTCACGT-1_5': 0, 'GTAAGTCGTCGAACAG-1_5': 0, 'GTTACAGGTGACTAAA-1_5': 0, 'TATATCCAGTCCCGGT-1_5': '1', 'TATCGCCGTTGTTGTG-1_5': '1', 'TCATGCCAGTAGGTTA-1_5': 0, 'TCGAAGTGTCAGTCTA-1_5': 0, 'TCGCAGGCATAAGCGG-1_5': '1', 'TCGGGACAGGGCAGGA-1_5': 0, 'TCGGTCTCAGCTGTAT-1_5': 0, 'TCTACATGTTAATCGC-1_5': '1', 'TGAATCGAGGACTAAT-1_5': '1', 'TGAGGGATCAGAGCAG-1_5': '1', 'TGGAGAGCACGCTGAC-1_5': '1', 'TGGAGAGCAGACGGAT-1_5': '1', 'TGGAGAGGTTATAGCC-1_5': 0, 'TTCTAACAGGTTATAG-1_5': '2', 'AAAGGTACACCAGCGT-1_6': '1', 'AAATGGATCATTGGTG-1_6': 0, 'AAGCGTTGTGCCCACA-1_6': 0, 'AATCACGAGGTATCTC-1_6': 0, 'AATGCCACATTAGGAA-1_6': '1', 'ACTATTCCACGTTGGC-1_6': '1', 'AGCTTCCGTTGCCGCA-1_6': '3', 'AGGACGATCCGAACGC-1_6': 0, 'AGGACTTGTGTCTAAC-1_6': 0, 'ATAGAGAGTCCACGCA-1_6': '1', 'ATGATCGCATAGTCAC-1_6': 0, 'ATGTCTTTCTCCTGTG-1_6': '1', 'ATTCAGGAGACCAACG-1_6': 0, 'ATTCCCGCATAAGCGG-1_6': '1', 'ATTCCTAAGTGTCATC-1_6': '1', 'ATTCTACGTTACACAC-1_6': 0, 'ATTGTTCAGAACGTGC-1_6': 0, 'CAATACGTCGGTGTAT-1_6': 0, 'CACGTTCCAGGTGACA-1_6': '4', 'CAGAGCCGTAGGCAGT-1_6': '4', 'CAGCACGGTCCGACGT-1_6': '1', 'CAGCACGTCTGCGAGC-1_6': '1', 'CAGTTAGAGCGTTAGG-1_6': 0, 'CATCCCATCGGTTCAA-1_6': 0, 'CATCGCTCAATGAGCG-1_6': '1', 'CCCTCAACATCGAGCC-1_6': 0, 'CCGGTGACAAATGAAC-1_6': 0, 'CCGTAGGCAATAGTCC-1_6': '1', 'CCGTGAGCAGCTAACT-1_6': 0, 'CCTCACACAAGTGGAC-1_6': '1', 'CGATGGCTCGGCCAAC-1_6': '1', 'CGTCCATCATACACCA-1_6': 0, 'CTACAGACATGAATCC-1_6': '1', 'CTACGGGCAGAATTCC-1_6': '3', 'CTCAACCAGTCGAAAT-1_6': 0, 'CTCCATGCAAGCTCTA-1_6': '3', 'CTGCAGGGTACTTGTG-1_6': '3', 'CTTCTCTGTCTGTCAA-1_6': '1', 'GAAGGGTTCTTCCTAA-1_6': 0, 'GACGTTAGTGAGCCAA-1_6': '5', 'GACTCAACAGGCTACC-1_6': '4', 'GAGGGATGTCTTACTT-1_6': '1', 'GAGTTGTCATGTGTCA-1_6': 0, 'GATTTCTAGTTACGAA-1_6': 0, 'GCCCGAACAATTCTTC-1_6': 0, 'GCTGCAGGTACAAGTA-1_6': 0, 'GGACGTCAGGAACGTC-1_6': '1', 'GGGTCACTCGTCTACC-1_6': '3', 'GTCCCATCACATCATG-1_6': 0, 'GTCTAGACAAACTCGT-1_6': 0, 'GTCTCACGTTGCTGAT-1_6': '1', 'GTTACCCTCACGTAGT-1_6': 0, 'GTTGCTCTCAGGAGAC-1_6': 0, 'GTTTGGAAGAGCATAT-1_6': 0, 'GTTTGGACATCCCACT-1_6': '3', 'TAAGCACGTTCGGCTG-1_6': 0, 'TAATCTCGTAGTGCGA-1_6': 0, 'TACACCCGTCGCATCG-1_6': 0, 'TATCGCCGTCACATTG-1_6': 0, 'TCTGTCGCACTCCGAG-1_6': '1', 'TGACAGTGTCTAGGCC-1_6': 0, 'TGACCCTTCTGCTGAA-1_6': 0, 'TGCAGTAGTTGACTGT-1_6': 0, 'TGGTGATAGGAGATAG-1_6': 0, 'TTACGTTAGGTGCCAA-1_6': '1', 'TTCTTGAAGTAAACTG-1_6': 0, 'TTCTTGATCTAAGCCA-1_6': '1', 'TTGATGGCACTCAAGT-1_6': '1', 'TTGCCTGCAGTGCGCT-1_6': 0, 'TTGCGTCGTTAGTCGT-1_6': 0, 'TTTAGTCCAAATCGTC-1_6': '1', 'TTTCACATCTCATTTG-1_6': 0, 'AACCAACCATTCAGGT-1_7': '1', 'AACCCAACACGGTAGA-1_7': 0, 'ACCCAAATCCTCAGGG-1_7': '1', 'ACCTACCCAGCCGTCA-1_7': 0, 'AGCGCTGAGCAATTCC-1_7': 0, 'ATAGAGATCCGAAATC-1_7': '1', 'CCTCACACATAGCACT-1_7': 0, 'CCTCTCCAGCGTGTCC-1_7': 0, 'CTAACTTCACTGCATA-1_7': 0, 'CTCCACAGTTCAAGGG-1_7': '1', 'CTGCCATTCCCGTAAA-1_7': 0, 'CTGTAGAAGCCAGTAG-1_7': 0, 'GCTTCACAGAGCATTA-1_7': '1', 'GGCAGTCTCCATCGTC-1_7': 0, 'GGGCCATTCTATACTC-1_7': '1', 'GGTCTGGTCCAACCAA-1_7': '1', 'GGTGGCTAGGCAGGTT-1_7': 0, 'GTGTGGCGTAGAGTTA-1_7': 0, 'TACATTCCAAAGGCTG-1_7': 0, 'TAGGGTTTCTACACTT-1_7': '1', 'TATCTTGGTCAGCTTA-1_7': 0, 'TATTGGGTCGACTCCT-1_7': '1', 'TCATTACCACAACGCC-1_7': '1', 'TCGCTTGTCAGTGTTG-1_7': 0, 'AAACCCATCTCGGGAC-1_8': '4', 'AAACGAAAGGTAATCA-1_8': 0, 'AAACGCTAGTCTGGAG-1_8': 0, 'AAAGTGACATGAAAGT-1_8': 0, 'AAATGGACAGCTTTGA-1_8': '5', 'AACAACCCAACAGCCC-1_8': '5', 'AACAACCTCTCCCATG-1_8': 0, 'AACAGGGAGGTGCATG-1_8': 0, 'AACCAACCACACCTGG-1_8': '4', 'AACCAACCATGGCGCT-1_8': '5', 'AACTTCTAGGCTTTCA-1_8': '4', 'AAGATAGTCACCTTGC-1_8': '4', 'AAGCGAGTCGAACACT-1_8': '4', 'AAGCGTTAGTGGAAGA-1_8': '4', 'AAGCGTTCACCTCAGG-1_8': '5', 'AAGGTAAAGTGTTGAA-1_8': 0, 'AAGTACCGTTGGGACA-1_8': 0, 'AAGTGAAAGGTGCAGT-1_8': '2', 'AATCACGTCGGTAACT-1_8': '4', 'AATCGACCACAGTGTT-1_8': '1', 'AATGAAGAGCCTTGAT-1_8': 0, 'AATGAAGAGCGACAGT-1_8': '2', 'AATGAAGTCATTTGGG-1_8': '6', 'AATGGCTTCCCAACTC-1_8': '4', 'ACAAGCTGTGCAACGA-1_8': 0, 'ACAAGCTTCCGACAGC-1_8': 0, 'ACACAGTTCAAGTGGG-1_8': '5', 'ACACCAACACAGTCGC-1_8': '5', 'ACACCAACATGGGTCC-1_8': '4', 'ACATCCCTCGTTCTCG-1_8': '5', 'ACATTTCAGAAATTCG-1_8': 0, 'ACCACAAGTTGGAGAC-1_8': '4', 'ACCCAAACATCGGAGA-1_8': 0, 'ACCTACCCATACTGTG-1_8': 0, 'ACGCACGAGATCGACG-1_8': '5', 'ACGGAAGTCTGCACCT-1_8': '5', 'ACGGTCGGTCACTCAA-1_8': '2', 'ACGGTTATCAGTGTGT-1_8': '5', 'ACTACGAGTCATCCCT-1_8': '6', 'ACTATCTGTAGCTTGT-1_8': '4', 'ACTATCTGTCTTTCAT-1_8': '2', 'ACTCCCAAGAGGTTAT-1_8': '4', 'ACTGCAACAACGACAG-1_8': 0, 'ACTGTGATCACTGAAC-1_8': '4', 'ACTTAGGCATCTGTTT-1_8': 0, 'ACTTCCGGTTGCGTAT-1_8': 0, 'ACTTCCGTCGGCATCG-1_8': '2', 'ACTTTGTTCCAACCGG-1_8': '4', 'AGAACCTAGGAAAGGT-1_8': 0, 'AGAACCTGTTCGTTCC-1_8': '5', 'AGACCATAGGGTACGT-1_8': '4', 'AGCATCAAGTTTCGAC-1_8': '2', 'AGCCAATGTGGGCTTC-1_8': '2', 'AGCGATTAGACTTCAC-1_8': '4', 'AGCGCTGAGCTGCCAC-1_8': 0, 'AGCTACAAGCGCCTTG-1_8': '6', 'AGCTACACACAAGTTC-1_8': 0, 'AGGACTTTCGTTGTAG-1_8': '4', 'AGGCCACCACTCGATA-1_8': 0, 'AGGGCCTAGATTGAGT-1_8': 0, 'AGGGTTTGTAGTACGG-1_8': '2', 'AGGTAGGTCAGAATAG-1_8': '6', 'AGGTCTACATCTCGTC-1_8': '4', 'AGGTTACTCTGTGCTC-1_8': 0, 'AGTCAACCACCTGTCT-1_8': 0, 'AGTCACATCTCCGAAA-1_8': 0, 'AGTGATCCAGGAGGAG-1_8': 0, 'ATAGACCTCGCTACGG-1_8': 0, 'ATAGAGATCATGCCCT-1_8': 0, 'ATAGGCTCAGCTGAAG-1_8': '5', 'ATCCATTAGGACCCAA-1_8': '4', 'ATCCCTGAGGGCCAAT-1_8': '4', 'ATCCGTCAGAGGCCAT-1_8': '4', 'ATCGTGATCTACACTT-1_8': 0, 'ATCTCTAGTATGTCCA-1_8': '2', 'ATGATCGAGCAAGTCG-1_8': 0, 'ATGGATCGTAAGCGGT-1_8': 0, 'ATGTCTTGTAATTAGG-1_8': 0, 'ATTCACTCACAAGCCC-1_8': 0, 'ATTCAGGGTTGACTGT-1_8': '4', 'ATTCCATCAGGTTACT-1_8': '5', 'ATTCCCGAGTGGAATT-1_8': '4', 'ATTCTACTCAAGGACG-1_8': 0, 'ATTGGGTTCCGTATAG-1_8': '4', 'ATTTACCGTCACTACA-1_8': '4', 'ATTTCACCAGTTAGAA-1_8': '4', 'ATTTCTGAGACCAAGC-1_8': '4', 'CAACAGTTCCCGATCT-1_8': '5', 'CAATCGAAGGTAAAGG-1_8': 0, 'CACAGATTCACCGACG-1_8': '4', 'CACAGATTCTTTGATC-1_8': '5', 'CACAGGCAGAGTCTGG-1_8': '2', 'CACATGACAAACGAGC-1_8': '2', 'CACCAAATCCAAGCCG-1_8': '5', 'CACTGGGTCCCTCTAG-1_8': '2', 'CAGAGCCCAGTCTGGC-1_8': '4', 'CAGAGCCCATAATGCC-1_8': '1', 'CAGCAGCCAGATCACT-1_8': '4', 'CAGCCAGTCCAGTGTA-1_8': '4', 'CAGTTCCCATGTCAGT-1_8': '4', 'CATAAGCGTTAGAAGT-1_8': '4', 'CATACCCTCATGCCGG-1_8': '5', 'CATACTTGTATCCTTT-1_8': 0, 'CATCAAGAGATTGATG-1_8': 0, 'CATCAAGCACTCCTGT-1_8': '5', 'CATCCCACAGTCTCTC-1_8': '6', 'CATCGGGCAGAGCCCT-1_8': '4', 'CATGCCTCATCATCTT-1_8': '5', 'CATGCCTGTCCGAAAG-1_8': '4', 'CATGGTAGTGACACAG-1_8': 0, 'CATTGTTGTGCTCTCT-1_8': 0, 'CATTTCACAAATGGTA-1_8': '5', 'CCAAGCGCAAGTGACG-1_8': '4', 'CCAAGCGTCATCTACT-1_8': 0, 'CCACAAACACCTGCTT-1_8': '4', 'CCACGAGGTAAGCTCT-1_8': '5', 'CCACTTGTCTGAATCG-1_8': '5', 'CCCTAACGTGCTCTCT-1_8': '2', 'CCGATGGGTTAGCTAC-1_8': '4', 'CCGTAGGGTAGCCAGA-1_8': '4', 'CCGTGAGCATTATGCG-1_8': 0, 'CCTAACCCATCAGCGC-1_8': 0, 'CCTGTTGAGTGGCCTC-1_8': '5', 'CCTTGTGGTCACAGAG-1_8': 0, 'CGAATTGTCTATCGGA-1_8': '6', 'CGAGAAGTCTCTTAAC-1_8': 0, 'CGGGTCAGTAAGCTCT-1_8': '5', 'CGTAAGTCATTGTGCA-1_8': '2', 'CGTAAGTTCTCCGCAT-1_8': '4', 'CGTAGTAAGGTGAGAA-1_8': '1', 'CGTAGTACAGGCATGA-1_8': '4', 'CTAACCCGTCTAACGT-1_8': '4', 'CTACTATTCCAAAGGG-1_8': 0, 'CTATAGGGTAATTGGA-1_8': 0, 'CTATCCGCACAATGAA-1_8': '5', 'CTCAATTTCTTCTCAA-1_8': '4', 'CTCAGGGGTTGATGTC-1_8': 0, 'CTCATCGAGGCTTAGG-1_8': 0, 'CTCATGCAGAGAGTGA-1_8': '4', 'CTCTCAGAGAGGTTAT-1_8': '5', 'CTGAGCGAGACACACG-1_8': 0, 'CTGCAGGAGGTGGGTT-1_8': '5', 'CTGTATTAGACTCGAG-1_8': '4', 'CTGTATTCAGCTGTCG-1_8': '4', 'CTGTGGGTCAGTGCGC-1_8': '1', 'CTTCCTTCAAAGCTAA-1_8': '5', 'CTTCTCTTCTACGCGG-1_8': '4', 'CTTGATTCATCGCTGG-1_8': '5', 'CTTTCAATCTCAACGA-1_8': '4', 'GAAGCCCGTACCCGAC-1_8': 0, 'GACCTTCTCATTTGTC-1_8': '4', 'GACTATGAGCAAACAT-1_8': 0, 'GACTCAAAGAATCGCG-1_8': 0, 'GAGCTGCCAATACCTG-1_8': 0, 'GAGCTGCCATTGTCGA-1_8': '4', 'GAGGCCTTCGAGCCAC-1_8': '3', 'GAGTTACAGTTGCTGT-1_8': '4', 'GATCCCTCAGCTTTCC-1_8': '5', 'GATGACTGTCGAACAG-1_8': 0, 'GATGACTTCTTGGTCC-1_8': '4', 'GATGCTAGTTCCCAAA-1_8': '5', 'GATGGAGCAGCGGTTC-1_8': '4', 'GATTGGTCACTTCTCG-1_8': '5', 'GATTTCTCACATACGT-1_8': '5', 'GCACATATCTCAGGCG-1_8': '4', 'GCAGGCTGTTCGTGCG-1_8': 0, 'GCAGTTAGTCGAACGA-1_8': '4', 'GCATCTCGTCACCCTT-1_8': 0, 'GCATGATAGGACAAGA-1_8': '5', 'GCCCGAAAGCTGCGAA-1_8': '5', 'GCCGATGGTTGTCATG-1_8': '6', 'GCGGATCAGGGCTTCC-1_8': 0, 'GCGTTTCAGTTCCTGA-1_8': '4', 'GCTACCTAGAAGGCTC-1_8': '4', 'GCTGGGTAGTAAGACT-1_8': 0, 'GGAACCCTCGTTGTTT-1_8': '4', 'GGAATGGAGGCTCAAG-1_8': '4', 'GGCGTCAGTAACAGGC-1_8': 0, 'GGCTTGGCACTGTGTA-1_8': 0, 'GGGAAGTGTAACGTTC-1_8': 0, 'GGGAGATTCTAGCCTC-1_8': '4', 'GGGATGAAGGATGAGA-1_8': 0, 'GGGATGAGTCTGCCTT-1_8': 0, 'GGGCCATCAACGGCCT-1_8': '4', 'GGGCGTTCAACCGGAA-1_8': '1', 'GGGTAGATCCTGTTAT-1_8': '4', 'GGGTGTCGTCGCGTCA-1_8': '4', 'GGTAGAGGTATCTCGA-1_8': 0, 'GGTCTGGCAGTAGGAC-1_8': 0, 'GGTGAAGCATTCAGCA-1_8': 0, 'GGTGTTACATACACCA-1_8': 0, 'GGTGTTAGTGGAAATT-1_8': '5', 'GTAAGTCGTTTGGAAA-1_8': '4', 'GTACAACCACTGCTTC-1_8': '6', 'GTACAACGTTGCAACT-1_8': '2', 'GTAGGAGAGACCAGCA-1_8': '4', 'GTAGGAGGTCTTGAGT-1_8': '5', 'GTAGGTTAGGCATCTT-1_8': '4', 'GTCAAACCAACTGTGT-1_8': '5', 'GTCATTTTCCGCTGTT-1_8': '4', 'GTCATTTTCGTGAGAG-1_8': '5', 'GTCCTCATCATGACAC-1_8': 0, 'GTCGAATAGGGCTGAT-1_8': 0, 'GTCGCGACAGTCACGC-1_8': 0, 'GTCTAGAGTGTTGATC-1_8': '4', 'GTGACGCTCCTGTTGC-1_8': 0, 'GTGAGCCAGGAACGAA-1_8': '4', 'GTGAGCCGTTCGCGTG-1_8': '5', 'GTGATGTGTATAGGAT-1_8': 0, 'GTGCTGGCACGTACTA-1_8': '4', 'GTGCTGGTCGCCCAGA-1_8': 0, 'GTGGCGTCAGCTGAAG-1_8': 0, 'GTGGCGTGTCTTCGAA-1_8': '4', 'GTGGGAAAGCACTTTG-1_8': 0, 'GTTCATTTCGTGGGAA-1_8': '5', 'GTTCCGTTCAGTCACA-1_8': '6', 'GTTGTAGGTTACGGAG-1_8': 0, 'TAACACGCAACGTATC-1_8': '4', 'TAACGACGTTCAAGGG-1_8': '4', 'TAACTTCGTATGAGGC-1_8': 0, 'TAAGCACTCGTTGCCT-1_8': '6', 'TAAGCCAGTGGTCCGT-1_8': '4', 'TAAGTCGCAGTTAAAG-1_8': 0, 'TAATTCCAGAATCCCT-1_8': 0, 'TAATTCCTCGACCAAT-1_8': '5', 'TACAGGTGTTCCGTTC-1_8': '5', 'TACCCACAGCGTGAAC-1_8': 0, 'TACCGAACATGCGTGC-1_8': '2', 'TACCGGGGTATGACAA-1_8': 0, 'TACCGGGGTGTTAGCT-1_8': '5', 'TACGCTCAGCCGGATA-1_8': '4', 'TAGCACATCCCTCATG-1_8': '4', 'TAGGTACAGACTCATC-1_8': '4', 'TAGTGCATCCGATCTC-1_8': '1', 'TATCAGGGTACAGTCT-1_8': '4', 'TCACACCGTGAATTGA-1_8': '4', 'TCACGCTCATCCTGTC-1_8': 0, 'TCACGCTGTGGTACAG-1_8': '4', 'TCACGGGCAAGAAATC-1_8': '5', 'TCACGGGTCACCCTTG-1_8': 0, 'TCAGGGCTCGCTTTAT-1_8': 0, 'TCAGGTAGTCACCCTT-1_8': '2', 'TCATATCCAAGGGTCA-1_8': 0, 'TCATGAGAGCCTAACT-1_8': '5', 'TCATGCCAGGAGTATT-1_8': 0, 'TCATTACTCTACTTCA-1_8': 0, 'TCATTGTAGGGTTAGC-1_8': '5', 'TCATTGTGTTCGCGTG-1_8': '5', 'TCCACCACAACCGATT-1_8': '4', 'TCCAGAACAAGTTCCA-1_8': '4', 'TCCAGAAGTACAAGTA-1_8': '5', 'TCCATCGAGAGCAGAA-1_8': '6', 'TCCATCGCACCATAAC-1_8': 0, 'TCCCATGCATCTGCGG-1_8': '4', 'TCCGAAATCGCCTATC-1_8': '4', 'TCCGGGAGTGGTTCTA-1_8': '5', 'TCCTCCCAGCTATCCA-1_8': '4', 'TCCTCTTAGCTTGTTG-1_8': '4', 'TCGAACAAGGTGCTAG-1_8': '5', 'TCGAACACAAACACCT-1_8': '5', 'TCGACGGCAGGACGAT-1_8': '5', 'TCGCTTGGTGGGTATG-1_8': '5', 'TCGGATAGTTGGATCT-1_8': '4', 'TCGGGCACAGCGTTGC-1_8': '5', 'TCTATCACAAGTGTCT-1_8': '4', 'TCTCCGAGTCACAGTT-1_8': '2', 'TGAATGCCAATAACGA-1_8': 0, 'TGACAGTAGGCTAGCA-1_8': '4', 'TGACCCTAGATGCAGC-1_8': 0, 'TGACGCGCAGTTAGGG-1_8': '2', 'TGACGCGTCCATAAGC-1_8': '6', 'TGATCAGAGCACCTGC-1_8': '5', 'TGCAGGCCAGTCAGCC-1_8': 0, 'TGCATCCGTGAACGGT-1_8': '5', 'TGCATGAAGAAGTATC-1_8': '4', 'TGCGACGAGTGCCGAA-1_8': '4', 'TGCGACGCATTGCAAC-1_8': '4', 'TGCGGGTGTAATGATG-1_8': '5', 'TGCGGGTTCTATACGG-1_8': 0, 'TGCTTCGGTATAGGAT-1_8': 0, 'TGGAGGAAGCCGATCC-1_8': 0, 'TGGATGTGTGCGACAA-1_8': '4', 'TGGTAGTAGTCATCGT-1_8': '4', 'TGGTTAGCAGGACTAG-1_8': 0, 'TGTGGCGGTTCCAAAC-1_8': '6', 'TGTTGAGTCTGTACAG-1_8': 0, 'TTACAGGTCTCGGTAA-1_8': '5', 'TTACGCCTCAATCCGA-1_8': 0, 'TTAGGGTAGCATCCCG-1_8': '4', 'TTATTGCCAACCGGAA-1_8': '5', 'TTATTGCCATACTTTC-1_8': '1', 'TTCTGTATCGTAACAC-1_8': 0, 'TTGAGTGAGAGTTGTA-1_8': '5', 'TTGCATTGTGGTAACG-1_8': '5', 'TTGTGTTTCTGAGGCC-1_8': 0, 'TTGTTCACAACCTATG-1_8': 0, 'TTGTTCATCGACATAC-1_8': '4', 'TTTCACAAGAAACTCA-1_8': 0, 'TTTCATGGTACCGTGC-1_8': '4', 'TTTCGATGTGCGAACA-1_8': 0, 'TTTCGATTCGGAGCAA-1_8': 0, 'AACCATGTCCGCAGTG-1_9': 0, 'AACGAAATCAGAGCGA-1_9': 0, 'AACGTCAAGTAGACCG-1_9': 0, 'AAGCATCAGGAAGAAC-1_9': 0, 'ACAAAGATCACCTCTG-1_9': 0, 'AGAGAATGTTTCGATG-1_9': 0, 'AGCATCACAAATCGGG-1_9': 0, 'AGTCACATCTAACACG-1_9': 0, 'AGTTCGATCCTTTAGT-1_9': 0, 'ATAGGCTAGATAACAC-1_9': '1', 'ATCACGAGTACCTAAC-1_9': 0, 'ATGGATCGTTGAGTCT-1_9': '1', 'ATTCCCGGTAGATTGA-1_9': 0, 'CAAGGGAAGAATACAC-1_9': 0, 'CACAACAAGGAGGCAG-1_9': 0, 'CAGCACGTCGTGTGGC-1_9': '1', 'CCCATTGTCTGTCCCA-1_9': 0, 'CCTCATGTCTTGGTCC-1_9': 0, 'CGAAGTTGTTGTTGTG-1_9': 0, 'CGTAATGGTCGGATTT-1_9': 0, 'CTACTATCAAAGGAGA-1_9': 0, 'CTTGAGAAGACGGAAA-1_9': 0, 'GAGCTGCAGAGCTTTC-1_9': '1', 'GAGCTGCTCGGAGATG-1_9': '1', 'GATCATGGTCTTGTCC-1_9': '3', 'GATTCTTGTGAGTTGG-1_9': 0, 'GGAGGATCATGGACAG-1_9': 0, 'GGAGGTAAGTGGTTAA-1_9': 0, 'GGCGTCATCACACGAT-1_9': 0, 'GGGAGATTCCTCTAAT-1_9': '1', 'GGGTAGATCTCATGCC-1_9': 0, 'GTGGAAGTCGCCAGAC-1_9': 0, 'TACCGAACACATATCG-1_9': 0, 'TATATCCTCGAGAGCA-1_9': 0, 'TCAAGACTCATTCACT-1_9': '3', 'TCATCCGCAACGACAG-1_9': 0, 'TCATGGACAAATAAGC-1_9': 0, 'TCATGGATCTGGAGAG-1_9': 0, 'TCCCATGTCATGGCCG-1_9': 0, 'TCGACCTCATACTGAC-1_9': '2', 'TCTTGCGTCATTACGG-1_9': 0, 'TTACAGGGTAGTCTGT-1_9': '1', 'TTCCTTCTCGATTGAC-1_9': '1', 'TTCTCTCCAACCGTAT-1_9': '1', 'TTGCCTGTCGGAAACG-1_9': 0, 'TTGCTGCGTGAGTGAC-1_9': 0, 'TTGGTTTAGAGTTGAT-1_9': 0, 'AAAGAACGTTGCGTAT-1_10': '1', 'ACAGCCGGTCTGTCAA-1_10': 0, 'AGCCAATAGACATAGT-1_10': 0, 'ATTACCTTCGATCCCT-1_10': 0, 'CCATAAGAGCGGTATG-1_10': 0, 'CCCTTAGAGCTTCATG-1_10': 0, 'CCTGTTGCACCCATAA-1_10': 0, 'CGATCGGAGACCGCCT-1_10': '1', 'GAAGGACCATGAATAG-1_10': 0, 'GAAGGACGTGATTCAC-1_10': 0, 'GAATCACGTTCAAACC-1_10': 0, 'GACCAATGTATGGGAC-1_10': 0, 'TCAGTCCCACTGGCGT-1_10': 0, 'TCATGGATCCACGAAT-1_10': 0}\n"
     ]
    }
   ],
   "source": [
    "# create mapping dictionary - cell ID matched to tumoural status and subclone (if tumoural)\n",
    "tum_dict = {}\n",
    "clone_dict = {}\n",
    "\n",
    "for i in range(1, len(SCEVAN_results)+1):\n",
    "    cellID = SCEVAN_results.loc[i][0].replace('.','-')\n",
    "    tum_type = SCEVAN_results.loc[i][1]\n",
    "\n",
    "    #non tumoural sublcones set to 0\n",
    "    if str(SCEVAN_results.loc[i][3]) == 'nan':\n",
    "        subclone = 0\n",
    "    else:\n",
    "        subclone = SCEVAN_results.loc[i][3]\n",
    "    #print(SCEVAN_results.loc[i][0])\n",
    "    #print(SCEVAN_results.loc[i][1])\n",
    "    tum_dict[cellID] = tum_type\n",
    "    clone_dict[cellID] = subclone\n",
    "\n",
    "\n",
    "print(tum_dict)\n",
    "print(clone_dict)"
   ]
  },
  {
   "cell_type": "code",
   "execution_count": 18,
   "metadata": {},
   "outputs": [
    {
     "name": "stderr",
     "output_type": "stream",
     "text": [
      "/var/folders/gv/57z5thfs7kqfq2njhk1gg9jc0000gn/T/ipykernel_81734/2332523295.py:1: ImplicitModificationWarning: Trying to modify attribute `.obs` of view, initializing view as actual.\n",
      "  epithelial_adata.obs[\"tumor\"] = epithelial_adata.obs.index.map(tum_dict)\n"
     ]
    }
   ],
   "source": [
    "epithelial_adata.obs[\"tumor\"] = epithelial_adata.obs.index.map(tum_dict)\n",
    "epithelial_adata.obs[\"subclone\"] = epithelial_adata.obs.index.map(clone_dict)"
   ]
  },
  {
   "cell_type": "code",
   "execution_count": 20,
   "metadata": {},
   "outputs": [
    {
     "data": {
      "text/plain": [
       "normal      433\n",
       "tumor       361\n",
       "filtered    167\n",
       "Name: tumor, dtype: int64"
      ]
     },
     "execution_count": 20,
     "metadata": {},
     "output_type": "execute_result"
    }
   ],
   "source": [
    "epithelial_adata.obs.tumor.value_counts()"
   ]
  },
  {
   "cell_type": "code",
   "execution_count": 21,
   "metadata": {},
   "outputs": [
    {
     "data": {
      "text/plain": [
       "0    600\n",
       "1    119\n",
       "4    101\n",
       "5     63\n",
       "2     47\n",
       "3     18\n",
       "6     13\n",
       "Name: subclone, dtype: int64"
      ]
     },
     "execution_count": 21,
     "metadata": {},
     "output_type": "execute_result"
    }
   ],
   "source": [
    "epithelial_adata.obs.subclone.value_counts()"
   ]
  },
  {
   "cell_type": "markdown",
   "metadata": {},
   "source": [
    "# Integrating QuieScore output"
   ]
  },
  {
   "cell_type": "code",
   "execution_count": 22,
   "metadata": {},
   "outputs": [],
   "source": [
    "G0_results = pd.read_csv('/Users/alex/Documents/BIOL0041-Project/OAC_masters_project/data/G0_scored_tumorCells.csv', header=None)"
   ]
  },
  {
   "cell_type": "code",
   "execution_count": 32,
   "metadata": {},
   "outputs": [
    {
     "name": "stdout",
     "output_type": "stream",
     "text": [
      "                   cell_id                G0_up             G0_down  \\\n",
      "1     AAACGCTTCATCTACT.1_1   -0.620118099015498  -0.367043788087705   \n",
      "2     AAAGTGATCAACGCTA.1_1    -0.21423569170912   -0.11197447228909   \n",
      "3     AACCATGTCGAATGCT.1_1   -0.131672020641099  -0.185609325374955   \n",
      "4     AACGGGATCTTCCTAA.1_1  -0.0924287866796572  -0.161304266618039   \n",
      "5     AAGTTCGAGCCGGATA.1_1    -0.15833299661878  -0.339731122195867   \n",
      "..                     ...                  ...                 ...   \n",
      "357   TTACAGGGTAGTCTGT.1_9  0.00428020378771471  -0.366214977347612   \n",
      "358   TTCCTTCTCGATTGAC.1_9  -0.0802393738551048  -0.529142846919358   \n",
      "359   TTCTCTCCAACCGTAT.1_9  -0.0746800601007133  -0.447225823320825   \n",
      "360  AAAGAACGTTGCGTAT.1_10   -0.447551458994797  -0.456122141424817   \n",
      "361  CGATCGGAGACCGCCT.1_10  -0.0006916509123297  -0.278141666276647   \n",
      "\n",
      "                    Sample            Prolif_cap             Prolif_z  \\\n",
      "1     AAACGCTTCATCTACT.1_1     0.253074310927793    0.931074044198043   \n",
      "2     AAAGTGATCAACGCTA.1_1      0.10226121942003    0.385774391628623   \n",
      "3     AACCATGTCGAATGCT.1_1   -0.0539373047338561   -0.178997539650209   \n",
      "4     AACGGGATCTTCCTAA.1_1   -0.0688754799383814   -0.233009970982336   \n",
      "5     AAGTTCGAGCCGGATA.1_1    -0.181398125577087   -0.639861650498633   \n",
      "..                     ...                   ...                  ...   \n",
      "357   TTACAGGGTAGTCTGT.1_9    -0.370495181135327    -1.32358583960526   \n",
      "358   TTCCTTCTCGATTGAC.1_9    -0.448903473064253    -1.60708917422926   \n",
      "359   TTCTCTCCAACCGTAT.1_9    -0.372545763220112    -1.33100019393763   \n",
      "360  AAAGAACGTTGCGTAT.1_10  -0.00857068243002002  -0.0149640122342114   \n",
      "361  CGATCGGAGACCGCCT.1_10    -0.277450015364317   -0.987159498490276   \n",
      "\n",
      "    split_class final_class  \n",
      "1          fast        slow  \n",
      "2          fast       inter  \n",
      "3          slow       inter  \n",
      "4          slow       inter  \n",
      "5          slow       inter  \n",
      "..          ...         ...  \n",
      "357        slow        fast  \n",
      "358        slow        fast  \n",
      "359        slow        fast  \n",
      "360        slow       inter  \n",
      "361        slow        fast  \n",
      "\n",
      "[361 rows x 8 columns]\n"
     ]
    }
   ],
   "source": [
    "print(G0_results)"
   ]
  },
  {
   "cell_type": "code",
   "execution_count": 29,
   "metadata": {},
   "outputs": [],
   "source": [
    "G0_results.columns = ['cell_id', 'G0_up', 'G0_down', 'Sample', 'Prolif_cap', 'Prolif_z', 'split_class', 'final_class']"
   ]
  },
  {
   "cell_type": "code",
   "execution_count": 31,
   "metadata": {},
   "outputs": [],
   "source": [
    "G0_results = G0_results.drop(0)"
   ]
  },
  {
   "cell_type": "code",
   "execution_count": 33,
   "metadata": {},
   "outputs": [],
   "source": [
    "#convert 'inter' to 'slow_cycling' and 'slow' to G0 arrested as per labs paper\n",
    "\n",
    "for i in range(1, len(G0_results)+1):\n",
    "    if G0_results.loc[i]['final_class'] == 'inter':\n",
    "        G0_results.loc[i]['final_class'] = 'slow cycling'\n",
    "    elif G0_results.loc[i]['final_class'] == 'slow':\n",
    "        G0_results.loc[i]['final_class'] = 'G0 arrested'\n",
    "    elif G0_results.loc[i]['final_class'] == 'fast':\n",
    "        G0_results.loc[i]['final_class'] = 'fast cycling'"
   ]
  },
  {
   "cell_type": "code",
   "execution_count": null,
   "metadata": {},
   "outputs": [
    {
     "data": {
      "text/plain": [
       "slow cycling    179\n",
       "G0 arrested      91\n",
       "fast cycling     91\n",
       "Name: final_class, dtype: int64"
      ]
     },
     "execution_count": 35,
     "metadata": {},
     "output_type": "execute_result"
    }
   ],
   "source": [
    "G0_results.final_class.value_counts()"
   ]
  },
  {
   "cell_type": "code",
   "execution_count": 37,
   "metadata": {},
   "outputs": [
    {
     "name": "stdout",
     "output_type": "stream",
     "text": [
      "{'AAACGCTTCATCTACT-1_1': 'G0 arrested', 'AAAGTGATCAACGCTA-1_1': 'slow cycling', 'AACCATGTCGAATGCT-1_1': 'slow cycling', 'AACGGGATCTTCCTAA-1_1': 'slow cycling', 'AAGTTCGAGCCGGATA-1_1': 'slow cycling', 'AATGGAACATCACGGC-1_1': 'fast cycling', 'ACTCTCGTCGTTGTAG-1_1': 'slow cycling', 'AGCATCACACGGAAGT-1_1': 'fast cycling', 'ATGCCTCAGTGCTCGC-1_1': 'fast cycling', 'ATTCCATGTAGAATGT-1_1': 'G0 arrested', 'CATAAGCGTACGCTAT-1_1': 'slow cycling', 'CATGAGTTCTCAGTCC-1_1': 'G0 arrested', 'CATGCGGCACATGACT-1_1': 'G0 arrested', 'CCTTGTGCAACTGGTT-1_1': 'G0 arrested', 'CCTTTGGGTTGAAGTA-1_1': 'slow cycling', 'CTAGACACACAGCTTA-1_1': 'slow cycling', 'CTCCCTCTCCCAAGTA-1_1': 'G0 arrested', 'CTGCCATAGGGTTAAT-1_1': 'slow cycling', 'GAATCGTGTTCTATCT-1_1': 'slow cycling', 'GACCAATTCGCAACAT-1_1': 'slow cycling', 'GACTCAACAAGAGAGA-1_1': 'G0 arrested', 'GAGTCTAAGCAATTCC-1_1': 'slow cycling', 'GCACTAATCACCGGTG-1_1': 'G0 arrested', 'GCAGCCAGTGAGAACC-1_1': 'G0 arrested', 'GCATTAGGTTGCTCAA-1_1': 'slow cycling', 'GTCGTAAAGATCCCGC-1_1': 'G0 arrested', 'GTCTAGAGTTGCGTAT-1_1': 'G0 arrested', 'GTTAGACGTCGATGCC-1_1': 'G0 arrested', 'GTTCTATCAGTTGTTG-1_1': 'slow cycling', 'TCACAAGAGCAGCACA-1_1': 'G0 arrested', 'TCACTATCACCAAATC-1_1': 'slow cycling', 'TCAGCAAGTGAGGAAA-1_1': 'G0 arrested', 'TCATTACCACCCTAGG-1_1': 'G0 arrested', 'TCTACCGTCATCCTGC-1_1': 'slow cycling', 'TGAGTCAGTTTGTTGG-1_1': 'slow cycling', 'TGGATGTTCACACCGG-1_1': 'G0 arrested', 'TGGTACACAACCGACC-1_1': 'fast cycling', 'TGTCCTGTCGGAGCAA-1_1': 'G0 arrested', 'TTTAGTCCAACTTCTT-1_1': 'fast cycling', 'TTTAGTCTCAAGCCCG-1_1': 'G0 arrested', 'TTTCACAGTCATGGCC-1_1': 'slow cycling', 'CAGTTCCTCACTCTTA-1_2': 'G0 arrested', 'CCGTAGGCAATGAAAC-1_2': 'fast cycling', 'GCCGTGACAGAGAATT-1_2': 'slow cycling', 'GCGGAAAGTAGGCAAC-1_2': 'slow cycling', 'GGAGCAAGTCCGGACT-1_2': 'fast cycling', 'GTTATGGGTGATATAG-1_2': 'fast cycling', 'TACCCGTGTCCACACG-1_2': 'G0 arrested', 'TATTGGGCACGCGTGT-1_2': 'slow cycling', 'TCAGCAAGTCAGTCCG-1_2': 'G0 arrested', 'TCTATACTCGATTCCC-1_2': 'G0 arrested', 'ACTGTCCTCTTAGCCC-1_3': 'slow cycling', 'CATGAGTAGTTACGTC-1_3': 'slow cycling', 'CTACAGATCTGTCAGA-1_3': 'fast cycling', 'GATCAGTTCTGCCTCA-1_3': 'G0 arrested', 'GTGTAACGTCCGTTTC-1_3': 'G0 arrested', 'TCAGTCCTCTCCGAAA-1_3': 'fast cycling', 'TCGAACAAGCATTTCG-1_3': 'slow cycling', 'ACACAGTCAATGTCAC-1_4': 'slow cycling', 'ACTTTGTAGGCGCTTC-1_4': 'slow cycling', 'AGTGTTGGTGAGCTCC-1_4': 'slow cycling', 'ATATCCTTCGGTCTAA-1_4': 'slow cycling', 'ATGACCACATTGAGCT-1_4': 'slow cycling', 'ATTCTACAGGTCACAG-1_4': 'slow cycling', 'CACGGGTCACTGGCCA-1_4': 'G0 arrested', 'CATCCGTTCGGTCTAA-1_4': 'G0 arrested', 'CCCTCAAAGTTCATCG-1_4': 'slow cycling', 'CCTTCAGAGCACCGAA-1_4': 'G0 arrested', 'CGATGCGCAACTTGCA-1_4': 'slow cycling', 'CGATGGCTCACCTACC-1_4': 'slow cycling', 'CTGTGAAAGGTCTGGA-1_4': 'slow cycling', 'CTTGAGAAGTCTTGGT-1_4': 'slow cycling', 'GACCCTTAGCCGCACT-1_4': 'fast cycling', 'GGAATCTAGAAGCGGG-1_4': 'G0 arrested', 'GGGAGATGTTTCGTTT-1_4': 'G0 arrested', 'GTCACGGCATCAGTCA-1_4': 'slow cycling', 'GTGGAGACATTGCTTT-1_4': 'slow cycling', 'TACAGGTTCATCTATC-1_4': 'slow cycling', 'TCCGGGATCCAAACCA-1_4': 'G0 arrested', 'TCGATTTGTGTAGGAC-1_4': 'G0 arrested', 'TGCTGAAAGTGCCTCG-1_4': 'slow cycling', 'TTGCTGCGTGGGAGAG-1_4': 'slow cycling', 'TTGTTGTTCCGGTAAT-1_4': 'slow cycling', 'TTGTTTGTCAATCCGA-1_4': 'G0 arrested', 'AAAGGGCCAAACGAGC-1_5': 'slow cycling', 'AACGGGACAAAGTATG-1_5': 'fast cycling', 'AGGGTGACACATTCTT-1_5': 'fast cycling', 'ATTCTTGAGGAATTAC-1_5': 'slow cycling', 'ATTTCACGTCATAACC-1_5': 'fast cycling', 'CAGATTGAGTCATTGC-1_5': 'fast cycling', 'CGCAGGTTCTCCGAGG-1_5': 'slow cycling', 'CGGAACCCACTCCTTG-1_5': 'slow cycling', 'CTACAGACAATGGGTG-1_5': 'fast cycling', 'CTGCCTATCTCACCCA-1_5': 'fast cycling', 'GACTATGTCCAACTGA-1_5': 'slow cycling', 'GCAGTTAAGGCACTAG-1_5': 'fast cycling', 'TATATCCAGTCCCGGT-1_5': 'fast cycling', 'TATCGCCGTTGTTGTG-1_5': 'fast cycling', 'TCGCAGGCATAAGCGG-1_5': 'slow cycling', 'TCTACATGTTAATCGC-1_5': 'slow cycling', 'TGAATCGAGGACTAAT-1_5': 'slow cycling', 'TGAGGGATCAGAGCAG-1_5': 'slow cycling', 'TGGAGAGCACGCTGAC-1_5': 'slow cycling', 'TGGAGAGCAGACGGAT-1_5': 'slow cycling', 'TTCTAACAGGTTATAG-1_5': 'slow cycling', 'AAAGGTACACCAGCGT-1_6': 'slow cycling', 'AATGCCACATTAGGAA-1_6': 'G0 arrested', 'ACTATTCCACGTTGGC-1_6': 'fast cycling', 'AGCTTCCGTTGCCGCA-1_6': 'fast cycling', 'ATAGAGAGTCCACGCA-1_6': 'slow cycling', 'ATGTCTTTCTCCTGTG-1_6': 'slow cycling', 'ATTCCCGCATAAGCGG-1_6': 'G0 arrested', 'ATTCCTAAGTGTCATC-1_6': 'G0 arrested', 'CACGTTCCAGGTGACA-1_6': 'fast cycling', 'CAGAGCCGTAGGCAGT-1_6': 'slow cycling', 'CAGCACGGTCCGACGT-1_6': 'fast cycling', 'CAGCACGTCTGCGAGC-1_6': 'fast cycling', 'CATCGCTCAATGAGCG-1_6': 'slow cycling', 'CCGTAGGCAATAGTCC-1_6': 'slow cycling', 'CCTCACACAAGTGGAC-1_6': 'slow cycling', 'CGATGGCTCGGCCAAC-1_6': 'fast cycling', 'CTACAGACATGAATCC-1_6': 'slow cycling', 'CTACGGGCAGAATTCC-1_6': 'slow cycling', 'CTCCATGCAAGCTCTA-1_6': 'G0 arrested', 'CTGCAGGGTACTTGTG-1_6': 'G0 arrested', 'CTTCTCTGTCTGTCAA-1_6': 'G0 arrested', 'GACGTTAGTGAGCCAA-1_6': 'fast cycling', 'GACTCAACAGGCTACC-1_6': 'G0 arrested', 'GAGGGATGTCTTACTT-1_6': 'fast cycling', 'GGACGTCAGGAACGTC-1_6': 'G0 arrested', 'GGGTCACTCGTCTACC-1_6': 'G0 arrested', 'GTCTCACGTTGCTGAT-1_6': 'slow cycling', 'GTTTGGACATCCCACT-1_6': 'G0 arrested', 'TCTGTCGCACTCCGAG-1_6': 'slow cycling', 'TTACGTTAGGTGCCAA-1_6': 'fast cycling', 'TTCTTGATCTAAGCCA-1_6': 'G0 arrested', 'TTGATGGCACTCAAGT-1_6': 'fast cycling', 'TTTAGTCCAAATCGTC-1_6': 'slow cycling', 'AACCAACCATTCAGGT-1_7': 'fast cycling', 'ACCCAAATCCTCAGGG-1_7': 'slow cycling', 'ATAGAGATCCGAAATC-1_7': 'fast cycling', 'CTCCACAGTTCAAGGG-1_7': 'slow cycling', 'GCTTCACAGAGCATTA-1_7': 'fast cycling', 'GGGCCATTCTATACTC-1_7': 'fast cycling', 'GGTCTGGTCCAACCAA-1_7': 'fast cycling', 'TAGGGTTTCTACACTT-1_7': 'G0 arrested', 'TATTGGGTCGACTCCT-1_7': 'slow cycling', 'TCATTACCACAACGCC-1_7': 'slow cycling', 'AAACCCATCTCGGGAC-1_8': 'slow cycling', 'AAATGGACAGCTTTGA-1_8': 'G0 arrested', 'AACAACCCAACAGCCC-1_8': 'G0 arrested', 'AACCAACCACACCTGG-1_8': 'G0 arrested', 'AACCAACCATGGCGCT-1_8': 'slow cycling', 'AACTTCTAGGCTTTCA-1_8': 'slow cycling', 'AAGATAGTCACCTTGC-1_8': 'slow cycling', 'AAGCGAGTCGAACACT-1_8': 'G0 arrested', 'AAGCGTTAGTGGAAGA-1_8': 'slow cycling', 'AAGCGTTCACCTCAGG-1_8': 'slow cycling', 'AAGTGAAAGGTGCAGT-1_8': 'slow cycling', 'AATCACGTCGGTAACT-1_8': 'G0 arrested', 'AATCGACCACAGTGTT-1_8': 'slow cycling', 'AATGAAGAGCGACAGT-1_8': 'fast cycling', 'AATGAAGTCATTTGGG-1_8': 'G0 arrested', 'AATGGCTTCCCAACTC-1_8': 'slow cycling', 'ACACAGTTCAAGTGGG-1_8': 'fast cycling', 'ACACCAACACAGTCGC-1_8': 'slow cycling', 'ACACCAACATGGGTCC-1_8': 'slow cycling', 'ACATCCCTCGTTCTCG-1_8': 'G0 arrested', 'ACCACAAGTTGGAGAC-1_8': 'G0 arrested', 'ACGCACGAGATCGACG-1_8': 'G0 arrested', 'ACGGAAGTCTGCACCT-1_8': 'G0 arrested', 'ACGGTCGGTCACTCAA-1_8': 'slow cycling', 'ACGGTTATCAGTGTGT-1_8': 'G0 arrested', 'ACTACGAGTCATCCCT-1_8': 'fast cycling', 'ACTATCTGTAGCTTGT-1_8': 'G0 arrested', 'ACTATCTGTCTTTCAT-1_8': 'slow cycling', 'ACTCCCAAGAGGTTAT-1_8': 'slow cycling', 'ACTGTGATCACTGAAC-1_8': 'slow cycling', 'ACTTCCGTCGGCATCG-1_8': 'fast cycling', 'ACTTTGTTCCAACCGG-1_8': 'G0 arrested', 'AGAACCTGTTCGTTCC-1_8': 'slow cycling', 'AGACCATAGGGTACGT-1_8': 'G0 arrested', 'AGCATCAAGTTTCGAC-1_8': 'fast cycling', 'AGCCAATGTGGGCTTC-1_8': 'fast cycling', 'AGCGATTAGACTTCAC-1_8': 'fast cycling', 'AGCTACAAGCGCCTTG-1_8': 'G0 arrested', 'AGGACTTTCGTTGTAG-1_8': 'slow cycling', 'AGGGTTTGTAGTACGG-1_8': 'fast cycling', 'AGGTAGGTCAGAATAG-1_8': 'slow cycling', 'AGGTCTACATCTCGTC-1_8': 'fast cycling', 'ATAGGCTCAGCTGAAG-1_8': 'fast cycling', 'ATCCATTAGGACCCAA-1_8': 'slow cycling', 'ATCCCTGAGGGCCAAT-1_8': 'G0 arrested', 'ATCCGTCAGAGGCCAT-1_8': 'slow cycling', 'ATCTCTAGTATGTCCA-1_8': 'slow cycling', 'ATTCAGGGTTGACTGT-1_8': 'slow cycling', 'ATTCCATCAGGTTACT-1_8': 'fast cycling', 'ATTCCCGAGTGGAATT-1_8': 'fast cycling', 'ATTGGGTTCCGTATAG-1_8': 'slow cycling', 'ATTTACCGTCACTACA-1_8': 'fast cycling', 'ATTTCACCAGTTAGAA-1_8': 'slow cycling', 'ATTTCTGAGACCAAGC-1_8': 'G0 arrested', 'CAACAGTTCCCGATCT-1_8': 'slow cycling', 'CACAGATTCACCGACG-1_8': 'G0 arrested', 'CACAGATTCTTTGATC-1_8': 'G0 arrested', 'CACAGGCAGAGTCTGG-1_8': 'fast cycling', 'CACATGACAAACGAGC-1_8': 'slow cycling', 'CACCAAATCCAAGCCG-1_8': 'fast cycling', 'CACTGGGTCCCTCTAG-1_8': 'fast cycling', 'CAGAGCCCAGTCTGGC-1_8': 'slow cycling', 'CAGAGCCCATAATGCC-1_8': 'slow cycling', 'CAGCAGCCAGATCACT-1_8': 'slow cycling', 'CAGCCAGTCCAGTGTA-1_8': 'slow cycling', 'CAGTTCCCATGTCAGT-1_8': 'slow cycling', 'CATAAGCGTTAGAAGT-1_8': 'fast cycling', 'CATACCCTCATGCCGG-1_8': 'slow cycling', 'CATCAAGCACTCCTGT-1_8': 'G0 arrested', 'CATCCCACAGTCTCTC-1_8': 'fast cycling', 'CATCGGGCAGAGCCCT-1_8': 'fast cycling', 'CATGCCTCATCATCTT-1_8': 'slow cycling', 'CATGCCTGTCCGAAAG-1_8': 'slow cycling', 'CATTTCACAAATGGTA-1_8': 'G0 arrested', 'CCAAGCGCAAGTGACG-1_8': 'slow cycling', 'CCACAAACACCTGCTT-1_8': 'slow cycling', 'CCACGAGGTAAGCTCT-1_8': 'fast cycling', 'CCACTTGTCTGAATCG-1_8': 'slow cycling', 'CCCTAACGTGCTCTCT-1_8': 'slow cycling', 'CCGATGGGTTAGCTAC-1_8': 'slow cycling', 'CCGTAGGGTAGCCAGA-1_8': 'fast cycling', 'CCTGTTGAGTGGCCTC-1_8': 'fast cycling', 'CGAATTGTCTATCGGA-1_8': 'slow cycling', 'CGGGTCAGTAAGCTCT-1_8': 'G0 arrested', 'CGTAAGTCATTGTGCA-1_8': 'fast cycling', 'CGTAAGTTCTCCGCAT-1_8': 'slow cycling', 'CGTAGTAAGGTGAGAA-1_8': 'G0 arrested', 'CGTAGTACAGGCATGA-1_8': 'slow cycling', 'CTAACCCGTCTAACGT-1_8': 'slow cycling', 'CTATCCGCACAATGAA-1_8': 'slow cycling', 'CTCAATTTCTTCTCAA-1_8': 'slow cycling', 'CTCATGCAGAGAGTGA-1_8': 'slow cycling', 'CTCTCAGAGAGGTTAT-1_8': 'fast cycling', 'CTGCAGGAGGTGGGTT-1_8': 'G0 arrested', 'CTGTATTAGACTCGAG-1_8': 'slow cycling', 'CTGTATTCAGCTGTCG-1_8': 'G0 arrested', 'CTGTGGGTCAGTGCGC-1_8': 'fast cycling', 'CTTCCTTCAAAGCTAA-1_8': 'G0 arrested', 'CTTCTCTTCTACGCGG-1_8': 'slow cycling', 'CTTGATTCATCGCTGG-1_8': 'fast cycling', 'CTTTCAATCTCAACGA-1_8': 'slow cycling', 'GACCTTCTCATTTGTC-1_8': 'slow cycling', 'GAGCTGCCATTGTCGA-1_8': 'slow cycling', 'GAGGCCTTCGAGCCAC-1_8': 'G0 arrested', 'GAGTTACAGTTGCTGT-1_8': 'fast cycling', 'GATCCCTCAGCTTTCC-1_8': 'slow cycling', 'GATGACTTCTTGGTCC-1_8': 'fast cycling', 'GATGCTAGTTCCCAAA-1_8': 'slow cycling', 'GATGGAGCAGCGGTTC-1_8': 'G0 arrested', 'GATTGGTCACTTCTCG-1_8': 'slow cycling', 'GATTTCTCACATACGT-1_8': 'G0 arrested', 'GCACATATCTCAGGCG-1_8': 'fast cycling', 'GCAGTTAGTCGAACGA-1_8': 'slow cycling', 'GCATGATAGGACAAGA-1_8': 'slow cycling', 'GCCCGAAAGCTGCGAA-1_8': 'G0 arrested', 'GCCGATGGTTGTCATG-1_8': 'fast cycling', 'GCGTTTCAGTTCCTGA-1_8': 'slow cycling', 'GCTACCTAGAAGGCTC-1_8': 'G0 arrested', 'GGAACCCTCGTTGTTT-1_8': 'slow cycling', 'GGAATGGAGGCTCAAG-1_8': 'fast cycling', 'GGGAGATTCTAGCCTC-1_8': 'G0 arrested', 'GGGCCATCAACGGCCT-1_8': 'slow cycling', 'GGGCGTTCAACCGGAA-1_8': 'slow cycling', 'GGGTAGATCCTGTTAT-1_8': 'slow cycling', 'GGGTGTCGTCGCGTCA-1_8': 'slow cycling', 'GGTGTTAGTGGAAATT-1_8': 'G0 arrested', 'GTAAGTCGTTTGGAAA-1_8': 'G0 arrested', 'GTACAACCACTGCTTC-1_8': 'slow cycling', 'GTACAACGTTGCAACT-1_8': 'fast cycling', 'GTAGGAGAGACCAGCA-1_8': 'G0 arrested', 'GTAGGAGGTCTTGAGT-1_8': 'slow cycling', 'GTAGGTTAGGCATCTT-1_8': 'fast cycling', 'GTCAAACCAACTGTGT-1_8': 'slow cycling', 'GTCATTTTCCGCTGTT-1_8': 'G0 arrested', 'GTCATTTTCGTGAGAG-1_8': 'slow cycling', 'GTCTAGAGTGTTGATC-1_8': 'slow cycling', 'GTGAGCCAGGAACGAA-1_8': 'slow cycling', 'GTGAGCCGTTCGCGTG-1_8': 'G0 arrested', 'GTGCTGGCACGTACTA-1_8': 'G0 arrested', 'GTGGCGTGTCTTCGAA-1_8': 'fast cycling', 'GTTCATTTCGTGGGAA-1_8': 'G0 arrested', 'GTTCCGTTCAGTCACA-1_8': 'fast cycling', 'TAACACGCAACGTATC-1_8': 'fast cycling', 'TAACGACGTTCAAGGG-1_8': 'fast cycling', 'TAAGCACTCGTTGCCT-1_8': 'slow cycling', 'TAAGCCAGTGGTCCGT-1_8': 'fast cycling', 'TAATTCCTCGACCAAT-1_8': 'G0 arrested', 'TACAGGTGTTCCGTTC-1_8': 'fast cycling', 'TACCGAACATGCGTGC-1_8': 'fast cycling', 'TACCGGGGTGTTAGCT-1_8': 'slow cycling', 'TACGCTCAGCCGGATA-1_8': 'slow cycling', 'TAGCACATCCCTCATG-1_8': 'slow cycling', 'TAGGTACAGACTCATC-1_8': 'slow cycling', 'TAGTGCATCCGATCTC-1_8': 'fast cycling', 'TATCAGGGTACAGTCT-1_8': 'slow cycling', 'TCACACCGTGAATTGA-1_8': 'G0 arrested', 'TCACGCTGTGGTACAG-1_8': 'slow cycling', 'TCACGGGCAAGAAATC-1_8': 'G0 arrested', 'TCAGGTAGTCACCCTT-1_8': 'slow cycling', 'TCATGAGAGCCTAACT-1_8': 'slow cycling', 'TCATTGTAGGGTTAGC-1_8': 'slow cycling', 'TCATTGTGTTCGCGTG-1_8': 'slow cycling', 'TCCACCACAACCGATT-1_8': 'G0 arrested', 'TCCAGAACAAGTTCCA-1_8': 'G0 arrested', 'TCCAGAAGTACAAGTA-1_8': 'slow cycling', 'TCCATCGAGAGCAGAA-1_8': 'fast cycling', 'TCCCATGCATCTGCGG-1_8': 'G0 arrested', 'TCCGAAATCGCCTATC-1_8': 'slow cycling', 'TCCGGGAGTGGTTCTA-1_8': 'slow cycling', 'TCCTCCCAGCTATCCA-1_8': 'slow cycling', 'TCCTCTTAGCTTGTTG-1_8': 'fast cycling', 'TCGAACAAGGTGCTAG-1_8': 'slow cycling', 'TCGAACACAAACACCT-1_8': 'slow cycling', 'TCGACGGCAGGACGAT-1_8': 'G0 arrested', 'TCGCTTGGTGGGTATG-1_8': 'slow cycling', 'TCGGATAGTTGGATCT-1_8': 'slow cycling', 'TCGGGCACAGCGTTGC-1_8': 'fast cycling', 'TCTATCACAAGTGTCT-1_8': 'slow cycling', 'TCTCCGAGTCACAGTT-1_8': 'slow cycling', 'TGACAGTAGGCTAGCA-1_8': 'slow cycling', 'TGACGCGCAGTTAGGG-1_8': 'slow cycling', 'TGACGCGTCCATAAGC-1_8': 'fast cycling', 'TGATCAGAGCACCTGC-1_8': 'fast cycling', 'TGCATCCGTGAACGGT-1_8': 'slow cycling', 'TGCATGAAGAAGTATC-1_8': 'fast cycling', 'TGCGACGAGTGCCGAA-1_8': 'slow cycling', 'TGCGACGCATTGCAAC-1_8': 'slow cycling', 'TGCGGGTGTAATGATG-1_8': 'slow cycling', 'TGGATGTGTGCGACAA-1_8': 'slow cycling', 'TGGTAGTAGTCATCGT-1_8': 'slow cycling', 'TGTGGCGGTTCCAAAC-1_8': 'slow cycling', 'TTACAGGTCTCGGTAA-1_8': 'G0 arrested', 'TTAGGGTAGCATCCCG-1_8': 'slow cycling', 'TTATTGCCAACCGGAA-1_8': 'slow cycling', 'TTATTGCCATACTTTC-1_8': 'slow cycling', 'TTGAGTGAGAGTTGTA-1_8': 'slow cycling', 'TTGCATTGTGGTAACG-1_8': 'slow cycling', 'TTGTTCATCGACATAC-1_8': 'slow cycling', 'TTTCATGGTACCGTGC-1_8': 'slow cycling', 'ATAGGCTAGATAACAC-1_9': 'fast cycling', 'ATGGATCGTTGAGTCT-1_9': 'fast cycling', 'CAGCACGTCGTGTGGC-1_9': 'slow cycling', 'GAGCTGCAGAGCTTTC-1_9': 'slow cycling', 'GAGCTGCTCGGAGATG-1_9': 'fast cycling', 'GATCATGGTCTTGTCC-1_9': 'slow cycling', 'GGGAGATTCCTCTAAT-1_9': 'slow cycling', 'TCAAGACTCATTCACT-1_9': 'fast cycling', 'TCGACCTCATACTGAC-1_9': 'fast cycling', 'TTACAGGGTAGTCTGT-1_9': 'fast cycling', 'TTCCTTCTCGATTGAC-1_9': 'fast cycling', 'TTCTCTCCAACCGTAT-1_9': 'fast cycling', 'AAAGAACGTTGCGTAT-1_10': 'slow cycling', 'CGATCGGAGACCGCCT-1_10': 'fast cycling'}\n"
     ]
    }
   ],
   "source": [
    "# create mapping dictionary - cell ID matched to final G0 classification\n",
    "G0_dict = {}\n",
    "\n",
    "for i in range(1, len(G0_results)+1):\n",
    "    cellID = G0_results.loc[i]['cell_id'].replace('.','-')\n",
    "    G0_class = G0_results.loc[i]['final_class']\n",
    "\n",
    "    G0_dict[cellID] = G0_class\n",
    "\n",
    "print(G0_dict)"
   ]
  },
  {
   "cell_type": "code",
   "execution_count": 38,
   "metadata": {},
   "outputs": [],
   "source": [
    "epithelial_adata.obs[\"G0_class\"] = epithelial_adata.obs.index.map(G0_dict)"
   ]
  },
  {
   "cell_type": "code",
   "execution_count": 39,
   "metadata": {},
   "outputs": [
    {
     "data": {
      "text/plain": [
       "slow cycling    179\n",
       "G0 arrested      91\n",
       "fast cycling     91\n",
       "Name: G0_class, dtype: int64"
      ]
     },
     "execution_count": 39,
     "metadata": {},
     "output_type": "execute_result"
    }
   ],
   "source": [
    "epithelial_adata.obs.G0_class.value_counts()"
   ]
  },
  {
   "cell_type": "code",
   "execution_count": 40,
   "metadata": {},
   "outputs": [
    {
     "data": {
      "text/html": [
       "<div>\n",
       "<style scoped>\n",
       "    .dataframe tbody tr th:only-of-type {\n",
       "        vertical-align: middle;\n",
       "    }\n",
       "\n",
       "    .dataframe tbody tr th {\n",
       "        vertical-align: top;\n",
       "    }\n",
       "\n",
       "    .dataframe thead th {\n",
       "        text-align: right;\n",
       "    }\n",
       "</style>\n",
       "<table border=\"1\" class=\"dataframe\">\n",
       "  <thead>\n",
       "    <tr style=\"text-align: right;\">\n",
       "      <th></th>\n",
       "      <th>orig.ident</th>\n",
       "      <th>nCount_RNA</th>\n",
       "      <th>nFeature_RNA</th>\n",
       "      <th>sample_ID</th>\n",
       "      <th>donor</th>\n",
       "      <th>chemo</th>\n",
       "      <th>tissueType</th>\n",
       "      <th>dataType</th>\n",
       "      <th>Mandard</th>\n",
       "      <th>percent.mt</th>\n",
       "      <th>...</th>\n",
       "      <th>seurat_clusters</th>\n",
       "      <th>SingleR_hpca_coarse</th>\n",
       "      <th>SingleR_hpca_fine</th>\n",
       "      <th>SingleR_monaco</th>\n",
       "      <th>SingleR_immCellExp</th>\n",
       "      <th>highLevelType</th>\n",
       "      <th>ident</th>\n",
       "      <th>tumor</th>\n",
       "      <th>subclone</th>\n",
       "      <th>G0_class</th>\n",
       "    </tr>\n",
       "  </thead>\n",
       "  <tbody>\n",
       "    <tr>\n",
       "      <th>AAACGCTTCATCTACT-1_1</th>\n",
       "      <td>SeuratProject</td>\n",
       "      <td>1781.981523</td>\n",
       "      <td>1169</td>\n",
       "      <td>s1</td>\n",
       "      <td>Pt1</td>\n",
       "      <td>post</td>\n",
       "      <td>T</td>\n",
       "      <td>scRNA</td>\n",
       "      <td>3</td>\n",
       "      <td>3.177287</td>\n",
       "      <td>...</td>\n",
       "      <td>16</td>\n",
       "      <td>Neurons</td>\n",
       "      <td>Neurons:Schwann_cell</td>\n",
       "      <td>Classical monocytes</td>\n",
       "      <td>Monocytes, CD14+</td>\n",
       "      <td>Epithelial</td>\n",
       "      <td>Epithelial</td>\n",
       "      <td>tumor</td>\n",
       "      <td>1</td>\n",
       "      <td>G0 arrested</td>\n",
       "    </tr>\n",
       "    <tr>\n",
       "      <th>AAAGTGATCAACGCTA-1_1</th>\n",
       "      <td>SeuratProject</td>\n",
       "      <td>5444.449078</td>\n",
       "      <td>1702</td>\n",
       "      <td>s1</td>\n",
       "      <td>Pt1</td>\n",
       "      <td>post</td>\n",
       "      <td>T</td>\n",
       "      <td>scRNA</td>\n",
       "      <td>3</td>\n",
       "      <td>3.376161</td>\n",
       "      <td>...</td>\n",
       "      <td>16</td>\n",
       "      <td>Smooth_muscle_cells</td>\n",
       "      <td>Smooth_muscle_cells:vascular</td>\n",
       "      <td>Intermediate monocytes</td>\n",
       "      <td>Monocytes, CD14+</td>\n",
       "      <td>Epithelial</td>\n",
       "      <td>Epithelial</td>\n",
       "      <td>tumor</td>\n",
       "      <td>2</td>\n",
       "      <td>slow cycling</td>\n",
       "    </tr>\n",
       "    <tr>\n",
       "      <th>AACCATGTCGAATGCT-1_1</th>\n",
       "      <td>SeuratProject</td>\n",
       "      <td>4589.532619</td>\n",
       "      <td>1740</td>\n",
       "      <td>s1</td>\n",
       "      <td>Pt1</td>\n",
       "      <td>post</td>\n",
       "      <td>T</td>\n",
       "      <td>scRNA</td>\n",
       "      <td>3</td>\n",
       "      <td>4.062440</td>\n",
       "      <td>...</td>\n",
       "      <td>16</td>\n",
       "      <td>Neurons</td>\n",
       "      <td>Neurons:Schwann_cell</td>\n",
       "      <td>Non-switched memory B cells</td>\n",
       "      <td>B cells, naive</td>\n",
       "      <td>Epithelial</td>\n",
       "      <td>Epithelial</td>\n",
       "      <td>tumor</td>\n",
       "      <td>1</td>\n",
       "      <td>slow cycling</td>\n",
       "    </tr>\n",
       "    <tr>\n",
       "      <th>AACGGGATCTTCCTAA-1_1</th>\n",
       "      <td>SeuratProject</td>\n",
       "      <td>2711.870050</td>\n",
       "      <td>1204</td>\n",
       "      <td>s1</td>\n",
       "      <td>Pt1</td>\n",
       "      <td>post</td>\n",
       "      <td>T</td>\n",
       "      <td>scRNA</td>\n",
       "      <td>3</td>\n",
       "      <td>3.834255</td>\n",
       "      <td>...</td>\n",
       "      <td>16</td>\n",
       "      <td>Tissue_stem_cells</td>\n",
       "      <td>Tissue_stem_cells:BM_MSC:TGFb3</td>\n",
       "      <td>Classical monocytes</td>\n",
       "      <td>T cells, CD4+, naive, stimulated</td>\n",
       "      <td>Epithelial</td>\n",
       "      <td>Epithelial</td>\n",
       "      <td>tumor</td>\n",
       "      <td>2</td>\n",
       "      <td>slow cycling</td>\n",
       "    </tr>\n",
       "    <tr>\n",
       "      <th>AAGGAATAGAAATCCA-1_1</th>\n",
       "      <td>SeuratProject</td>\n",
       "      <td>8078.330132</td>\n",
       "      <td>2206</td>\n",
       "      <td>s1</td>\n",
       "      <td>Pt1</td>\n",
       "      <td>post</td>\n",
       "      <td>T</td>\n",
       "      <td>scRNA</td>\n",
       "      <td>3</td>\n",
       "      <td>3.262934</td>\n",
       "      <td>...</td>\n",
       "      <td>16</td>\n",
       "      <td>Tissue_stem_cells</td>\n",
       "      <td>Tissue_stem_cells:BM_MSC:BMP2</td>\n",
       "      <td>Non-switched memory B cells</td>\n",
       "      <td>B cells, naive</td>\n",
       "      <td>Epithelial</td>\n",
       "      <td>Epithelial</td>\n",
       "      <td>normal</td>\n",
       "      <td>0</td>\n",
       "      <td>NaN</td>\n",
       "    </tr>\n",
       "    <tr>\n",
       "      <th>...</th>\n",
       "      <td>...</td>\n",
       "      <td>...</td>\n",
       "      <td>...</td>\n",
       "      <td>...</td>\n",
       "      <td>...</td>\n",
       "      <td>...</td>\n",
       "      <td>...</td>\n",
       "      <td>...</td>\n",
       "      <td>...</td>\n",
       "      <td>...</td>\n",
       "      <td>...</td>\n",
       "      <td>...</td>\n",
       "      <td>...</td>\n",
       "      <td>...</td>\n",
       "      <td>...</td>\n",
       "      <td>...</td>\n",
       "      <td>...</td>\n",
       "      <td>...</td>\n",
       "      <td>...</td>\n",
       "      <td>...</td>\n",
       "      <td>...</td>\n",
       "    </tr>\n",
       "    <tr>\n",
       "      <th>GAAGGACGTGATTCAC-1_10</th>\n",
       "      <td>SeuratProject</td>\n",
       "      <td>9198.930998</td>\n",
       "      <td>3165</td>\n",
       "      <td>s10</td>\n",
       "      <td>Pt8</td>\n",
       "      <td>post</td>\n",
       "      <td>T</td>\n",
       "      <td>scRNA</td>\n",
       "      <td>1</td>\n",
       "      <td>9.162426</td>\n",
       "      <td>...</td>\n",
       "      <td>16</td>\n",
       "      <td>Tissue_stem_cells</td>\n",
       "      <td>Tissue_stem_cells:BM_MSC:TGFb3</td>\n",
       "      <td>Progenitor cells</td>\n",
       "      <td>Monocytes, CD16+</td>\n",
       "      <td>Epithelial</td>\n",
       "      <td>Epithelial</td>\n",
       "      <td>normal</td>\n",
       "      <td>0</td>\n",
       "      <td>NaN</td>\n",
       "    </tr>\n",
       "    <tr>\n",
       "      <th>GAATCACGTTCAAACC-1_10</th>\n",
       "      <td>SeuratProject</td>\n",
       "      <td>4993.783054</td>\n",
       "      <td>1449</td>\n",
       "      <td>s10</td>\n",
       "      <td>Pt8</td>\n",
       "      <td>post</td>\n",
       "      <td>T</td>\n",
       "      <td>scRNA</td>\n",
       "      <td>1</td>\n",
       "      <td>4.111648</td>\n",
       "      <td>...</td>\n",
       "      <td>16</td>\n",
       "      <td>Tissue_stem_cells</td>\n",
       "      <td>Tissue_stem_cells:BM_MSC:BMP2</td>\n",
       "      <td>Myeloid dendritic cells</td>\n",
       "      <td>Monocytes, CD14+</td>\n",
       "      <td>Epithelial</td>\n",
       "      <td>Epithelial</td>\n",
       "      <td>normal</td>\n",
       "      <td>0</td>\n",
       "      <td>NaN</td>\n",
       "    </tr>\n",
       "    <tr>\n",
       "      <th>GACCAATGTATGGGAC-1_10</th>\n",
       "      <td>SeuratProject</td>\n",
       "      <td>21167.510738</td>\n",
       "      <td>3407</td>\n",
       "      <td>s10</td>\n",
       "      <td>Pt8</td>\n",
       "      <td>post</td>\n",
       "      <td>T</td>\n",
       "      <td>scRNA</td>\n",
       "      <td>1</td>\n",
       "      <td>9.597434</td>\n",
       "      <td>...</td>\n",
       "      <td>16</td>\n",
       "      <td>Epithelial_cells</td>\n",
       "      <td>Epithelial_cells:bronchial</td>\n",
       "      <td>Progenitor cells</td>\n",
       "      <td>Monocytes, CD14+</td>\n",
       "      <td>Epithelial</td>\n",
       "      <td>Epithelial</td>\n",
       "      <td>normal</td>\n",
       "      <td>0</td>\n",
       "      <td>NaN</td>\n",
       "    </tr>\n",
       "    <tr>\n",
       "      <th>TCAGTCCCACTGGCGT-1_10</th>\n",
       "      <td>SeuratProject</td>\n",
       "      <td>4916.686930</td>\n",
       "      <td>1302</td>\n",
       "      <td>s10</td>\n",
       "      <td>Pt8</td>\n",
       "      <td>post</td>\n",
       "      <td>T</td>\n",
       "      <td>scRNA</td>\n",
       "      <td>1</td>\n",
       "      <td>8.450583</td>\n",
       "      <td>...</td>\n",
       "      <td>16</td>\n",
       "      <td>Tissue_stem_cells</td>\n",
       "      <td>Tissue_stem_cells:iliac_MSC</td>\n",
       "      <td>Myeloid dendritic cells</td>\n",
       "      <td>Monocytes, CD14+</td>\n",
       "      <td>Epithelial</td>\n",
       "      <td>Epithelial</td>\n",
       "      <td>normal</td>\n",
       "      <td>0</td>\n",
       "      <td>NaN</td>\n",
       "    </tr>\n",
       "    <tr>\n",
       "      <th>TCATGGATCCACGAAT-1_10</th>\n",
       "      <td>SeuratProject</td>\n",
       "      <td>4336.881505</td>\n",
       "      <td>1582</td>\n",
       "      <td>s10</td>\n",
       "      <td>Pt8</td>\n",
       "      <td>post</td>\n",
       "      <td>T</td>\n",
       "      <td>scRNA</td>\n",
       "      <td>1</td>\n",
       "      <td>9.205042</td>\n",
       "      <td>...</td>\n",
       "      <td>16</td>\n",
       "      <td>Tissue_stem_cells</td>\n",
       "      <td>Tissue_stem_cells:BM_MSC:TGFb3</td>\n",
       "      <td>Progenitor cells</td>\n",
       "      <td>Monocytes, CD14+</td>\n",
       "      <td>Epithelial</td>\n",
       "      <td>Epithelial</td>\n",
       "      <td>normal</td>\n",
       "      <td>0</td>\n",
       "      <td>NaN</td>\n",
       "    </tr>\n",
       "  </tbody>\n",
       "</table>\n",
       "<p>961 rows × 30 columns</p>\n",
       "</div>"
      ],
      "text/plain": [
       "                          orig.ident    nCount_RNA  nFeature_RNA sample_ID  \\\n",
       "AAACGCTTCATCTACT-1_1   SeuratProject   1781.981523          1169        s1   \n",
       "AAAGTGATCAACGCTA-1_1   SeuratProject   5444.449078          1702        s1   \n",
       "AACCATGTCGAATGCT-1_1   SeuratProject   4589.532619          1740        s1   \n",
       "AACGGGATCTTCCTAA-1_1   SeuratProject   2711.870050          1204        s1   \n",
       "AAGGAATAGAAATCCA-1_1   SeuratProject   8078.330132          2206        s1   \n",
       "...                              ...           ...           ...       ...   \n",
       "GAAGGACGTGATTCAC-1_10  SeuratProject   9198.930998          3165       s10   \n",
       "GAATCACGTTCAAACC-1_10  SeuratProject   4993.783054          1449       s10   \n",
       "GACCAATGTATGGGAC-1_10  SeuratProject  21167.510738          3407       s10   \n",
       "TCAGTCCCACTGGCGT-1_10  SeuratProject   4916.686930          1302       s10   \n",
       "TCATGGATCCACGAAT-1_10  SeuratProject   4336.881505          1582       s10   \n",
       "\n",
       "                      donor chemo tissueType dataType  Mandard  percent.mt  \\\n",
       "AAACGCTTCATCTACT-1_1    Pt1  post          T    scRNA        3    3.177287   \n",
       "AAAGTGATCAACGCTA-1_1    Pt1  post          T    scRNA        3    3.376161   \n",
       "AACCATGTCGAATGCT-1_1    Pt1  post          T    scRNA        3    4.062440   \n",
       "AACGGGATCTTCCTAA-1_1    Pt1  post          T    scRNA        3    3.834255   \n",
       "AAGGAATAGAAATCCA-1_1    Pt1  post          T    scRNA        3    3.262934   \n",
       "...                     ...   ...        ...      ...      ...         ...   \n",
       "GAAGGACGTGATTCAC-1_10   Pt8  post          T    scRNA        1    9.162426   \n",
       "GAATCACGTTCAAACC-1_10   Pt8  post          T    scRNA        1    4.111648   \n",
       "GACCAATGTATGGGAC-1_10   Pt8  post          T    scRNA        1    9.597434   \n",
       "TCAGTCCCACTGGCGT-1_10   Pt8  post          T    scRNA        1    8.450583   \n",
       "TCATGGATCCACGAAT-1_10   Pt8  post          T    scRNA        1    9.205042   \n",
       "\n",
       "                       ...  seurat_clusters  SingleR_hpca_coarse  \\\n",
       "AAACGCTTCATCTACT-1_1   ...               16              Neurons   \n",
       "AAAGTGATCAACGCTA-1_1   ...               16  Smooth_muscle_cells   \n",
       "AACCATGTCGAATGCT-1_1   ...               16              Neurons   \n",
       "AACGGGATCTTCCTAA-1_1   ...               16    Tissue_stem_cells   \n",
       "AAGGAATAGAAATCCA-1_1   ...               16    Tissue_stem_cells   \n",
       "...                    ...              ...                  ...   \n",
       "GAAGGACGTGATTCAC-1_10  ...               16    Tissue_stem_cells   \n",
       "GAATCACGTTCAAACC-1_10  ...               16    Tissue_stem_cells   \n",
       "GACCAATGTATGGGAC-1_10  ...               16     Epithelial_cells   \n",
       "TCAGTCCCACTGGCGT-1_10  ...               16    Tissue_stem_cells   \n",
       "TCATGGATCCACGAAT-1_10  ...               16    Tissue_stem_cells   \n",
       "\n",
       "                                    SingleR_hpca_fine  \\\n",
       "AAACGCTTCATCTACT-1_1             Neurons:Schwann_cell   \n",
       "AAAGTGATCAACGCTA-1_1     Smooth_muscle_cells:vascular   \n",
       "AACCATGTCGAATGCT-1_1             Neurons:Schwann_cell   \n",
       "AACGGGATCTTCCTAA-1_1   Tissue_stem_cells:BM_MSC:TGFb3   \n",
       "AAGGAATAGAAATCCA-1_1    Tissue_stem_cells:BM_MSC:BMP2   \n",
       "...                                               ...   \n",
       "GAAGGACGTGATTCAC-1_10  Tissue_stem_cells:BM_MSC:TGFb3   \n",
       "GAATCACGTTCAAACC-1_10   Tissue_stem_cells:BM_MSC:BMP2   \n",
       "GACCAATGTATGGGAC-1_10      Epithelial_cells:bronchial   \n",
       "TCAGTCCCACTGGCGT-1_10     Tissue_stem_cells:iliac_MSC   \n",
       "TCATGGATCCACGAAT-1_10  Tissue_stem_cells:BM_MSC:TGFb3   \n",
       "\n",
       "                                    SingleR_monaco  \\\n",
       "AAACGCTTCATCTACT-1_1           Classical monocytes   \n",
       "AAAGTGATCAACGCTA-1_1        Intermediate monocytes   \n",
       "AACCATGTCGAATGCT-1_1   Non-switched memory B cells   \n",
       "AACGGGATCTTCCTAA-1_1           Classical monocytes   \n",
       "AAGGAATAGAAATCCA-1_1   Non-switched memory B cells   \n",
       "...                                            ...   \n",
       "GAAGGACGTGATTCAC-1_10             Progenitor cells   \n",
       "GAATCACGTTCAAACC-1_10      Myeloid dendritic cells   \n",
       "GACCAATGTATGGGAC-1_10             Progenitor cells   \n",
       "TCAGTCCCACTGGCGT-1_10      Myeloid dendritic cells   \n",
       "TCATGGATCCACGAAT-1_10             Progenitor cells   \n",
       "\n",
       "                                     SingleR_immCellExp  highLevelType  \\\n",
       "AAACGCTTCATCTACT-1_1                   Monocytes, CD14+     Epithelial   \n",
       "AAAGTGATCAACGCTA-1_1                   Monocytes, CD14+     Epithelial   \n",
       "AACCATGTCGAATGCT-1_1                     B cells, naive     Epithelial   \n",
       "AACGGGATCTTCCTAA-1_1   T cells, CD4+, naive, stimulated     Epithelial   \n",
       "AAGGAATAGAAATCCA-1_1                     B cells, naive     Epithelial   \n",
       "...                                                 ...            ...   \n",
       "GAAGGACGTGATTCAC-1_10                  Monocytes, CD16+     Epithelial   \n",
       "GAATCACGTTCAAACC-1_10                  Monocytes, CD14+     Epithelial   \n",
       "GACCAATGTATGGGAC-1_10                  Monocytes, CD14+     Epithelial   \n",
       "TCAGTCCCACTGGCGT-1_10                  Monocytes, CD14+     Epithelial   \n",
       "TCATGGATCCACGAAT-1_10                  Monocytes, CD14+     Epithelial   \n",
       "\n",
       "                            ident   tumor subclone      G0_class  \n",
       "AAACGCTTCATCTACT-1_1   Epithelial   tumor        1   G0 arrested  \n",
       "AAAGTGATCAACGCTA-1_1   Epithelial   tumor        2  slow cycling  \n",
       "AACCATGTCGAATGCT-1_1   Epithelial   tumor        1  slow cycling  \n",
       "AACGGGATCTTCCTAA-1_1   Epithelial   tumor        2  slow cycling  \n",
       "AAGGAATAGAAATCCA-1_1   Epithelial  normal        0           NaN  \n",
       "...                           ...     ...      ...           ...  \n",
       "GAAGGACGTGATTCAC-1_10  Epithelial  normal        0           NaN  \n",
       "GAATCACGTTCAAACC-1_10  Epithelial  normal        0           NaN  \n",
       "GACCAATGTATGGGAC-1_10  Epithelial  normal        0           NaN  \n",
       "TCAGTCCCACTGGCGT-1_10  Epithelial  normal        0           NaN  \n",
       "TCATGGATCCACGAAT-1_10  Epithelial  normal        0           NaN  \n",
       "\n",
       "[961 rows x 30 columns]"
      ]
     },
     "execution_count": 40,
     "metadata": {},
     "output_type": "execute_result"
    }
   ],
   "source": [
    "epithelial_adata.obs"
   ]
  },
  {
   "cell_type": "code",
   "execution_count": 213,
   "metadata": {},
   "outputs": [
    {
     "data": {
      "text/plain": [
       "T    890\n",
       "Name: tissueType, dtype: int64"
      ]
     },
     "execution_count": 213,
     "metadata": {},
     "output_type": "execute_result"
    }
   ],
   "source": [
    "epithelial_adata.obs.tissueType.value_counts()"
   ]
  },
  {
   "cell_type": "markdown",
   "metadata": {},
   "source": [
    "# Plots"
   ]
  },
  {
   "cell_type": "markdown",
   "metadata": {},
   "source": [
    "## Epithelial by patient and treatment stage"
   ]
  },
  {
   "cell_type": "code",
   "execution_count": 214,
   "metadata": {},
   "outputs": [],
   "source": [
    "epi_df = pd.DataFrame(epithelial_adata.obs).reset_index()"
   ]
  },
  {
   "cell_type": "code",
   "execution_count": 215,
   "metadata": {},
   "outputs": [],
   "source": [
    "epi_df['donor_chemo'] = epi_df['donor'].astype(str)+ epi_df['chemo'].astype(str)"
   ]
  },
  {
   "cell_type": "code",
   "execution_count": 216,
   "metadata": {},
   "outputs": [
    {
     "name": "stdout",
     "output_type": "stream",
     "text": [
      "                     index     orig.ident    nCount_RNA  nFeature_RNA  \\\n",
      "0     AAACGCTTCATCTACT-1_1  SeuratProject   1781.981523          1169   \n",
      "1     AAAGTGATCAACGCTA-1_1  SeuratProject   5444.449078          1702   \n",
      "2     AACCATGTCGAATGCT-1_1  SeuratProject   4589.532619          1740   \n",
      "3     AACGGGATCTTCCTAA-1_1  SeuratProject   2711.870050          1204   \n",
      "4     AAGGAATAGAAATCCA-1_1  SeuratProject   8078.330132          2206   \n",
      "..                     ...            ...           ...           ...   \n",
      "885  GAAGGACGTGATTCAC-1_10  SeuratProject   9198.930998          3165   \n",
      "886  GAATCACGTTCAAACC-1_10  SeuratProject   4993.783054          1449   \n",
      "887  GACCAATGTATGGGAC-1_10  SeuratProject  21167.510738          3407   \n",
      "888  TCAGTCCCACTGGCGT-1_10  SeuratProject   4916.686930          1302   \n",
      "889  TCATGGATCCACGAAT-1_10  SeuratProject   4336.881505          1582   \n",
      "\n",
      "    sample_ID donor chemo tissueType dataType  Mandard  ...  \\\n",
      "0          s1   Pt1  post          T    scRNA        3  ...   \n",
      "1          s1   Pt1  post          T    scRNA        3  ...   \n",
      "2          s1   Pt1  post          T    scRNA        3  ...   \n",
      "3          s1   Pt1  post          T    scRNA        3  ...   \n",
      "4          s1   Pt1  post          T    scRNA        3  ...   \n",
      "..        ...   ...   ...        ...      ...      ...  ...   \n",
      "885       s10   Pt8  post          T    scRNA        1  ...   \n",
      "886       s10   Pt8  post          T    scRNA        1  ...   \n",
      "887       s10   Pt8  post          T    scRNA        1  ...   \n",
      "888       s10   Pt8  post          T    scRNA        1  ...   \n",
      "889       s10   Pt8  post          T    scRNA        1  ...   \n",
      "\n",
      "     SingleR_hpca_coarse               SingleR_hpca_fine  \\\n",
      "0                Neurons            Neurons:Schwann_cell   \n",
      "1    Smooth_muscle_cells    Smooth_muscle_cells:vascular   \n",
      "2                Neurons            Neurons:Schwann_cell   \n",
      "3      Tissue_stem_cells  Tissue_stem_cells:BM_MSC:TGFb3   \n",
      "4      Tissue_stem_cells   Tissue_stem_cells:BM_MSC:BMP2   \n",
      "..                   ...                             ...   \n",
      "885    Tissue_stem_cells  Tissue_stem_cells:BM_MSC:TGFb3   \n",
      "886    Tissue_stem_cells   Tissue_stem_cells:BM_MSC:BMP2   \n",
      "887     Epithelial_cells      Epithelial_cells:bronchial   \n",
      "888    Tissue_stem_cells     Tissue_stem_cells:iliac_MSC   \n",
      "889    Tissue_stem_cells  Tissue_stem_cells:BM_MSC:TGFb3   \n",
      "\n",
      "                  SingleR_monaco                SingleR_immCellExp  \\\n",
      "0            Classical monocytes                  Monocytes, CD14+   \n",
      "1         Intermediate monocytes                  Monocytes, CD14+   \n",
      "2    Non-switched memory B cells                    B cells, naive   \n",
      "3            Classical monocytes  T cells, CD4+, naive, stimulated   \n",
      "4    Non-switched memory B cells                    B cells, naive   \n",
      "..                           ...                               ...   \n",
      "885             Progenitor cells                  Monocytes, CD16+   \n",
      "886      Myeloid dendritic cells                  Monocytes, CD14+   \n",
      "887             Progenitor cells                  Monocytes, CD14+   \n",
      "888      Myeloid dendritic cells                  Monocytes, CD14+   \n",
      "889             Progenitor cells                  Monocytes, CD14+   \n",
      "\n",
      "    highLevelType       ident   tumor  subclone      G0_class donor_chemo  \n",
      "0      Epithelial  Epithelial   tumor         1   G0 arrested     Pt1post  \n",
      "1      Epithelial  Epithelial   tumor         2  slow cycling     Pt1post  \n",
      "2      Epithelial  Epithelial   tumor         1  slow cycling     Pt1post  \n",
      "3      Epithelial  Epithelial   tumor         2  slow cycling     Pt1post  \n",
      "4      Epithelial  Epithelial  normal         0           NaN     Pt1post  \n",
      "..            ...         ...     ...       ...           ...         ...  \n",
      "885    Epithelial  Epithelial  normal         0           NaN     Pt8post  \n",
      "886    Epithelial  Epithelial  normal         0           NaN     Pt8post  \n",
      "887    Epithelial  Epithelial  normal         0           NaN     Pt8post  \n",
      "888    Epithelial  Epithelial  normal         0           NaN     Pt8post  \n",
      "889    Epithelial  Epithelial  normal         0           NaN     Pt8post  \n",
      "\n",
      "[890 rows x 32 columns]\n"
     ]
    }
   ],
   "source": [
    "print(epi_df)"
   ]
  },
  {
   "cell_type": "code",
   "execution_count": 217,
   "metadata": {},
   "outputs": [],
   "source": [
    "for i in range(0, len(epi_df)):\n",
    "    G0 = epi_df.loc[i]['G0_class']\n",
    "\n",
    "    if str(G0) == 'nan':\n",
    "        epi_df.at[i,'G0_class'] = 'normal epithelial'\n"
   ]
  },
  {
   "cell_type": "code",
   "execution_count": 218,
   "metadata": {},
   "outputs": [],
   "source": [
    "epi_df = epi_df.groupby([\"donor_chemo\", \"G0_class\"]).size().reset_index(name=\"nb_by_treatment\")"
   ]
  },
  {
   "cell_type": "code",
   "execution_count": 219,
   "metadata": {},
   "outputs": [],
   "source": [
    "epi_df[\"count_by_condition\"] = epi_df.groupby(\"donor_chemo\")[\"nb_by_treatment\"].transform(\"sum\")"
   ]
  },
  {
   "cell_type": "code",
   "execution_count": 220,
   "metadata": {},
   "outputs": [],
   "source": [
    "epi_df[\"%_by_treatment\"] = (epi_df[\"nb_by_treatment\"] / epi_df[\"count_by_condition\"]) * 100"
   ]
  },
  {
   "cell_type": "code",
   "execution_count": 221,
   "metadata": {},
   "outputs": [],
   "source": [
    "#export for plotting in R\n",
    "epi_df.to_csv(\"epi_by_tumor.csv\", sep=\",\", index=True, header=True)"
   ]
  },
  {
   "cell_type": "markdown",
   "metadata": {},
   "source": [
    "## G0 arrested plots"
   ]
  },
  {
   "cell_type": "code",
   "execution_count": 246,
   "metadata": {},
   "outputs": [
    {
     "data": {
      "text/plain": [
       "T    890\n",
       "Name: tissueType, dtype: int64"
      ]
     },
     "execution_count": 246,
     "metadata": {},
     "output_type": "execute_result"
    }
   ],
   "source": [
    "epithelial_adata.obs.tissueType.value_counts()"
   ]
  },
  {
   "cell_type": "code",
   "execution_count": 239,
   "metadata": {},
   "outputs": [],
   "source": [
    "tumor_adata = epithelial_adata[epithelial_adata.obs[\"tumor\"] == \"tumor\"]\n",
    "tumor_plot_df = pd.DataFrame(tumor_adata.obs)"
   ]
  },
  {
   "cell_type": "markdown",
   "metadata": {},
   "source": [
    "### Epithelial by patient and stage"
   ]
  },
  {
   "cell_type": "markdown",
   "metadata": {},
   "source": [
    "### G0 by patient and chemo stage"
   ]
  },
  {
   "cell_type": "code",
   "execution_count": 232,
   "metadata": {},
   "outputs": [],
   "source": [
    "tumor_plot_df['donor_chemo'] = tumor_plot_df['donor'].astype(str) + tumor_plot_df['chemo'].astype(str)"
   ]
  },
  {
   "cell_type": "code",
   "execution_count": 233,
   "metadata": {},
   "outputs": [
    {
     "data": {
      "text/plain": [
       "Pt7pre     199\n",
       "Pt1post     41\n",
       "Pt6post     33\n",
       "Pt4pre      26\n",
       "Pt5pre      21\n",
       "Pt2pre      10\n",
       "Pt3post      7\n",
       "Pt8post      2\n",
       "Name: donor_chemo, dtype: int64"
      ]
     },
     "execution_count": 233,
     "metadata": {},
     "output_type": "execute_result"
    }
   ],
   "source": [
    "tumor_plot_df['donor_chemo'].value_counts()"
   ]
  },
  {
   "cell_type": "code",
   "execution_count": 234,
   "metadata": {},
   "outputs": [
    {
     "name": "stdout",
     "output_type": "stream",
     "text": [
      "                          orig.ident   nCount_RNA  nFeature_RNA sample_ID  \\\n",
      "AAACGCTTCATCTACT-1_1   SeuratProject  1781.981523          1169        s1   \n",
      "AAAGTGATCAACGCTA-1_1   SeuratProject  5444.449078          1702        s1   \n",
      "AACCATGTCGAATGCT-1_1   SeuratProject  4589.532619          1740        s1   \n",
      "AACGGGATCTTCCTAA-1_1   SeuratProject  2711.870050          1204        s1   \n",
      "AAGTTCGAGCCGGATA-1_1   SeuratProject  1978.297462           890        s1   \n",
      "...                              ...          ...           ...       ...   \n",
      "TTGCATTGTGGTAACG-1_8   SeuratProject  3402.708304          1089        s8   \n",
      "TTGTTCATCGACATAC-1_8   SeuratProject  1655.730503           828        s8   \n",
      "TTTCATGGTACCGTGC-1_8   SeuratProject  1671.330581           730        s8   \n",
      "AAAGAACGTTGCGTAT-1_10  SeuratProject  3035.604661           720       s10   \n",
      "CGATCGGAGACCGCCT-1_10  SeuratProject  3193.383325          1175       s10   \n",
      "\n",
      "                      donor chemo tissueType dataType     Mandard  percent.mt  \\\n",
      "AAACGCTTCATCTACT-1_1    Pt1  post          T    scRNA           3    3.177287   \n",
      "AAAGTGATCAACGCTA-1_1    Pt1  post          T    scRNA           3    3.376161   \n",
      "AACCATGTCGAATGCT-1_1    Pt1  post          T    scRNA           3    4.062440   \n",
      "AACGGGATCTTCCTAA-1_1    Pt1  post          T    scRNA           3    3.834255   \n",
      "AAGTTCGAGCCGGATA-1_1    Pt1  post          T    scRNA           3    5.281954   \n",
      "...                     ...   ...        ...      ...         ...         ...   \n",
      "TTGCATTGTGGTAACG-1_8    Pt7   pre          T    scRNA -2147483648    0.580885   \n",
      "TTGTTCATCGACATAC-1_8    Pt7   pre          T    scRNA -2147483648    9.783991   \n",
      "TTTCATGGTACCGTGC-1_8    Pt7   pre          T    scRNA -2147483648    5.989810   \n",
      "AAAGAACGTTGCGTAT-1_10   Pt8  post          T    scRNA           1    9.238323   \n",
      "CGATCGGAGACCGCCT-1_10   Pt8  post          T    scRNA           1    6.013043   \n",
      "\n",
      "                       ...  SingleR_hpca_coarse  \\\n",
      "AAACGCTTCATCTACT-1_1   ...              Neurons   \n",
      "AAAGTGATCAACGCTA-1_1   ...  Smooth_muscle_cells   \n",
      "AACCATGTCGAATGCT-1_1   ...              Neurons   \n",
      "AACGGGATCTTCCTAA-1_1   ...    Tissue_stem_cells   \n",
      "AAGTTCGAGCCGGATA-1_1   ...    Tissue_stem_cells   \n",
      "...                    ...                  ...   \n",
      "TTGCATTGTGGTAACG-1_8   ...     Epithelial_cells   \n",
      "TTGTTCATCGACATAC-1_8   ...                  NaN   \n",
      "TTTCATGGTACCGTGC-1_8   ...     Epithelial_cells   \n",
      "AAAGAACGTTGCGTAT-1_10  ...     Epithelial_cells   \n",
      "CGATCGGAGACCGCCT-1_10  ...    Endothelial_cells   \n",
      "\n",
      "                                    SingleR_hpca_fine  \\\n",
      "AAACGCTTCATCTACT-1_1             Neurons:Schwann_cell   \n",
      "AAAGTGATCAACGCTA-1_1     Smooth_muscle_cells:vascular   \n",
      "AACCATGTCGAATGCT-1_1             Neurons:Schwann_cell   \n",
      "AACGGGATCTTCCTAA-1_1   Tissue_stem_cells:BM_MSC:TGFb3   \n",
      "AAGTTCGAGCCGGATA-1_1   Tissue_stem_cells:BM_MSC:TGFb3   \n",
      "...                                               ...   \n",
      "TTGCATTGTGGTAACG-1_8         Epithelial_cells:bladder   \n",
      "TTGTTCATCGACATAC-1_8                              NaN   \n",
      "TTTCATGGTACCGTGC-1_8         Epithelial_cells:bladder   \n",
      "AAAGAACGTTGCGTAT-1_10      Epithelial_cells:bronchial   \n",
      "CGATCGGAGACCGCCT-1_10  Endothelial_cells:blood_vessel   \n",
      "\n",
      "                                     SingleR_monaco  \\\n",
      "AAACGCTTCATCTACT-1_1            Classical monocytes   \n",
      "AAAGTGATCAACGCTA-1_1         Intermediate monocytes   \n",
      "AACCATGTCGAATGCT-1_1    Non-switched memory B cells   \n",
      "AACGGGATCTTCCTAA-1_1            Classical monocytes   \n",
      "AAGTTCGAGCCGGATA-1_1        Myeloid dendritic cells   \n",
      "...                                             ...   \n",
      "TTGCATTGTGGTAACG-1_8   Plasmacytoid dendritic cells   \n",
      "TTGTTCATCGACATAC-1_8        Myeloid dendritic cells   \n",
      "TTTCATGGTACCGTGC-1_8                 Vd2 gd T cells   \n",
      "AAAGAACGTTGCGTAT-1_10       Myeloid dendritic cells   \n",
      "CGATCGGAGACCGCCT-1_10           Classical monocytes   \n",
      "\n",
      "                                     SingleR_immCellExp  highLevelType  \\\n",
      "AAACGCTTCATCTACT-1_1                   Monocytes, CD14+     Epithelial   \n",
      "AAAGTGATCAACGCTA-1_1                   Monocytes, CD14+     Epithelial   \n",
      "AACCATGTCGAATGCT-1_1                     B cells, naive     Epithelial   \n",
      "AACGGGATCTTCCTAA-1_1   T cells, CD4+, naive, stimulated     Epithelial   \n",
      "AAGTTCGAGCCGGATA-1_1                   Monocytes, CD14+     Epithelial   \n",
      "...                                                 ...            ...   \n",
      "TTGCATTGTGGTAACG-1_8                   Monocytes, CD14+     Epithelial   \n",
      "TTGTTCATCGACATAC-1_8                   Monocytes, CD14+     Epithelial   \n",
      "TTTCATGGTACCGTGC-1_8                   Monocytes, CD14+     Epithelial   \n",
      "AAAGAACGTTGCGTAT-1_10                  Monocytes, CD14+     Epithelial   \n",
      "CGATCGGAGACCGCCT-1_10                  Monocytes, CD14+     Epithelial   \n",
      "\n",
      "                            ident  tumor subclone      G0_class donor_chemo  \n",
      "AAACGCTTCATCTACT-1_1   Epithelial  tumor        1   G0 arrested     Pt1post  \n",
      "AAAGTGATCAACGCTA-1_1   Epithelial  tumor        2  slow cycling     Pt1post  \n",
      "AACCATGTCGAATGCT-1_1   Epithelial  tumor        1  slow cycling     Pt1post  \n",
      "AACGGGATCTTCCTAA-1_1   Epithelial  tumor        2  slow cycling     Pt1post  \n",
      "AAGTTCGAGCCGGATA-1_1   Epithelial  tumor        2  slow cycling     Pt1post  \n",
      "...                           ...    ...      ...           ...         ...  \n",
      "TTGCATTGTGGTAACG-1_8   Epithelial  tumor        5  slow cycling      Pt7pre  \n",
      "TTGTTCATCGACATAC-1_8   Epithelial  tumor        4  slow cycling      Pt7pre  \n",
      "TTTCATGGTACCGTGC-1_8   Epithelial  tumor        4  slow cycling      Pt7pre  \n",
      "AAAGAACGTTGCGTAT-1_10  Epithelial  tumor        1  slow cycling     Pt8post  \n",
      "CGATCGGAGACCGCCT-1_10  Epithelial  tumor        1  fast cycling     Pt8post  \n",
      "\n",
      "[339 rows x 31 columns]\n"
     ]
    }
   ],
   "source": [
    "print(tumor_plot_df)"
   ]
  },
  {
   "cell_type": "code",
   "execution_count": 235,
   "metadata": {},
   "outputs": [],
   "source": [
    "tumor_plot_df = tumor_plot_df.groupby([\"donor\", \"chemo\", \"G0_class\"]).size().reset_index(name=\"nb_by_treatment\")"
   ]
  },
  {
   "cell_type": "code",
   "execution_count": 236,
   "metadata": {},
   "outputs": [],
   "source": [
    "tumor_plot_df[\"count_by_condition\"] = tumor_plot_df.groupby(\"donor\")[\"nb_by_treatment\"].transform(\"sum\")"
   ]
  },
  {
   "cell_type": "code",
   "execution_count": 237,
   "metadata": {},
   "outputs": [],
   "source": [
    "tumor_plot_df[\"%_by_treatment\"] = (tumor_plot_df[\"nb_by_treatment\"] / tumor_plot_df[\"count_by_condition\"]) * 100"
   ]
  },
  {
   "cell_type": "code",
   "execution_count": 238,
   "metadata": {},
   "outputs": [],
   "source": [
    "#export for plotting in R\n",
    "tumor_plot_df.to_csv(\"tumour_plot_data.csv\", sep=\",\", index=True, header=True)"
   ]
  },
  {
   "cell_type": "markdown",
   "metadata": {},
   "source": [
    "## G0 by chemo stage pooled"
   ]
  },
  {
   "cell_type": "code",
   "execution_count": 244,
   "metadata": {},
   "outputs": [
    {
     "name": "stdout",
     "output_type": "stream",
     "text": [
      "  chemo      G0_class  nb_by_treatment  count_by_condition  %_by_treatment\n",
      "0  post   G0 arrested               31                  83       37.349398\n",
      "1  post  fast cycling               18                  83       21.686747\n",
      "2  post  slow cycling               34                  83       40.963855\n",
      "3   pre   G0 arrested               59                 256       23.046875\n",
      "4   pre  fast cycling               60                 256       23.437500\n",
      "5   pre  slow cycling              137                 256       53.515625\n"
     ]
    }
   ],
   "source": [
    "print(tumor_plot_df)"
   ]
  },
  {
   "cell_type": "code",
   "execution_count": 241,
   "metadata": {},
   "outputs": [],
   "source": [
    "tumor_plot_df = tumor_plot_df.groupby([\"chemo\", \"G0_class\"]).size().reset_index(name=\"nb_by_treatment\")"
   ]
  },
  {
   "cell_type": "code",
   "execution_count": 242,
   "metadata": {},
   "outputs": [],
   "source": [
    "tumor_plot_df[\"count_by_condition\"] = tumor_plot_df.groupby(\"chemo\")[\"nb_by_treatment\"].transform(\"sum\")"
   ]
  },
  {
   "cell_type": "code",
   "execution_count": 243,
   "metadata": {},
   "outputs": [],
   "source": [
    "tumor_plot_df[\"%_by_treatment\"] = (tumor_plot_df[\"nb_by_treatment\"] / tumor_plot_df[\"count_by_condition\"]) * 100"
   ]
  },
  {
   "cell_type": "code",
   "execution_count": 245,
   "metadata": {},
   "outputs": [],
   "source": [
    "#export for plotting in R\n",
    "tumor_plot_df.to_csv(\"G0_treatment_plotData.csv\", sep=\",\", index=True, header=True)"
   ]
  }
 ],
 "metadata": {
  "kernelspec": {
   "display_name": "scanpy_env",
   "language": "python",
   "name": "python3"
  },
  "language_info": {
   "codemirror_mode": {
    "name": "ipython",
    "version": 3
   },
   "file_extension": ".py",
   "mimetype": "text/x-python",
   "name": "python",
   "nbconvert_exporter": "python",
   "pygments_lexer": "ipython3",
   "version": "3.11.8"
  }
 },
 "nbformat": 4,
 "nbformat_minor": 2
}
