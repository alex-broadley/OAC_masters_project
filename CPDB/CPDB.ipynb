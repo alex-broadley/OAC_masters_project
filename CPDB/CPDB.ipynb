{
 "cells": [
  {
   "cell_type": "code",
   "execution_count": null,
   "metadata": {},
   "outputs": [],
   "source": [
    "from IPython.display import HTML, display\n",
    "from cellphonedb.utils import db_releases_utils\n",
    "import os\n",
    "\n",
    "display(HTML(db_releases_utils.get_remote_database_versions_html()['db_releases_html_table']))\n"
   ]
  },
  {
   "cell_type": "code",
   "execution_count": null,
   "metadata": {},
   "outputs": [],
   "source": [
    "#download instructions from official github page\n",
    "# -- Version of the databse\n",
    "cpdb_version = 'v5.0.0'\n",
    "\n",
    "# -- Path where the input files to generate the database are located\n",
    "cpdb_target_dir = os.path.join('/Users/alex/Documents/BIOL0041-Project/OAC_masters_project/CPDB', cpdb_version)"
   ]
  },
  {
   "cell_type": "code",
   "execution_count": null,
   "metadata": {},
   "outputs": [],
   "source": [
    "from cellphonedb.utils import db_utils\n",
    "db_utils.download_database(cpdb_target_dir, cpdb_version)"
   ]
  },
  {
   "cell_type": "markdown",
   "metadata": {},
   "source": [
    "# G0 arrested and fast cycling, pooled, pre and post chemo"
   ]
  },
  {
   "cell_type": "code",
   "execution_count": null,
   "metadata": {},
   "outputs": [],
   "source": [
    "from cellphonedb.src.core.methods import cpdb_statistical_analysis_method\n",
    "\n",
    "cpdb_results = cpdb_statistical_analysis_method.call(\n",
    "        cpdb_file_path = '/Users/alex/Documents/BIOL0041-Project/OAC_masters_project/CPDB/v5.0.0/cellphonedb.zip',\n",
    "        meta_file_path = '/Users/alex/Documents/BIOL0041-Project/OAC_masters_project/data/CPDB_df.csv',\n",
    "        counts_file_path = '/Users/alex/Documents/BIOL0041-Project/OAC_masters_project/data/adata_with_rounded.h5ad',\n",
    "        counts_data = 'hgnc_symbol',\n",
    "        score_interactions = True,\n",
    "        output_path = './high_level_results')"
   ]
  },
  {
   "cell_type": "code",
   "execution_count": null,
   "metadata": {},
   "outputs": [],
   "source": [
    "from cellphonedb.src.core.methods import cpdb_statistical_analysis_method\n",
    "\n",
    "cpdb_results = cpdb_statistical_analysis_method.call(\n",
    "        cpdb_file_path = '/Users/alex/Documents/BIOL0041-Project/OAC_masters_project/CPDB/v5.0.0/cellphonedb.zip',\n",
    "        meta_file_path = '/Users/alex/Documents/BIOL0041-Project/OAC_masters_project/data/post_CPDB_df_G0.csv',\n",
    "        counts_file_path = '/Users/alex/Documents/BIOL0041-Project/OAC_masters_project/data/post_adata.h5ad',\n",
    "        counts_data = 'hgnc_symbol',\n",
    "        score_interactions = True,\n",
    "        output_path = './post_results')"
   ]
  },
  {
   "cell_type": "code",
   "execution_count": null,
   "metadata": {},
   "outputs": [],
   "source": [
    "from cellphonedb.src.core.methods import cpdb_statistical_analysis_method\n",
    "\n",
    "cpdb_results = cpdb_statistical_analysis_method.call(\n",
    "        cpdb_file_path = '/Users/alex/Documents/BIOL0041-Project/OAC_masters_project/CPDB/v5.0.0/cellphonedb.zip',\n",
    "        meta_file_path = '/Users/alex/Documents/BIOL0041-Project/OAC_masters_project/data/pre_CPDB_df_G0.csv',\n",
    "        counts_file_path = '/Users/alex/Documents/BIOL0041-Project/OAC_masters_project/data/pre_adata.h5ad',\n",
    "        counts_data = 'hgnc_symbol',\n",
    "        score_interactions = True,\n",
    "        output_path = './pre_results')"
   ]
  },
  {
   "cell_type": "markdown",
   "metadata": {},
   "source": [
    "# Tumor cells together, pooled, pre and post- chemo"
   ]
  },
  {
   "cell_type": "code",
   "execution_count": null,
   "metadata": {},
   "outputs": [],
   "source": [
    "from cellphonedb.src.core.methods import cpdb_statistical_analysis_method\n",
    "\n",
    "cpdb_results = cpdb_statistical_analysis_method.call(\n",
    "        cpdb_file_path = '/Users/alex/Documents/BIOL0041-Project/OAC_masters_project/CPDB/v5.0.0/cellphonedb.zip',\n",
    "        meta_file_path = '/Users/alex/Documents/BIOL0041-Project/OAC_masters_project/data/CPDB_df_tum_only.csv',\n",
    "        counts_file_path = '/Users/alex/Documents/BIOL0041-Project/OAC_masters_project/data/adata_with_rounded.h5ad',\n",
    "        counts_data = 'hgnc_symbol',\n",
    "        score_interactions = True,\n",
    "        output_path = './tum_only_pooled')"
   ]
  },
  {
   "cell_type": "code",
   "execution_count": null,
   "metadata": {},
   "outputs": [],
   "source": [
    "from cellphonedb.src.core.methods import cpdb_statistical_analysis_method\n",
    "\n",
    "cpdb_results = cpdb_statistical_analysis_method.call(\n",
    "        cpdb_file_path = '/Users/alex/Documents/BIOL0041-Project/OAC_masters_project/CPDB/v5.0.0/cellphonedb.zip',\n",
    "        meta_file_path = '/Users/alex/Documents/BIOL0041-Project/OAC_masters_project/data/pre_CPDB_df_tum_only.csv',\n",
    "        counts_file_path = '/Users/alex/Documents/BIOL0041-Project/OAC_masters_project/data/pre_adata.h5ad',\n",
    "        counts_data = 'hgnc_symbol',\n",
    "        score_interactions = True,\n",
    "        output_path = './tum_only_pre')"
   ]
  },
  {
   "cell_type": "code",
   "execution_count": null,
   "metadata": {},
   "outputs": [],
   "source": [
    "from cellphonedb.src.core.methods import cpdb_statistical_analysis_method\n",
    "\n",
    "cpdb_results = cpdb_statistical_analysis_method.call(\n",
    "        cpdb_file_path = '/Users/alex/Documents/BIOL0041-Project/OAC_masters_project/CPDB/v5.0.0/cellphonedb.zip',\n",
    "        meta_file_path = '/Users/alex/Documents/BIOL0041-Project/OAC_masters_project/data/post_CPDB_df_tum_only.csv',\n",
    "        counts_file_path = '/Users/alex/Documents/BIOL0041-Project/OAC_masters_project/data/post_adata.h5ad',\n",
    "        counts_data = 'hgnc_symbol',\n",
    "        score_interactions = True,\n",
    "        output_path = './tum_only_post')"
   ]
  },
  {
   "cell_type": "markdown",
   "metadata": {},
   "source": [
    "# Plotting/basic analysis"
   ]
  },
  {
   "cell_type": "code",
   "execution_count": null,
   "metadata": {},
   "outputs": [],
   "source": [
    "import os\n",
    "import anndata as ad\n",
    "import pandas as pd\n",
    "import ktplotspy as kpy\n",
    "import matplotlib.pyplot as plt\n",
    "%matplotlib inline"
   ]
  },
  {
   "cell_type": "code",
   "execution_count": null,
   "metadata": {},
   "outputs": [],
   "source": [
    "import scanpy as sc\n",
    "\n",
    "adata = sc.read_h5ad(\"/Users/alex/Documents/BIOL0041-Project/OAC_masters_project/data/adata_with_rounded.h5ad\")\n",
    "#adata = sc.read_h5ad(\"/Users/alex/Documents/BIOL0041-Project/OAC_masters_project/data/pre_adata.h5ad\")\n",
    "#adata = sc.read_h5ad(\"/Users/alex/Documents/BIOL0041-Project/OAC_masters_project/data/post_adata.h5ad\")\n"
   ]
  },
  {
   "cell_type": "code",
   "execution_count": null,
   "metadata": {},
   "outputs": [],
   "source": [
    "adata"
   ]
  },
  {
   "cell_type": "code",
   "execution_count": null,
   "metadata": {},
   "outputs": [],
   "source": [
    "adata.X.max()"
   ]
  },
  {
   "cell_type": "code",
   "execution_count": null,
   "metadata": {},
   "outputs": [],
   "source": [
    "adata.obs.cell_type.value_counts()"
   ]
  },
  {
   "cell_type": "code",
   "execution_count": null,
   "metadata": {},
   "outputs": [],
   "source": [
    "kpy.plot_cpdb_heatmap(pvals = cpdb_results['pvalues'],\n",
    "                      degs_analysis = False,\n",
    "                      figsize = (5, 5),\n",
    "                      title = \"Sum of significant interactions\")"
   ]
  },
  {
   "cell_type": "code",
   "execution_count": null,
   "metadata": {},
   "outputs": [],
   "source": [
    "kpy.plot_cpdb_heatmap(\n",
    "    pvals=cpdb_results['pvalues'],\n",
    "    figsize=(5, 5),\n",
    "    title=\"Sum of significant interactions\",\n",
    "    symmetrical=False,\n",
    ")\n"
   ]
  },
  {
   "cell_type": "code",
   "execution_count": null,
   "metadata": {},
   "outputs": [],
   "source": [
    "adata.obs.cell_type.value_counts()"
   ]
  },
  {
   "cell_type": "code",
   "execution_count": null,
   "metadata": {},
   "outputs": [],
   "source": [
    "kpy.plot_cpdb_chord(\n",
    "    adata=adata,\n",
    "    cell_type1=\"Fast cycling Tumor\",\n",
    "    cell_type2=\"NK|Fibroblast|Endothelial|Cycling|Epithelial|Myeloid|Cycling Tumor|G0 arrested Tumor\",\n",
    "    means=cpdb_results['means'],\n",
    "    pvals=cpdb_results['pvalues'],\n",
    "    deconvoluted=cpdb_results['deconvoluted'],\n",
    "    celltype_key=\"cell_type\",\n",
    "    link_kwargs={\"direction\": 1, \"allow_twist\": True, \"r1\": 90, \"r2\": 90},\n",
    "    sector_text_kwargs={\"color\": \"black\", \"size\": 12, \"r\": 105, \"adjust_rotation\": True},\n",
    "    legend_kwargs={\"loc\": \"center\", \"bbox_to_anchor\": (3, 1), \"fontsize\": 8},\n",
    "    link_offset=1,\n",
    "    same_producer_colors=True,\n",
    ")"
   ]
  },
  {
   "cell_type": "code",
   "execution_count": null,
   "metadata": {},
   "outputs": [],
   "source": [
    "kpy.plot_cpdb_chord(\n",
    "    adata=adata,\n",
    "    cell_type1=\"G0 arrested Tumor\",\n",
    "    cell_type2=\"NK|Fibroblast|Endothelial|Cycling|Epithelial|Myeloid|Fast cycling Tumor|Cycling Tumor\",\n",
    "    means=cpdb_results['means'],\n",
    "    pvals=cpdb_results['pvalues'],\n",
    "    deconvoluted=cpdb_results['deconvoluted'],\n",
    "    celltype_key=\"cell_type\",\n",
    "    link_kwargs={\"direction\": 1, \"allow_twist\": True, \"r1\": 90, \"r2\": 90},\n",
    "    sector_text_kwargs={\"color\": \"black\", \"size\": 12, \"r\": 105, \"adjust_rotation\": True},\n",
    "    legend_kwargs={\"loc\": \"center\", \"bbox_to_anchor\": (3, 1), \"fontsize\": 8},\n",
    "    link_offset=1,\n",
    "    same_producer_colors=True,\n",
    ")"
   ]
  },
  {
   "cell_type": "code",
   "execution_count": null,
   "metadata": {},
   "outputs": [],
   "source": [
    "kpy.plot_cpdb_chord(\n",
    "    adata=adata,\n",
    "    cell_type1=\"tumor\",\n",
    "    cell_type2=\"NK|Fibroblast|Endothelial|Cycling|Epithelial|Myeloid\",\n",
    "    means=cpdb_results['means'],\n",
    "    pvals=cpdb_results['pvalues'],\n",
    "    deconvoluted=cpdb_results['deconvoluted'],\n",
    "    celltype_key=\"cell_type\",\n",
    "    link_kwargs={\"direction\": 1, \"allow_twist\": True, \"r1\": 90, \"r2\": 90},\n",
    "    sector_text_kwargs={\"color\": \"black\", \"size\": 12, \"r\": 105, \"adjust_rotation\": True},\n",
    "    legend_kwargs={\"loc\": \"center\", \"bbox_to_anchor\": (1.1, 1), \"fontsize\": 8},\n",
    "    link_offset=1,\n",
    "    same_producer_colors=True,\n",
    ")"
   ]
  },
  {
   "cell_type": "markdown",
   "metadata": {},
   "source": [
    "# DGE cellphone DB run"
   ]
  },
  {
   "cell_type": "code",
   "execution_count": null,
   "metadata": {},
   "outputs": [],
   "source": [
    "from cellphonedb.src.core.methods import cpdb_degs_analysis_method\n",
    "\n",
    "cpdb_results = cpdb_degs_analysis_method.call(\n",
    "         cpdb_file_path = \"/Users/alex/Documents/BIOL0041-Project/OAC_masters_project/CPDB/v5.0.0/cellphonedb.zip\",\n",
    "         meta_file_path = \"/Users/alex/Documents/BIOL0041-Project/OAC_masters_project/data/all_CPDB_df_G0.csv\",\n",
    "         counts_file_path = \"/Users/alex/Documents/BIOL0041-Project/OAC_masters_project/data/adata_with_rounded.h5ad\",\n",
    "         degs_file_path = \"/Users/alex/Documents/BIOL0041-Project/OAC_masters_project/data/fast_G0_tumCells_DEGs.tsv\",\n",
    "         counts_data = 'hgnc_symbol',\n",
    "         threshold = 0.1,\n",
    "         output_path = './DGE_results',\n",
    "         score_interactions=True)"
   ]
  }
 ],
 "metadata": {
  "kernelspec": {
   "display_name": "cpdb",
   "language": "python",
   "name": "python3"
  },
  "language_info": {
   "codemirror_mode": {
    "name": "ipython",
    "version": 3
   },
   "file_extension": ".py",
   "mimetype": "text/x-python",
   "name": "python",
   "nbconvert_exporter": "python",
   "pygments_lexer": "ipython3",
   "version": "3.11.11"
  }
 },
 "nbformat": 4,
 "nbformat_minor": 2
}
