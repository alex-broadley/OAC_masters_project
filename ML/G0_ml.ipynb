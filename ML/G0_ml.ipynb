{
 "cells": [
  {
   "cell_type": "code",
   "execution_count": null,
   "id": "deba1048",
   "metadata": {},
   "outputs": [],
   "source": [
    "\n",
    "import pandas as pd\n",
    "import numpy as np\n",
    "from sklearn.ensemble import RandomForestClassifier\n",
    "from sklearn.metrics import accuracy_score, confusion_matrix, precision_score, recall_score, ConfusionMatrixDisplay\n",
    "from sklearn.metrics import roc_curve, auc\n",
    "from sklearn.model_selection import RandomizedSearchCV, train_test_split\n",
    "from scipy.stats import randint\n",
    "from sklearn.metrics import RocCurveDisplay\n",
    "import matplotlib.pyplot as plt"
   ]
  },
  {
   "cell_type": "markdown",
   "id": "d8e1ebbb",
   "metadata": {},
   "source": [
    "# Bulk RNA data - prepare for use in training/testing"
   ]
  },
  {
   "cell_type": "code",
   "execution_count": null,
   "id": "ae55c3f4",
   "metadata": {},
   "outputs": [],
   "source": [
    "bulk_RNA = pd.read_csv('/Users/alex/Documents/BIOL0041-Project/OAC_masters_project/data/bulk_RNA_classified.csv', header=None)"
   ]
  },
  {
   "cell_type": "code",
   "execution_count": null,
   "id": "bce67fec",
   "metadata": {},
   "outputs": [],
   "source": [
    "bulk_RNA.columns = bulk_RNA.loc[0]"
   ]
  },
  {
   "cell_type": "code",
   "execution_count": null,
   "metadata": {},
   "outputs": [],
   "source": [
    "bulk_RNA = bulk_RNA.drop(0)"
   ]
  },
  {
   "cell_type": "code",
   "execution_count": null,
   "id": "c7bdc74d",
   "metadata": {},
   "outputs": [],
   "source": [
    "bulk_RNA = bulk_RNA.iloc[:, 2:]"
   ]
  },
  {
   "cell_type": "code",
   "execution_count": null,
   "id": "3f3c41d3",
   "metadata": {},
   "outputs": [],
   "source": [
    "bulk_RNA = bulk_RNA.dropna()"
   ]
  },
  {
   "cell_type": "code",
   "execution_count": null,
   "id": "25b15d3c",
   "metadata": {},
   "outputs": [],
   "source": [
    "bulk_RNA"
   ]
  },
  {
   "cell_type": "markdown",
   "id": "208c2b55",
   "metadata": {},
   "source": [
    "## Data pre-processing"
   ]
  },
  {
   "cell_type": "code",
   "execution_count": null,
   "id": "1152f913",
   "metadata": {},
   "outputs": [],
   "source": [
    "bulk_RNA['proliferation'] = bulk_RNA['proliferation'].map({'slow':1,'fast':0})\n",
    "bulk_RNA['proliferation'].value_counts()\n"
   ]
  },
  {
   "cell_type": "code",
   "execution_count": null,
   "id": "861e6323",
   "metadata": {},
   "outputs": [],
   "source": [
    "#Split classifications from training data\n",
    "X = bulk_RNA.drop('proliferation', axis=1)\n",
    "y = bulk_RNA['proliferation']"
   ]
  },
  {
   "cell_type": "code",
   "execution_count": null,
   "id": "74b8296e",
   "metadata": {},
   "outputs": [],
   "source": [
    "X = pd.DataFrame(X)\n",
    "X = X.apply(pd.to_numeric, errors='coerce')\n"
   ]
  },
  {
   "cell_type": "markdown",
   "id": "e2296a91",
   "metadata": {},
   "source": [
    "## Removing genes not expressed in at least 45% of dataset"
   ]
  },
  {
   "cell_type": "code",
   "execution_count": null,
   "id": "e48afcb9",
   "metadata": {},
   "outputs": [],
   "source": [
    "81/(81+113)"
   ]
  },
  {
   "cell_type": "code",
   "execution_count": null,
   "id": "e29be0e9",
   "metadata": {},
   "outputs": [],
   "source": [
    "X.shape"
   ]
  },
  {
   "cell_type": "code",
   "execution_count": null,
   "id": "0c990bfc",
   "metadata": {},
   "outputs": [],
   "source": [
    "zero_prop = (X == 0).sum()/len(X)"
   ]
  },
  {
   "cell_type": "code",
   "execution_count": null,
   "id": "6f2a10c1",
   "metadata": {},
   "outputs": [],
   "source": [
    "zero_prop.sort_values(ascending=False).head(20)"
   ]
  },
  {
   "cell_type": "code",
   "execution_count": null,
   "id": "c96bb8a0",
   "metadata": {},
   "outputs": [],
   "source": [
    "X = X.loc[:, zero_prop <= 0.45]"
   ]
  },
  {
   "cell_type": "markdown",
   "id": "396c0106",
   "metadata": {},
   "source": [
    "## 1000 most variably expressed genes"
   ]
  },
  {
   "cell_type": "code",
   "execution_count": null,
   "id": "0caed542",
   "metadata": {},
   "outputs": [],
   "source": [
    "var_X = X.var(numeric_only=True)\n",
    "top_1000_VG = var_X.sort_values(ascending=False).head(1000).index\n",
    "X = X[top_1000_VG]"
   ]
  },
  {
   "cell_type": "markdown",
   "id": "6d99a9f2",
   "metadata": {},
   "source": [
    "## Split data into test/train"
   ]
  },
  {
   "cell_type": "code",
   "execution_count": null,
   "id": "cd1b7761",
   "metadata": {},
   "outputs": [],
   "source": [
    "X_train, X_test, y_train, y_test = train_test_split(X, y, test_size=0.2, random_state = 42)"
   ]
  },
  {
   "cell_type": "markdown",
   "id": "42a2f294",
   "metadata": {},
   "source": [
    "## RF w/ training-testing-predicting"
   ]
  },
  {
   "cell_type": "code",
   "execution_count": null,
   "id": "eae86e91",
   "metadata": {},
   "outputs": [],
   "source": [
    "param_dist = {'bootstrap': [True, False],\n",
    "              'max_depth': [10, 20, 30, 40, 50, 60, 70, 80, 90, 100, 110, None],\n",
    "              'max_features': ['auto', 'sqrt'],\n",
    "              'min_samples_leaf': [1, 2, 4],\n",
    "              'min_samples_split': [2, 5, 10],\n",
    "              'n_estimators': [100, 150, 200, 250, 500, 750, 1000] \n",
    "              }\n",
    "\n",
    "rf = RandomForestClassifier(criterion='gini', random_state= 42)\n",
    "\n",
    "rand_search = RandomizedSearchCV(rf, \n",
    "                                 param_distributions = param_dist, \n",
    "                                 n_iter=2000, \n",
    "                                 cv=5)\n",
    "\n",
    "rand_search.fit(X_train, y_train)"
   ]
  },
  {
   "cell_type": "code",
   "execution_count": null,
   "id": "470853ea",
   "metadata": {},
   "outputs": [],
   "source": [
    "#save best model\n",
    "best_rf = rand_search.best_estimator_\n",
    "\n",
    "#print parameters\n",
    "print(rand_search.best_params_)"
   ]
  },
  {
   "cell_type": "code",
   "execution_count": null,
   "id": "1303b7b9",
   "metadata": {},
   "outputs": [],
   "source": [
    "#manual save incase env crashes post-training\n",
    "#best_rf = RandomForestClassifier(criterion='gini', random_state= 42, n_estimators = 500, min_samples_split = 2, min_samples_leaf = 1, max_features = 'sqrt', max_depth = 10, bootstrap = True)"
   ]
  },
  {
   "cell_type": "code",
   "execution_count": null,
   "id": "a1077a87",
   "metadata": {},
   "outputs": [],
   "source": [
    "best_rf.fit(X_train, y_train)\n",
    "\n",
    "#get predictions of best model\n",
    "y_pred = best_rf.predict(X_test)\n",
    "\n",
    "#create and plot confusion matrix\n",
    "cm = confusion_matrix(y_test, y_pred)\n",
    "\n",
    "ConfusionMatrixDisplay(confusion_matrix=cm).plot();"
   ]
  },
  {
   "cell_type": "code",
   "execution_count": null,
   "id": "31b67ff3",
   "metadata": {},
   "outputs": [],
   "source": [
    "y_pred = best_rf.predict(X_test)\n",
    "\n",
    "probs_rf = best_rf.predict_proba(X_test) [:,1]\n",
    "\n",
    "accuracy = accuracy_score(y_test, y_pred)\n",
    "print(accuracy)\n"
   ]
  },
  {
   "cell_type": "code",
   "execution_count": null,
   "id": "db8fedee",
   "metadata": {},
   "outputs": [],
   "source": [
    "#order genes by importance\n",
    "RF_feature_importances = pd.Series(best_rf.feature_importances_, index=X_train.columns).sort_values(ascending=False)\n",
    "\n",
    "RF_feature_importances[0:40].plot.bar();"
   ]
  },
  {
   "cell_type": "markdown",
   "id": "3cbb6e90",
   "metadata": {},
   "source": [
    "## XGBoost classifier"
   ]
  },
  {
   "cell_type": "code",
   "execution_count": null,
   "id": "b8a0f2bb",
   "metadata": {},
   "outputs": [],
   "source": [
    "from xgboost import XGBClassifier"
   ]
  },
  {
   "cell_type": "code",
   "execution_count": null,
   "id": "f294a947",
   "metadata": {},
   "outputs": [],
   "source": [
    "y_train"
   ]
  },
  {
   "cell_type": "code",
   "execution_count": null,
   "id": "1495b515",
   "metadata": {},
   "outputs": [],
   "source": [
    "params = {\n",
    "              'n_estimators': [100, 150, 200, 250, 500, 750, 1000] ,\n",
    "              'max_depth': [10, 20, 30, 40, 50, 60, 70, 80, 90, 100, 110, None],\n",
    "              'subsample': [0.5, 0.6, 0.7, 0.8, 0.9, 1.0],\n",
    "              'learning_rate':[0.001, 0.01, 0.1, 0.2, 0.3],\n",
    "              'colsample_bytree': [0.4, 0.5, 0.6, 0.7, 0.8, 0.9, 1.0],\n",
    "              'colsample_bylevel': [0.4, 0.5, 0.6, 0.7, 0.8, 0.9, 1.0],\n",
    "              'min_child_weight': [0.5, 1.0, 3.0, 5.0, 7.0, 10.0],\n",
    "              'gamma': [0, 0.25, 0.5, 1.0],\n",
    "              'reg_lambda': [0.1, 1.0, 5.0, 10.0, 50.0, 100.0],\n",
    "              }\n",
    "\n",
    "XGB = XGBClassifier(random_state = 42)\n",
    "\n",
    "rand_search_XGB = RandomizedSearchCV(XGB, \n",
    "                                 param_distributions = params, \n",
    "                                 n_iter=1000, \n",
    "                                 cv=5,\n",
    "                                 scoring = \"accuracy\")\n",
    "\n",
    "rand_search_XGB.fit(X_train, y_train)\n"
   ]
  },
  {
   "cell_type": "code",
   "execution_count": null,
   "id": "611c8c46",
   "metadata": {},
   "outputs": [],
   "source": [
    "#save best model\n",
    "best_XGB = rand_search_XGB.best_estimator_ \n",
    "best_XGB.fit(X_train, y_train)\n",
    "predictions = best_XGB.predict(X_test)\n"
   ]
  },
  {
   "cell_type": "code",
   "execution_count": null,
   "id": "44c6f424",
   "metadata": {},
   "outputs": [],
   "source": [
    "#print model params\n",
    "print(rand_search_XGB.best_params_)"
   ]
  },
  {
   "cell_type": "code",
   "execution_count": null,
   "id": "8da3c5ab",
   "metadata": {},
   "outputs": [],
   "source": [
    "#manual best params from output above in case reset env\n",
    "bestXGB = XGBClassifier(random_state = 42, subsample = 0.9, reg_lambda = 1.0, n_estimators = 200, min_child_weight = 0.5, max_depth = 110, learning_rate = 0.1, gamma = 0, colsample_bytree = 0.9, colsample_bylevel = 0.8)\n",
    "best_XGB.fit(X_train, y_train)\n",
    "predictions = best_XGB.predict(X_test)"
   ]
  },
  {
   "cell_type": "code",
   "execution_count": null,
   "id": "87bfa357",
   "metadata": {},
   "outputs": [],
   "source": [
    "len(X_test)"
   ]
  },
  {
   "cell_type": "code",
   "execution_count": null,
   "id": "ddbf8034",
   "metadata": {},
   "outputs": [],
   "source": [
    "#create and plot confusion matrix\n",
    "cm = confusion_matrix(y_test, predictions)\n",
    "ConfusionMatrixDisplay(confusion_matrix=cm).plot();\n",
    "accuracy = accuracy_score(y_test, predictions)\n",
    "print(accuracy)\n"
   ]
  },
  {
   "cell_type": "code",
   "execution_count": null,
   "id": "b166fc26",
   "metadata": {},
   "outputs": [],
   "source": [
    "XGB_feature_importances = pd.Series(best_XGB.feature_importances_, index=X_train.columns).sort_values(ascending=False)"
   ]
  },
  {
   "cell_type": "code",
   "execution_count": null,
   "id": "0f8b1f14",
   "metadata": {},
   "outputs": [],
   "source": [
    "XGB_feature_importances[0:40].plot.bar();"
   ]
  },
  {
   "cell_type": "code",
   "execution_count": null,
   "id": "51e24447",
   "metadata": {},
   "outputs": [],
   "source": [
    "gb_disp = RocCurveDisplay.from_estimator(best_XGB, X_test, y_test)"
   ]
  },
  {
   "cell_type": "code",
   "execution_count": null,
   "id": "b98fc54a",
   "metadata": {},
   "outputs": [],
   "source": [
    "ax = plt.gca()\n",
    "rfc_disp = RocCurveDisplay.from_estimator(best_rf, X_test, y_test, ax=ax, alpha=0.8)\n",
    "gb_disp.plot(ax=ax, alpha=0.8)\n",
    "plt.show()"
   ]
  },
  {
   "cell_type": "markdown",
   "id": "24c74b9d",
   "metadata": {},
   "source": [
    "## Averaging feature importances"
   ]
  },
  {
   "cell_type": "code",
   "execution_count": null,
   "id": "d1ca9530",
   "metadata": {},
   "outputs": [],
   "source": [
    "averaged_importances = {}\n",
    "\n",
    "for x in RF_feature_importances.index:\n",
    "    if x in list(XGB_feature_importances.index):\n",
    "\n",
    "        GB_importance = XGB_feature_importances[x]\n",
    "        RF_importance = RF_feature_importances[x]\n",
    "        mean_importance = (GB_importance + RF_importance) / 2\n",
    "        \n",
    "        averaged_importances[x] = mean_importance\n"
   ]
  },
  {
   "cell_type": "code",
   "execution_count": null,
   "id": "40808667",
   "metadata": {},
   "outputs": [],
   "source": [
    "ordered_importances = sorted(averaged_importances, key=averaged_importances.get, reverse=True)"
   ]
  },
  {
   "cell_type": "code",
   "execution_count": null,
   "id": "323fda7d",
   "metadata": {},
   "outputs": [],
   "source": [
    "importance_df = pd.DataFrame(ordered_importances)"
   ]
  },
  {
   "cell_type": "code",
   "execution_count": null,
   "id": "730f86af",
   "metadata": {},
   "outputs": [],
   "source": [
    "importance_df['mean_importance'] = importance_df[0].map(averaged_importances)"
   ]
  },
  {
   "cell_type": "code",
   "execution_count": null,
   "id": "b80cc60b",
   "metadata": {},
   "outputs": [],
   "source": [
    "importance_df.rename(columns={0: \"gene_name\"}, inplace=True)"
   ]
  },
  {
   "cell_type": "code",
   "execution_count": null,
   "id": "cad5bcdf",
   "metadata": {},
   "outputs": [],
   "source": [
    "importance_df.to_csv(\"Bulk_feature_importances.csv\", sep=\",\", header = True)"
   ]
  },
  {
   "cell_type": "markdown",
   "id": "864edb92",
   "metadata": {},
   "source": [
    "# Single cell RNA data"
   ]
  },
  {
   "cell_type": "code",
   "execution_count": null,
   "id": "8d0be34f",
   "metadata": {},
   "outputs": [],
   "source": [
    "import scanpy as sc\n",
    "from scipy import sparse"
   ]
  },
  {
   "cell_type": "code",
   "execution_count": null,
   "id": "1bb1ecf6",
   "metadata": {},
   "outputs": [],
   "source": [
    "adata = sc.read_h5ad(\"/Users/alex/Documents/BIOL0041-Project/OAC_masters_project/data/adata_with_rounded.h5ad\")"
   ]
  },
  {
   "cell_type": "markdown",
   "id": "616f88ba",
   "metadata": {},
   "source": [
    "## Get gene list of G0 signature"
   ]
  },
  {
   "cell_type": "code",
   "execution_count": null,
   "id": "a354a660",
   "metadata": {},
   "outputs": [],
   "source": [
    "upregulated_genes = pd.read_csv('/Users/alex/Documents/BIOL0041-Project/OAC_masters_project/data/upregulated_genes.csv', header=None)\n",
    "upregulated_genes = upregulated_genes[[1]]\n",
    "upregulated_genes = list(upregulated_genes[1])"
   ]
  },
  {
   "cell_type": "code",
   "execution_count": null,
   "id": "477f9067",
   "metadata": {},
   "outputs": [],
   "source": [
    "downregulated_genes = pd.read_csv('/Users/alex/Documents/BIOL0041-Project/OAC_masters_project/data/downregulated_genes.csv', header=None)\n",
    "downregulated_genes = downregulated_genes[[1]]\n",
    "downregulated_genes = list(downregulated_genes[1])"
   ]
  },
  {
   "cell_type": "code",
   "execution_count": null,
   "id": "2762bb56",
   "metadata": {},
   "outputs": [],
   "source": [
    "signature_genes = downregulated_genes + upregulated_genes"
   ]
  },
  {
   "cell_type": "code",
   "execution_count": null,
   "id": "46d53175",
   "metadata": {},
   "outputs": [],
   "source": [
    "#sanity check, should = 139\n",
    "len(signature_genes)"
   ]
  },
  {
   "cell_type": "markdown",
   "id": "c7b9bad1",
   "metadata": {},
   "source": [
    "## Preparing dataset"
   ]
  },
  {
   "cell_type": "code",
   "execution_count": null,
   "id": "5688e135",
   "metadata": {},
   "outputs": [],
   "source": [
    "# shifted log normalisation is independent cell to cell - can perform train/test splits without having to re-normalise afterwards\n",
    "adata.X = adata.layers['log1p_norm']"
   ]
  },
  {
   "cell_type": "code",
   "execution_count": null,
   "id": "66a8af85",
   "metadata": {},
   "outputs": [],
   "source": [
    "#sanity check, ~8\n",
    "adata.X.max()"
   ]
  },
  {
   "cell_type": "code",
   "execution_count": null,
   "id": "1369cea5",
   "metadata": {},
   "outputs": [],
   "source": [
    "adata_obs_df = pd.DataFrame(adata.obs)"
   ]
  },
  {
   "cell_type": "code",
   "execution_count": null,
   "id": "49a972dc",
   "metadata": {},
   "outputs": [],
   "source": [
    "adata_obs_df['cell_type'] = np.where(~adata_obs_df['G0_class'].isna(), adata_obs_df['G0_class'],  adata_obs_df['cell_type'])"
   ]
  },
  {
   "cell_type": "code",
   "execution_count": null,
   "id": "a4cd8fe1",
   "metadata": {},
   "outputs": [],
   "source": [
    "adata_obs_df.cell_type.value_counts()"
   ]
  },
  {
   "cell_type": "code",
   "execution_count": null,
   "id": "aa02c754",
   "metadata": {},
   "outputs": [],
   "source": [
    "adata.obs = adata_obs_df"
   ]
  },
  {
   "cell_type": "code",
   "execution_count": null,
   "id": "2cea3bc1",
   "metadata": {},
   "outputs": [],
   "source": [
    "ML_adata = adata[adata.obs[\"cell_type\"].isin(['G0 arrested', 'fast cycling'])]\n",
    "non_Sig_genes = [name for name in ML_adata.var_names if not name in signature_genes]\n",
    "ML_adata = ML_adata[:, non_Sig_genes]"
   ]
  },
  {
   "cell_type": "code",
   "execution_count": null,
   "id": "c35bbc9f",
   "metadata": {},
   "outputs": [],
   "source": [
    "ML_adata.obs.cell_type.value_counts()"
   ]
  },
  {
   "cell_type": "code",
   "execution_count": null,
   "id": "22a57bdd",
   "metadata": {},
   "outputs": [],
   "source": [
    "ML_adata.X.shape"
   ]
  },
  {
   "cell_type": "code",
   "execution_count": null,
   "id": "34c5a5a7",
   "metadata": {},
   "outputs": [],
   "source": [
    "sc.pp.filter_genes(ML_adata, min_cells = 150)"
   ]
  },
  {
   "cell_type": "code",
   "execution_count": null,
   "id": "e1ed7971",
   "metadata": {},
   "outputs": [],
   "source": [
    "sc.pp.highly_variable_genes(ML_adata, layer = 'log1p_norm', n_top_genes = 1000)"
   ]
  },
  {
   "cell_type": "code",
   "execution_count": null,
   "id": "eec85593",
   "metadata": {},
   "outputs": [],
   "source": [
    "ML_adata.var.highly_variable.value_counts()"
   ]
  },
  {
   "cell_type": "code",
   "execution_count": null,
   "id": "72a02cc0",
   "metadata": {},
   "outputs": [],
   "source": [
    "ML_adata = ML_adata[:, ML_adata.var[\"highly_variable\"]]"
   ]
  },
  {
   "cell_type": "code",
   "execution_count": null,
   "id": "73c42a50",
   "metadata": {},
   "outputs": [],
   "source": [
    "#should have 1000 most variable genes\n",
    "ML_adata.X.shape"
   ]
  },
  {
   "cell_type": "markdown",
   "id": "1889f827",
   "metadata": {},
   "source": [
    "## transforming labels to numbers"
   ]
  },
  {
   "cell_type": "code",
   "execution_count": null,
   "id": "6c9a1264",
   "metadata": {},
   "outputs": [],
   "source": [
    "def label_G0(x):\n",
    "    if x == 'G0 arrested':\n",
    "        return(1)\n",
    "    else:\n",
    "        return(0)"
   ]
  },
  {
   "cell_type": "code",
   "execution_count": null,
   "id": "c3de7af0",
   "metadata": {},
   "outputs": [],
   "source": [
    "X = ML_adata.X"
   ]
  },
  {
   "cell_type": "code",
   "execution_count": null,
   "id": "bce40985",
   "metadata": {},
   "outputs": [],
   "source": [
    "y = ML_adata.obs.cell_type.map(label_G0)"
   ]
  },
  {
   "cell_type": "code",
   "execution_count": null,
   "id": "e288e3cc",
   "metadata": {},
   "outputs": [],
   "source": [
    "y.value_counts()"
   ]
  },
  {
   "cell_type": "markdown",
   "id": "f5a5dd3b",
   "metadata": {},
   "source": [
    "## Train-test splitting data"
   ]
  },
  {
   "cell_type": "code",
   "execution_count": null,
   "id": "d23dffdb",
   "metadata": {},
   "outputs": [],
   "source": [
    "#create testing and training datasets\n",
    "X_train, X_test, y_train, y_test = train_test_split(X, y, test_size=0.2, random_state = 42)"
   ]
  },
  {
   "cell_type": "markdown",
   "id": "480d0966",
   "metadata": {},
   "source": [
    "## Random forest - SC"
   ]
  },
  {
   "cell_type": "code",
   "execution_count": null,
   "id": "9e407fd4",
   "metadata": {},
   "outputs": [],
   "source": [
    "param_dist = {'bootstrap': [True, False],\n",
    "              'max_depth': [10, 20, 30, 40, 50, 60, 70, 80, 90, 100, 110, None],\n",
    "              'max_features': ['auto', 'sqrt'],\n",
    "              'min_samples_leaf': [1, 2, 4],\n",
    "              'min_samples_split': [2, 5, 10],\n",
    "              'n_estimators': [100, 150, 200, 250, 500, 750, 1000] \n",
    "              }\n",
    "\n",
    "rf = RandomForestClassifier(criterion='gini', random_state= 42)\n",
    "\n",
    "rand_search = RandomizedSearchCV(rf, \n",
    "                                 param_distributions = param_dist, \n",
    "                                 n_iter=1000, \n",
    "                                 cv=5)\n",
    "\n",
    "rand_search.fit(X_train, y_train)"
   ]
  },
  {
   "cell_type": "code",
   "execution_count": null,
   "id": "3f07ed49",
   "metadata": {},
   "outputs": [],
   "source": [
    "#save the best model\n",
    "best_rf = rand_search.best_estimator_\n",
    "\n",
    "#output model params\n",
    "print(rand_search.best_params_)"
   ]
  },
  {
   "cell_type": "code",
   "execution_count": null,
   "id": "ef37cd68",
   "metadata": {},
   "outputs": [],
   "source": [
    "#manually set best_RF from above in case reset environment\n",
    "#best_rf = RandomForestClassifier(criterion='gini', random_state= 42, n_estimators = 250, min_samples_split = 2, min_samples_leaf = 4, max_depth = 50, bootstrap = True,max_features='sqrt')\n",
    "#best_rf.fit(X_train, y_train)"
   ]
  },
  {
   "cell_type": "code",
   "execution_count": null,
   "id": "46465b17",
   "metadata": {},
   "outputs": [],
   "source": [
    "#get predictions for best performing model\n",
    "y_pred = best_rf.predict(X_test)\n",
    "\n",
    "#create and plot confusion matrix\n",
    "cm = confusion_matrix(y_test, y_pred)\n",
    "ConfusionMatrixDisplay(confusion_matrix=cm).plot();"
   ]
  },
  {
   "cell_type": "code",
   "execution_count": null,
   "id": "39c1830a",
   "metadata": {},
   "outputs": [],
   "source": [
    "y_pred = best_rf.predict(X_test)\n",
    "\n",
    "probs_rf = best_rf.predict_proba(X_test) [:,1]\n",
    "\n",
    "accuracy = accuracy_score(y_test, y_pred)\n",
    "print(accuracy)\n"
   ]
  },
  {
   "cell_type": "code",
   "execution_count": null,
   "id": "78bf475b",
   "metadata": {},
   "outputs": [],
   "source": [
    "RF_feature_importances = pd.DataFrame(best_rf.feature_importances_,\n",
    "             index=ML_adata.var_names).sort_values(0, ascending=False)"
   ]
  },
  {
   "cell_type": "code",
   "execution_count": null,
   "id": "47f15339",
   "metadata": {},
   "outputs": [],
   "source": [
    "RF_feature_importances"
   ]
  },
  {
   "cell_type": "markdown",
   "id": "98141db3",
   "metadata": {},
   "source": [
    "## XGBoost"
   ]
  },
  {
   "cell_type": "code",
   "execution_count": null,
   "id": "5146ccd8",
   "metadata": {},
   "outputs": [],
   "source": [
    "from xgboost import XGBClassifier"
   ]
  },
  {
   "cell_type": "code",
   "execution_count": null,
   "id": "1f11b6f7",
   "metadata": {},
   "outputs": [],
   "source": [
    "params = {\n",
    "              'n_estimators': [100, 150, 200, 250, 500, 750, 1000] ,\n",
    "              'max_depth': [10, 20, 30, 40, 50, 60, 70, 80, 90, 100, 110, None],\n",
    "              'subsample': [0.5, 0.6, 0.7, 0.8, 0.9, 1.0],\n",
    "              'learning_rate':[0.001, 0.01, 0.1, 0.2, 0.3],\n",
    "              'colsample_bytree': [0.4, 0.5, 0.6, 0.7, 0.8, 0.9, 1.0],\n",
    "              'colsample_bylevel': [0.4, 0.5, 0.6, 0.7, 0.8, 0.9, 1.0],\n",
    "              'min_child_weight': [0.5, 1.0, 3.0, 5.0, 7.0, 10.0],\n",
    "              'gamma': [0, 0.25, 0.5, 1.0],\n",
    "              'reg_lambda': [0.1, 1.0, 5.0, 10.0, 50.0, 100.0],\n",
    "              }\n",
    "\n",
    "XGB = XGBClassifier(random_state = 42)\n",
    "\n",
    "rand_search_XGB = RandomizedSearchCV(XGB, \n",
    "                                 param_distributions = params, \n",
    "                                 n_iter=1000, \n",
    "                                 cv=5,\n",
    "                                 scoring = \"accuracy\")\n",
    "\n",
    "rand_search_XGB.fit(X_train, y_train)"
   ]
  },
  {
   "cell_type": "code",
   "execution_count": null,
   "id": "3f1bdef8",
   "metadata": {},
   "outputs": [],
   "source": [
    "#save the best model\n",
    "best_XGB = rand_search_XGB.best_estimator_\n",
    "\n",
    "#output model params\n",
    "print(rand_search_XGB.best_params_)"
   ]
  },
  {
   "cell_type": "code",
   "execution_count": null,
   "id": "d5dc57da",
   "metadata": {},
   "outputs": [],
   "source": [
    "#manual best XGB in case reset env\n",
    "#best_XGB = XGBClassifier(subsample = 0.6, reg_lambda = 0.1, n_estimators = 100, min_child_weight = 1.0, max_depth = 30, learning_rate = 0.01, gamma = 0, colsample_bytree = 0.6, colsample_bylevel = 0.6, random_state = 42)\n",
    "#best_XGB.fit(X_train, y_train)"
   ]
  },
  {
   "cell_type": "code",
   "execution_count": null,
   "id": "b4e564cd",
   "metadata": {},
   "outputs": [],
   "source": [
    "#get predictions for best performing model\n",
    "predictions = best_XGB.predict(X_test)\n",
    "\n",
    "#create and plot confusion matrix\n",
    "cm = confusion_matrix(y_test, predictions)\n",
    "\n",
    "ConfusionMatrixDisplay(confusion_matrix=cm).plot();\n",
    "\n",
    "accuracy = accuracy_score(y_test, predictions)\n",
    "print(accuracy)"
   ]
  },
  {
   "cell_type": "code",
   "execution_count": null,
   "id": "3f36a9e7",
   "metadata": {},
   "outputs": [],
   "source": [
    "XGB_feature_importances = pd.DataFrame(best_XGB.feature_importances_,\n",
    "             index=ML_adata.var_names).sort_values(0, ascending=False)"
   ]
  },
  {
   "cell_type": "markdown",
   "id": "7cf0a81f",
   "metadata": {},
   "source": [
    "## SC - averaging feature importances"
   ]
  },
  {
   "cell_type": "code",
   "execution_count": null,
   "id": "17fb075f",
   "metadata": {},
   "outputs": [],
   "source": [
    "#convert the feature importance dfs to dictionaries so can use same averaging method as for the bulk ML data\n",
    "RF_feature_importances = RF_feature_importances.reset_index().rename(columns={\"index\":\"gene\"})\t\n",
    "XGB_feature_importances = XGB_feature_importances.reset_index().rename(columns={\"index\":\"gene\"})\t\n",
    "\n",
    "RF_feature_importances = dict(zip(RF_feature_importances['gene'], RF_feature_importances[0]))\n",
    "XGB_feature_importances = dict(zip(XGB_feature_importances['gene'], XGB_feature_importances[0]))"
   ]
  },
  {
   "cell_type": "code",
   "execution_count": null,
   "id": "d21fea74",
   "metadata": {},
   "outputs": [],
   "source": [
    "averaged_importances = {}\n",
    "\n",
    "for x in RF_feature_importances.keys():\n",
    "    if x in list(XGB_feature_importances.keys()):\n",
    "\n",
    "        XGB_importance = XGB_feature_importances[x]\n",
    "        RF_importance = RF_feature_importances[x]\n",
    "        mean_importance = (XGB_importance + RF_importance) / 2\n",
    "        \n",
    "        averaged_importances[x] = mean_importance"
   ]
  },
  {
   "cell_type": "code",
   "execution_count": null,
   "id": "aa0859ae",
   "metadata": {},
   "outputs": [],
   "source": [
    "ordered_importances = sorted(averaged_importances, key=averaged_importances.get, reverse=True)\n",
    "ordered_importancesimportance_df = pd.DataFrame(ordered_importances)\n",
    "importance_df = pd.DataFrame(ordered_importances)\n",
    "importance_df['mean_importance'] = importance_df[0].map(averaged_importances)"
   ]
  },
  {
   "cell_type": "code",
   "execution_count": null,
   "id": "360b0e50",
   "metadata": {},
   "outputs": [],
   "source": [
    "importance_df = importance_df.rename(columns={0: 'gene_name'})"
   ]
  },
  {
   "cell_type": "code",
   "execution_count": null,
   "id": "acbc9e9a",
   "metadata": {},
   "outputs": [],
   "source": [
    "importance_df.to_csv(\"SC_feature_importance.csv\", sep=\",\", index=True, header=True)"
   ]
  },
  {
   "cell_type": "code",
   "execution_count": null,
   "id": "cb21990a",
   "metadata": {},
   "outputs": [],
   "source": [
    "XGB_disp = RocCurveDisplay.from_estimator(best_XGB, X_test, y_test, ax=ax, alpha=0.8)\n",
    "ax = plt.gca()\n",
    "rfc_disp = RocCurveDisplay.from_estimator(best_rf, X_test, y_test, ax=ax, alpha=0.8)\n",
    "gb_disp.plot(ax=ax, alpha=0.8)\n",
    "plt.show()"
   ]
  }
 ],
 "metadata": {
  "kernelspec": {
   "display_name": "ML_env",
   "language": "python",
   "name": "python3"
  },
  "language_info": {
   "codemirror_mode": {
    "name": "ipython",
    "version": 3
   },
   "file_extension": ".py",
   "mimetype": "text/x-python",
   "name": "python",
   "nbconvert_exporter": "python",
   "pygments_lexer": "ipython3",
   "version": "3.13.2"
  }
 },
 "nbformat": 4,
 "nbformat_minor": 5
}
